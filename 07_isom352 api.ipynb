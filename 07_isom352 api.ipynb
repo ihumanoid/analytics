{
 "cells": [
  {
   "cell_type": "code",
   "execution_count": null,
   "metadata": {},
   "outputs": [],
   "source": [
    "import requests\n",
    "from bs4 import BeautifulSoup\n",
    "myURL = requests.get(\"https://forums.edmunds.com/search?query=Tesla&scope=site&source=community\")\n",
    "h = myURL.text\n",
    "print(h)"
   ]
  },
  {
   "cell_type": "code",
   "execution_count": null,
   "metadata": {},
   "outputs": [],
   "source": [
    "soup = BeautifulSoup(h, \"html.parser\")\n",
    "#<span class=\"css-yjh1h7-TruncatedText-styles-truncated\">Alternative Tesla Model S Lease options?</span>\n",
    "text = soup.findAll('span',{'class':'css-yjh1h7-TruncatedText-styles-truncated'})\n",
    "print(text)\n",
    "for i in text:\n",
    "    print(i.text)"
   ]
  },
  {
   "cell_type": "code",
   "execution_count": 12,
   "metadata": {},
   "outputs": [],
   "source": [
    "import requests\n",
    "from bs4 import BeautifulSoup\n",
    "myURL = requests.get(\"http://api.openweathermap.org/data/2.5/weather?q=Atlanta&appid=b82090a525c22e082da4c85eca460480\")\n",
    "h = myURL.text\n"
   ]
  },
  {
   "cell_type": "code",
   "execution_count": 17,
   "metadata": {},
   "outputs": [
    {
     "name": "stdout",
     "output_type": "stream",
     "text": [
      "287.38\n"
     ]
    }
   ],
   "source": [
    "import json\n",
    "j = json.loads(h)\n",
    "print(j['main']['temp'])"
   ]
  },
  {
   "cell_type": "code",
   "execution_count": 19,
   "metadata": {},
   "outputs": [
    {
     "name": "stdout",
     "output_type": "stream",
     "text": [
      "{'base': 'stations',\n",
      " 'clouds': {'all': 0},\n",
      " 'cod': 200,\n",
      " 'coord': {'lat': 33.749, 'lon': -84.388},\n",
      " 'dt': 1666286115,\n",
      " 'id': 4180439,\n",
      " 'main': {'feels_like': 285.64,\n",
      "          'humidity': 30,\n",
      "          'pressure': 1019,\n",
      "          'temp': 287.38,\n",
      "          'temp_max': 289.59,\n",
      "          'temp_min': 285.83},\n",
      " 'name': 'Atlanta',\n",
      " 'sys': {'country': 'US',\n",
      "         'id': 2006620,\n",
      "         'sunrise': 1666266375,\n",
      "         'sunset': 1666306685,\n",
      "         'type': 2},\n",
      " 'timezone': -14400,\n",
      " 'visibility': 10000,\n",
      " 'weather': [{'description': 'clear sky',\n",
      "              'icon': '01d',\n",
      "              'id': 800,\n",
      "              'main': 'Clear'}],\n",
      " 'wind': {'deg': 260, 'gust': 9.77, 'speed': 3.6}}\n"
     ]
    }
   ],
   "source": [
    "import pprint\n",
    "pprint.pprint(j)"
   ]
  },
  {
   "cell_type": "code",
   "execution_count": 27,
   "metadata": {},
   "outputs": [
    {
     "name": "stdout",
     "output_type": "stream",
     "text": [
      "'659 Auburn Ave NE'\n",
      "{'businesses': [{'alias': 'glide-pizza-atlanta',\n",
      "                 'categories': [{'alias': 'pizza', 'title': 'Pizza'}],\n",
      "                 'coordinates': {'latitude': 33.7560556,\n",
      "                                 'longitude': -84.36634959999999},\n",
      "                 'display_phone': '',\n",
      "                 'distance': 6391.1025872746,\n",
      "                 'id': 'oHUyOUoStLzdteE1DyKNbA',\n",
      "                 'image_url': 'https://s3-media3.fl.yelpcdn.com/bphoto/iG_pio6Cq01Q29yxwg-Ekg/o.jpg',\n",
      "                 'is_closed': False,\n",
      "                 'location': {'address1': '659 Auburn Ave NE',\n",
      "                              'address2': '',\n",
      "                              'address3': None,\n",
      "                              'city': 'Atlanta',\n",
      "                              'country': 'US',\n",
      "                              'display_address': ['659 Auburn Ave NE',\n",
      "                                                  'Atlanta, GA 30312'],\n",
      "                              'state': 'GA',\n",
      "                              'zip_code': '30312'},\n",
      "                 'name': 'Glide Pizza',\n",
      "                 'phone': '',\n",
      "                 'rating': 4.5,\n",
      "                 'review_count': 108,\n",
      "                 'transactions': ['delivery'],\n",
      "                 'url': 'https://www.yelp.com/biz/glide-pizza-atlanta?adjust_creative=mAbb0z3ojDXlDW08uDvE7A&utm_campaign=yelp_api_v3&utm_medium=api_v3_business_search&utm_source=mAbb0z3ojDXlDW08uDvE7A'}],\n",
      " 'region': {'center': {'latitude': 33.81321311652279,\n",
      "                       'longitude': -84.37362670898438}},\n",
      " 'total': 2500}\n"
     ]
    }
   ],
   "source": [
    "from yelpapi import YelpAPI\n",
    "from pprint import pprint\n",
    "api_key = open(\"yelp_key.txt\", \"r\").readline().strip()\n",
    "\n",
    "yelp_api = YelpAPI(api_key)\n",
    "response = yelp_api.search_query(term='pizza',\n",
    "                                 location='atlanta, ga',\n",
    "                                 sort_by='rating', limit=1)\n",
    "pprint(response['businesses'][0]['location']['address1'])\n",
    "pprint(response)\n"
   ]
  },
  {
   "cell_type": "code",
   "execution_count": 24,
   "metadata": {},
   "outputs": [
    {
     "name": "stdout",
     "output_type": "stream",
     "text": [
      "⚰️Lil Bleach🤑🔫:RT @Rap: Kanye calls Joe Biden “f*cking r*tarded” for not having meetings with Elon Musk 😳‼️ https://t.co/iapiHHpscw\n",
      "lifeesizeeedol:RT @dondatimes: Kanye calls Biden 'F***ing' R-Word for not working with Elon Musk https://t.co/ilYcJzjGKD\n",
      "Brian Perry:This man has the IQ of a turnip.\n",
      "\n",
      "Kanye West is ripping President Biden for not picking Elon Musk's brain, and usin… https://t.co/gsbH2JzSgR\n",
      "Midnight Ninja:RT @dondatimes: Kanye calls Biden 'F***ing' R-Word for not working with Elon Musk https://t.co/ilYcJzjGKD\n",
      "swissbusiness:Elon Musk's new perfume stinks... literally https://t.co/DyFsLOKf9C\n",
      "TATIANA MUSK:RT @MuskUniversity: [SpaceX joke] “When people ask me why I started a rocket company, I say, ‘I was trying to learn how to turn a large for…\n",
      "reality._.lunaymoon ☀️:RT @love1212viloet: @OliverMoy oli did you go to space with elon musk without telling us 🤨\n",
      "DP973:RT @dondatimes: Kanye calls Biden 'F***ing' R-Word for not working with Elon Musk https://t.co/ilYcJzjGKD\n",
      "Ivanova:@elonmusk @PPathole @EvaFoxU @DavidSacks Please answer my post!🙏\n",
      "I want to win a Tesla, there is a competition and… https://t.co/fsUES6Enl9\n",
      "JL Toledo:RT @BFriedmanDC: Imagine seeing Donald Trump, Kanye West, Elon Musk, Tucker Carlson, Tulsi Gabbard, Russia, Saudi Arabia and Marjorie Taylo…\n",
      "Niwamanya Robert:RT @BillyM2k: did elon musk name these new covid variants https://t.co/xOCXizmOvu\n",
      "ale:RT @Rap: Kanye calls Joe Biden “f*cking r*tarded” for not having meetings with Elon Musk 😳‼️ https://t.co/iapiHHpscw\n",
      "Dharmapāla bum:RT @BFriedmanDC: Imagine seeing Donald Trump, Kanye West, Elon Musk, Tucker Carlson, Tulsi Gabbard, Russia, Saudi Arabia and Marjorie Taylo…\n",
      "🎃👻Toby Edison 🏹:@ade_sobowale85 @MelaninSaladeen @AngyB1970 So Elon Musk? 🤣\n"
     ]
    }
   ],
   "source": [
    "import tweepy\n",
    "\n",
    "passfile = open(\"twitter_pass2.txt\", \"r\")\n",
    "akey = passfile.readline().rstrip('\\n')\n",
    "asecret = passfile.readline().rstrip('\\n')\n",
    "atoken = passfile.readline().rstrip('\\n')\n",
    "atsecret = passfile.readline().rstrip('\\n')\n",
    "\n",
    "# Authenticate to Twitter\n",
    "auth = tweepy.OAuthHandler(akey, asecret)\n",
    "auth.set_access_token(atoken, atsecret)\n",
    "\n",
    "api = tweepy.API(auth)\n",
    "api.verify_credentials()\n",
    "\n",
    "for tweet in api.search(q=\"elon musk\", lang=\"en\", rpp=10):\n",
    "    print(f\"{tweet.user.name}:{tweet.text}\")\n"
   ]
  },
  {
   "cell_type": "code",
   "execution_count": 25,
   "metadata": {},
   "outputs": [
    {
     "name": "stdout",
     "output_type": "stream",
     "text": [
      "Status(_api=<tweepy.api.API object at 0x083B61F0>, _json={'created_at': 'Thu Oct 20 17:43:12 +0000 2022', 'id': 1583151862194130944, 'id_str': '1583151862194130944', 'text': '@ade_sobowale85 @MelaninSaladeen @AngyB1970 So Elon Musk? 🤣', 'truncated': False, 'entities': {'hashtags': [], 'symbols': [], 'user_mentions': [{'screen_name': 'ade_sobowale85', 'name': 'HUMBLE PANDA', 'id': 1570521952611172357, 'id_str': '1570521952611172357', 'indices': [0, 15]}, {'screen_name': 'MelaninSaladeen', 'name': 'saladeen melanin', 'id': 1487667733651148800, 'id_str': '1487667733651148800', 'indices': [16, 32]}, {'screen_name': 'AngyB1970', 'name': 'Ms. Angela', 'id': 1481800787013607428, 'id_str': '1481800787013607428', 'indices': [33, 43]}], 'urls': []}, 'metadata': {'iso_language_code': 'en', 'result_type': 'recent'}, 'source': '<a href=\"http://twitter.com/download/android\" rel=\"nofollow\">Twitter for Android</a>', 'in_reply_to_status_id': 1583144338967576576, 'in_reply_to_status_id_str': '1583144338967576576', 'in_reply_to_user_id': 1570521952611172357, 'in_reply_to_user_id_str': '1570521952611172357', 'in_reply_to_screen_name': 'ade_sobowale85', 'user': {'id': 2938190381, 'id_str': '2938190381', 'name': '🎃👻Toby Edison 🏹', 'screen_name': 'JohnBrownUnit', 'location': '🇬🇧', 'description': 'Replacing the SoWS 👺 With a System of Justice! ⚖ - Neely Fuller Jr. 👴🏾 | #BLM #B1 ✊🏿 | A Diasporan 🌎 Supporting 🤝🏿#FBAs #NBAs #ADOS #DACS #Freedmen 🇺🇸', 'url': None, 'entities': {'description': {'urls': []}}, 'protected': False, 'followers_count': 102, 'friends_count': 1571, 'listed_count': 1, 'created_at': 'Tue Dec 23 11:32:41 +0000 2014', 'favourites_count': 875, 'utc_offset': None, 'time_zone': None, 'geo_enabled': False, 'verified': False, 'statuses_count': 11092, 'lang': None, 'contributors_enabled': False, 'is_translator': False, 'is_translation_enabled': False, 'profile_background_color': '000000', 'profile_background_image_url': 'http://abs.twimg.com/images/themes/theme1/bg.png', 'profile_background_image_url_https': 'https://abs.twimg.com/images/themes/theme1/bg.png', 'profile_background_tile': False, 'profile_image_url': 'http://pbs.twimg.com/profile_images/1508118352291667973/aPQ8HXcO_normal.jpg', 'profile_image_url_https': 'https://pbs.twimg.com/profile_images/1508118352291667973/aPQ8HXcO_normal.jpg', 'profile_banner_url': 'https://pbs.twimg.com/profile_banners/2938190381/1632656620', 'profile_link_color': 'FAB81E', 'profile_sidebar_border_color': '000000', 'profile_sidebar_fill_color': '000000', 'profile_text_color': '000000', 'profile_use_background_image': False, 'has_extended_profile': True, 'default_profile': False, 'default_profile_image': False, 'following': False, 'follow_request_sent': False, 'notifications': False, 'translator_type': 'none', 'withheld_in_countries': []}, 'geo': None, 'coordinates': None, 'place': None, 'contributors': None, 'is_quote_status': False, 'retweet_count': 0, 'favorite_count': 0, 'favorited': False, 'retweeted': False, 'lang': 'en'}, created_at=datetime.datetime(2022, 10, 20, 17, 43, 12), id=1583151862194130944, id_str='1583151862194130944', text='@ade_sobowale85 @MelaninSaladeen @AngyB1970 So Elon Musk? 🤣', truncated=False, entities={'hashtags': [], 'symbols': [], 'user_mentions': [{'screen_name': 'ade_sobowale85', 'name': 'HUMBLE PANDA', 'id': 1570521952611172357, 'id_str': '1570521952611172357', 'indices': [0, 15]}, {'screen_name': 'MelaninSaladeen', 'name': 'saladeen melanin', 'id': 1487667733651148800, 'id_str': '1487667733651148800', 'indices': [16, 32]}, {'screen_name': 'AngyB1970', 'name': 'Ms. Angela', 'id': 1481800787013607428, 'id_str': '1481800787013607428', 'indices': [33, 43]}], 'urls': []}, metadata={'iso_language_code': 'en', 'result_type': 'recent'}, source='Twitter for Android', source_url='http://twitter.com/download/android', in_reply_to_status_id=1583144338967576576, in_reply_to_status_id_str='1583144338967576576', in_reply_to_user_id=1570521952611172357, in_reply_to_user_id_str='1570521952611172357', in_reply_to_screen_name='ade_sobowale85', author=User(_api=<tweepy.api.API object at 0x083B61F0>, _json={'id': 2938190381, 'id_str': '2938190381', 'name': '🎃👻Toby Edison 🏹', 'screen_name': 'JohnBrownUnit', 'location': '🇬🇧', 'description': 'Replacing the SoWS 👺 With a System of Justice! ⚖ - Neely Fuller Jr. 👴🏾 | #BLM #B1 ✊🏿 | A Diasporan 🌎 Supporting 🤝🏿#FBAs #NBAs #ADOS #DACS #Freedmen 🇺🇸', 'url': None, 'entities': {'description': {'urls': []}}, 'protected': False, 'followers_count': 102, 'friends_count': 1571, 'listed_count': 1, 'created_at': 'Tue Dec 23 11:32:41 +0000 2014', 'favourites_count': 875, 'utc_offset': None, 'time_zone': None, 'geo_enabled': False, 'verified': False, 'statuses_count': 11092, 'lang': None, 'contributors_enabled': False, 'is_translator': False, 'is_translation_enabled': False, 'profile_background_color': '000000', 'profile_background_image_url': 'http://abs.twimg.com/images/themes/theme1/bg.png', 'profile_background_image_url_https': 'https://abs.twimg.com/images/themes/theme1/bg.png', 'profile_background_tile': False, 'profile_image_url': 'http://pbs.twimg.com/profile_images/1508118352291667973/aPQ8HXcO_normal.jpg', 'profile_image_url_https': 'https://pbs.twimg.com/profile_images/1508118352291667973/aPQ8HXcO_normal.jpg', 'profile_banner_url': 'https://pbs.twimg.com/profile_banners/2938190381/1632656620', 'profile_link_color': 'FAB81E', 'profile_sidebar_border_color': '000000', 'profile_sidebar_fill_color': '000000', 'profile_text_color': '000000', 'profile_use_background_image': False, 'has_extended_profile': True, 'default_profile': False, 'default_profile_image': False, 'following': False, 'follow_request_sent': False, 'notifications': False, 'translator_type': 'none', 'withheld_in_countries': []}, id=2938190381, id_str='2938190381', name='🎃👻Toby Edison 🏹', screen_name='JohnBrownUnit', location='🇬🇧', description='Replacing the SoWS 👺 With a System of Justice! ⚖ - Neely Fuller Jr. 👴🏾 | #BLM #B1 ✊🏿 | A Diasporan 🌎 Supporting 🤝🏿#FBAs #NBAs #ADOS #DACS #Freedmen 🇺🇸', url=None, entities={'description': {'urls': []}}, protected=False, followers_count=102, friends_count=1571, listed_count=1, created_at=datetime.datetime(2014, 12, 23, 11, 32, 41), favourites_count=875, utc_offset=None, time_zone=None, geo_enabled=False, verified=False, statuses_count=11092, lang=None, contributors_enabled=False, is_translator=False, is_translation_enabled=False, profile_background_color='000000', profile_background_image_url='http://abs.twimg.com/images/themes/theme1/bg.png', profile_background_image_url_https='https://abs.twimg.com/images/themes/theme1/bg.png', profile_background_tile=False, profile_image_url='http://pbs.twimg.com/profile_images/1508118352291667973/aPQ8HXcO_normal.jpg', profile_image_url_https='https://pbs.twimg.com/profile_images/1508118352291667973/aPQ8HXcO_normal.jpg', profile_banner_url='https://pbs.twimg.com/profile_banners/2938190381/1632656620', profile_link_color='FAB81E', profile_sidebar_border_color='000000', profile_sidebar_fill_color='000000', profile_text_color='000000', profile_use_background_image=False, has_extended_profile=True, default_profile=False, default_profile_image=False, following=False, follow_request_sent=False, notifications=False, translator_type='none', withheld_in_countries=[]), user=User(_api=<tweepy.api.API object at 0x083B61F0>, _json={'id': 2938190381, 'id_str': '2938190381', 'name': '🎃👻Toby Edison 🏹', 'screen_name': 'JohnBrownUnit', 'location': '🇬🇧', 'description': 'Replacing the SoWS 👺 With a System of Justice! ⚖ - Neely Fuller Jr. 👴🏾 | #BLM #B1 ✊🏿 | A Diasporan 🌎 Supporting 🤝🏿#FBAs #NBAs #ADOS #DACS #Freedmen 🇺🇸', 'url': None, 'entities': {'description': {'urls': []}}, 'protected': False, 'followers_count': 102, 'friends_count': 1571, 'listed_count': 1, 'created_at': 'Tue Dec 23 11:32:41 +0000 2014', 'favourites_count': 875, 'utc_offset': None, 'time_zone': None, 'geo_enabled': False, 'verified': False, 'statuses_count': 11092, 'lang': None, 'contributors_enabled': False, 'is_translator': False, 'is_translation_enabled': False, 'profile_background_color': '000000', 'profile_background_image_url': 'http://abs.twimg.com/images/themes/theme1/bg.png', 'profile_background_image_url_https': 'https://abs.twimg.com/images/themes/theme1/bg.png', 'profile_background_tile': False, 'profile_image_url': 'http://pbs.twimg.com/profile_images/1508118352291667973/aPQ8HXcO_normal.jpg', 'profile_image_url_https': 'https://pbs.twimg.com/profile_images/1508118352291667973/aPQ8HXcO_normal.jpg', 'profile_banner_url': 'https://pbs.twimg.com/profile_banners/2938190381/1632656620', 'profile_link_color': 'FAB81E', 'profile_sidebar_border_color': '000000', 'profile_sidebar_fill_color': '000000', 'profile_text_color': '000000', 'profile_use_background_image': False, 'has_extended_profile': True, 'default_profile': False, 'default_profile_image': False, 'following': False, 'follow_request_sent': False, 'notifications': False, 'translator_type': 'none', 'withheld_in_countries': []}, id=2938190381, id_str='2938190381', name='🎃👻Toby Edison 🏹', screen_name='JohnBrownUnit', location='🇬🇧', description='Replacing the SoWS 👺 With a System of Justice! ⚖ - Neely Fuller Jr. 👴🏾 | #BLM #B1 ✊🏿 | A Diasporan 🌎 Supporting 🤝🏿#FBAs #NBAs #ADOS #DACS #Freedmen 🇺🇸', url=None, entities={'description': {'urls': []}}, protected=False, followers_count=102, friends_count=1571, listed_count=1, created_at=datetime.datetime(2014, 12, 23, 11, 32, 41), favourites_count=875, utc_offset=None, time_zone=None, geo_enabled=False, verified=False, statuses_count=11092, lang=None, contributors_enabled=False, is_translator=False, is_translation_enabled=False, profile_background_color='000000', profile_background_image_url='http://abs.twimg.com/images/themes/theme1/bg.png', profile_background_image_url_https='https://abs.twimg.com/images/themes/theme1/bg.png', profile_background_tile=False, profile_image_url='http://pbs.twimg.com/profile_images/1508118352291667973/aPQ8HXcO_normal.jpg', profile_image_url_https='https://pbs.twimg.com/profile_images/1508118352291667973/aPQ8HXcO_normal.jpg', profile_banner_url='https://pbs.twimg.com/profile_banners/2938190381/1632656620', profile_link_color='FAB81E', profile_sidebar_border_color='000000', profile_sidebar_fill_color='000000', profile_text_color='000000', profile_use_background_image=False, has_extended_profile=True, default_profile=False, default_profile_image=False, following=False, follow_request_sent=False, notifications=False, translator_type='none', withheld_in_countries=[]), geo=None, coordinates=None, place=None, contributors=None, is_quote_status=False, retweet_count=0, favorite_count=0, favorited=False, retweeted=False, lang='en')\n"
     ]
    }
   ],
   "source": [
    "pprint(tweet)"
   ]
  }
 ],
 "metadata": {
  "kernelspec": {
   "display_name": "Python 3.8.5 32-bit",
   "language": "python",
   "name": "python3"
  },
  "language_info": {
   "codemirror_mode": {
    "name": "ipython",
    "version": 3
   },
   "file_extension": ".py",
   "mimetype": "text/x-python",
   "name": "python",
   "nbconvert_exporter": "python",
   "pygments_lexer": "ipython3",
   "version": "3.8.5"
  },
  "orig_nbformat": 4,
  "vscode": {
   "interpreter": {
    "hash": "6d1e45cadc3597bb8b6600530fbdf8c3eefe919a24ef54d9d32b318795b772e0"
   }
  }
 },
 "nbformat": 4,
 "nbformat_minor": 2
}
