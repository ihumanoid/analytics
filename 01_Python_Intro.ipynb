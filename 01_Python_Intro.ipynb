{
  "nbformat": 4,
  "nbformat_minor": 0,
  "metadata": {
    "colab": {
      "name": "01 - Python Intro.ipynb",
      "provenance": [],
      "authorship_tag": "ABX9TyPwlWUQ97AQhccyW6hHFoF3",
      "include_colab_link": true
    },
    "kernelspec": {
      "name": "python3",
      "display_name": "Python 3"
    },
    "language_info": {
      "name": "python"
    }
  },
  "cells": [
    {
      "cell_type": "markdown",
      "metadata": {
        "id": "view-in-github",
        "colab_type": "text"
      },
      "source": [
        "<a href=\"https://colab.research.google.com/github/ihumanoid/analytics/blob/main/01_Python_Intro.ipynb\" target=\"_parent\"><img src=\"https://colab.research.google.com/assets/colab-badge.svg\" alt=\"Open In Colab\"/></a>"
      ]
    },
    {
      "cell_type": "code",
      "execution_count": null,
      "metadata": {
        "id": "gqHCJGTjxlWy"
      },
      "outputs": [],
      "source": [
        ""
      ]
    },
    {
      "cell_type": "markdown",
      "source": [
        "WHY CODING?\n",
        "https://www.ceosforcs.com/\n",
        "\n",
        "Steve Jobs: “Everybody should learn to program a computer, because it teaches you how to think\"\n",
        "\n",
        "Tim Cook: “Coding is one of the most valuable skills a person can learn, it can open new doors, jumpstart careers, and help big dreams seem like achievable goals.”\n",
        "\n",
        "Bill Gates: “When I was 13, computer science changed the course of my life, I was really lucky to have access to a computer that early on. I hope this initiative will give every student the same opportunity.”"
      ],
      "metadata": {
        "id": "tvvsRFsxxqIa"
      }
    }
  ]
}