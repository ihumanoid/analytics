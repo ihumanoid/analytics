{
 "cells": [
  {
   "cell_type": "code",
   "execution_count": null,
   "metadata": {},
   "outputs": [],
   "source": [
    "f = open(\"my_first_file.txt\", \"w\")\n",
    "f.write(\"Hello World\")\n",
    "f.close()"
   ]
  },
  {
   "cell_type": "code",
   "execution_count": null,
   "metadata": {},
   "outputs": [],
   "source": [
    "a = [1,2,3,4,5]\n",
    "f = open(\"my_first_file.txt\", \"w\")\n",
    "f.write(str(a))\n",
    "f.close()"
   ]
  },
  {
   "cell_type": "code",
   "execution_count": null,
   "metadata": {},
   "outputs": [],
   "source": [
    "a = {\"name\":\"zach\", \"skill\":\"python\"}\n",
    "f = open(\"my_first_file.txt\", \"w\")\n",
    "f.write(str(a))\n",
    "f.close()"
   ]
  },
  {
   "cell_type": "code",
   "execution_count": null,
   "metadata": {},
   "outputs": [],
   "source": [
    "#APPEND TO FILE\n",
    "f = open(\"my_first_file.txt\", \"a\")\n",
    "f.write(\"\\n\")\n",
    "f.write(\"Hello World\")\n",
    "f.close()"
   ]
  },
  {
   "cell_type": "code",
   "execution_count": null,
   "metadata": {},
   "outputs": [],
   "source": [
    "productlist = [['apple', 3.50, 4.99],\n",
    "               ['orange',0.87, 1.49],\n",
    "               ['milk',2.68, 3.99],\n",
    "               ['bread',1.41, 1.99],\n",
    "               ['beer',9.90, 19.99],\n",
    "               ['diaper',18.21, 29.99]]\n",
    "f = open(\"my_first_file.csv\", \"w\")\n",
    "\n",
    "for item in productlist:\n",
    "    line_to_write = f\"{item[0]},{str(item[1])},{str(item[2])}\\n\"\n",
    "    print(line_to_write)\n",
    "    f.write(line_to_write)\n",
    "\n",
    "f.close()\n"
   ]
  },
  {
   "cell_type": "code",
   "execution_count": null,
   "metadata": {},
   "outputs": [],
   "source": [
    "f = open(\"my_first_file.csv\", \"a\")\n",
    "f.write(\"toothpaste,1.95,3.49,120\\n\")\n",
    "f.close()"
   ]
  },
  {
   "cell_type": "code",
   "execution_count": null,
   "metadata": {},
   "outputs": [],
   "source": [
    "#WRITE WITH CSV LIBRARY\n",
    "\n",
    "import csv\n",
    "\n",
    "f = open(\"my_first_file.csv\", \"w\")\n",
    "#f = open(\"my_first_file.csv\", \"w\", newline='')\n",
    "csvfile = csv.writer(f)\n",
    "\n",
    "for item in productlist:\n",
    "    print(item)\n",
    "    csvfile.writerow(item)\n",
    "        \n",
    "f.close()"
   ]
  },
  {
   "cell_type": "code",
   "execution_count": null,
   "metadata": {},
   "outputs": [],
   "source": [
    "import openpyxl\n",
    "\n",
    "wb = openpyxl.Workbook()\n",
    "ws = wb.create_sheet(title=\"products\")\n",
    "\n",
    "for row in range(1, 7):\n",
    "    for col in range(1, 4):\n",
    "        cell = ws.cell(row, col)\n",
    "        cell.value = productlist[row-1][col-1]\n",
    "        print(cell.value)\n",
    "\n",
    "wb.save(filename = 'my_first_file.xlsx')"
   ]
  },
  {
   "cell_type": "code",
   "execution_count": 14,
   "metadata": {},
   "outputs": [
    {
     "name": "stdout",
     "output_type": "stream",
     "text": [
      "<class 'dict'> {'name': 'zach', 'skill': 'python'}\n",
      "<class 'dict'> {'name': 'zach', 'skill': 'python'}\n"
     ]
    }
   ],
   "source": [
    "import json\n",
    "\n",
    "a = {\"name\":\"zach\", \"skill\":\"python\"}\n",
    "b = json.loads('{\"name\":\"zach\", \"skill\":\"python\"}')\n",
    "print(type(a), a)\n",
    "print(type(b), b)"
   ]
  },
  {
   "cell_type": "code",
   "execution_count": 17,
   "metadata": {},
   "outputs": [
    {
     "name": "stdout",
     "output_type": "stream",
     "text": [
      "{\"people\": [{\"name\": \"Bill\", \"website\": \"microsoft.com\", \"from\": \"Washington\"}, {\"name\": \"Larry\", \"website\": \"google.com\", \"from\": \"Michigan\"}, {\"name\": \"Tim\", \"website\": \"apple.com\", \"from\": \"Alabama\"}]}\n"
     ]
    }
   ],
   "source": [
    "data = {}\n",
    "data['people'] = []\n",
    "\n",
    "data['people'].append({\n",
    "    'name': 'Bill',\n",
    "    'website': 'microsoft.com',\n",
    "    'from': 'Washington'\n",
    "})\n",
    "\n",
    "data['people'].append({\n",
    "    'name': 'Larry',\n",
    "    'website': 'google.com',\n",
    "    'from': 'Michigan'\n",
    "})\n",
    "\n",
    "data['people'].append({\n",
    "    'name': 'Tim',\n",
    "    'website': 'apple.com',\n",
    "    'from': 'Alabama'\n",
    "})\n",
    "\n",
    "f = open('my_first_file.json', 'w')\n",
    "json.dump(data, f)\n",
    "print(json.dumps(data))\n",
    "f.close()"
   ]
  }
 ],
 "metadata": {
  "kernelspec": {
   "display_name": "Python 3.8.5 32-bit",
   "language": "python",
   "name": "python3"
  },
  "language_info": {
   "codemirror_mode": {
    "name": "ipython",
    "version": 3
   },
   "file_extension": ".py",
   "mimetype": "text/x-python",
   "name": "python",
   "nbconvert_exporter": "python",
   "pygments_lexer": "ipython3",
   "version": "3.8.5"
  },
  "orig_nbformat": 4,
  "vscode": {
   "interpreter": {
    "hash": "6d1e45cadc3597bb8b6600530fbdf8c3eefe919a24ef54d9d32b318795b772e0"
   }
  }
 },
 "nbformat": 4,
 "nbformat_minor": 2
}
