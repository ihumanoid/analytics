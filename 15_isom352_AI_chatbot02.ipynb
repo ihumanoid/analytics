{
 "cells": [
  {
   "cell_type": "code",
   "execution_count": 1,
   "metadata": {},
   "outputs": [],
   "source": [
    "import pandas as pd\n",
    "from nltk.tokenize import WordPunctTokenizer\n",
    "from sklearn.feature_extraction.text import CountVectorizer\n",
    "# TEXT PREPROCESSING\n",
    "data=pd.read_csv('datasets/moviereviews_train.tsv', sep='\\t')\n",
    "tk = WordPunctTokenizer()\n",
    "cv = CountVectorizer(lowercase=True,stop_words='english',ngram_range = (1,1),tokenizer = tk.tokenize)\n",
    "text_counts = cv.fit_transform(data['Phrase'])\n"
   ]
  },
  {
   "cell_type": "code",
   "execution_count": 2,
   "metadata": {},
   "outputs": [
    {
     "name": "stdout",
     "output_type": "stream",
     "text": [
      "MultinomialNB Accuracy: 0.6058780810799266\n"
     ]
    }
   ],
   "source": [
    "from sklearn.model_selection import train_test_split\n",
    "from sklearn.naive_bayes import MultinomialNB\n",
    "from sklearn import metrics\n",
    "\n",
    "X_train, X_test, y_train, y_test = train_test_split(text_counts, data['Sentiment'], test_size=0.3, random_state=42)\n",
    "nb = MultinomialNB().fit(X_train, y_train)\n",
    "predicted= nb.predict(X_test)\n",
    "print(\"MultinomialNB Accuracy:\",metrics.accuracy_score(y_test, predicted))\n"
   ]
  },
  {
   "cell_type": "code",
   "execution_count": 3,
   "metadata": {},
   "outputs": [
    {
     "data": {
      "text/plain": [
       "array([3], dtype=int64)"
      ]
     },
     "execution_count": 3,
     "metadata": {},
     "output_type": "execute_result"
    }
   ],
   "source": [
    "txt = [\"He felt that his whole life was some kind of dream and he sometimes wondered whose it was and whether they were enjoying it.\"]\n",
    "cvt = cv.transform(txt)\n",
    "nb.predict(cvt)"
   ]
  },
  {
   "cell_type": "code",
   "execution_count": 3,
   "metadata": {},
   "outputs": [
    {
     "name": "stdout",
     "output_type": "stream",
     "text": [
      "The current time is 05:01 PM\n"
     ]
    }
   ],
   "source": [
    "from chatterbot import ChatBot\n",
    "import nltk\n",
    "\n",
    "bot = ChatBot(\n",
    "    'Math & Time Bot',\n",
    "    logic_adapters=[\n",
    "        'chatterbot.logic.MathematicalEvaluation',\n",
    "        'chatterbot.logic.TimeLogicAdapter'\n",
    "    ]\n",
    ")\n",
    "\n",
    "# Print an example of getting one math based response\n",
    "response = bot.get_response('What time now in california?')\n",
    "print(response)"
   ]
  },
  {
   "cell_type": "code",
   "execution_count": 5,
   "metadata": {},
   "outputs": [
    {
     "name": "stdout",
     "output_type": "stream",
     "text": [
      "Training conversations.yml: [####################] 100%\n",
      "How are you doing?\n",
      "What languages do you like to use?\n",
      "What is 4 + 9?\n",
      "What are you then?\n",
      "Can I help you with anything?\n"
     ]
    }
   ],
   "source": [
    "from chatterbot import ChatBot\n",
    "from chatterbot.trainers import ChatterBotCorpusTrainer\n",
    "\n",
    "bot = ChatBot(\n",
    "    \"Chat Bot\",\n",
    "    storage_adapter=\"chatterbot.storage.SQLStorageAdapter\",\n",
    "    database=\"botData.sqlite3\"\n",
    ")\n",
    "trainer = ChatterBotCorpusTrainer(bot)\n",
    "trainer.train(\"yaml/english/conversations.yml\")\n",
    "\n",
    "# Now let's get a response to a greeting\n",
    "ques = \"\"\n",
    "while ques != \"quit\":\n",
    "    ques = input(\">>\").strip()\n",
    "    response = bot.get_response(ques)\n",
    "    print(response)"
   ]
  }
 ],
 "metadata": {
  "kernelspec": {
   "display_name": "Python 3.7.9 64-bit",
   "language": "python",
   "name": "python3"
  },
  "language_info": {
   "codemirror_mode": {
    "name": "ipython",
    "version": 3
   },
   "file_extension": ".py",
   "mimetype": "text/x-python",
   "name": "python",
   "nbconvert_exporter": "python",
   "pygments_lexer": "ipython3",
   "version": "3.7.9"
  },
  "orig_nbformat": 4,
  "vscode": {
   "interpreter": {
    "hash": "a07fc5951599cf09338acfc6fb7bbcbcb37111fca42811b6661a1fdf9c6f2503"
   }
  }
 },
 "nbformat": 4,
 "nbformat_minor": 2
}
