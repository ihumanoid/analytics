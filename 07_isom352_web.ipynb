{
 "cells": [
  {
   "cell_type": "code",
   "execution_count": null,
   "metadata": {},
   "outputs": [],
   "source": [
    "import requests\n",
    "\n",
    "myURL = requests.get(\"http://www.google.com/\")\n",
    "html = myURL.text\n",
    "print(html)\n",
    "\n",
    "f = open(\"my_first_googhomepage.html\", \"w\")\n",
    "f.write(html)\n",
    "f.close()"
   ]
  },
  {
   "cell_type": "code",
   "execution_count": 2,
   "metadata": {},
   "outputs": [
    {
     "name": "stdout",
     "output_type": "stream",
     "text": [
      "<div class=\"pull-left\" id=\"current_conditions-summary\">\n",
      "<img alt=\"\" class=\"pull-left\" src=\"newimages/large/nsct.png\"/>\n",
      "<p class=\"myforecast-current\">Fair</p>\n",
      "<p class=\"myforecast-current-lrg\">53°F</p>\n",
      "<p class=\"myforecast-current-sm\">12°C</p>\n",
      "</div>\n"
     ]
    }
   ],
   "source": [
    "import requests\n",
    "from bs4 import BeautifulSoup\n",
    "\n",
    "strURL = \"https://forecast.weather.gov/MapClick.php?lat=33.74831&lon=-84.39111\"\n",
    "myURL = requests.get(strURL)\n",
    "html = myURL.text\n",
    "\n",
    "#Extract weather information:\n",
    "soup = BeautifulSoup(html, 'html.parser')\n",
    "weather = soup.find('div',{'id':'current_conditions-summary'})\n",
    "print(weather)"
   ]
  },
  {
   "cell_type": "code",
   "execution_count": 3,
   "metadata": {},
   "outputs": [
    {
     "name": "stdout",
     "output_type": "stream",
     "text": [
      "['53°F']\n"
     ]
    }
   ],
   "source": [
    "import re\n",
    "\n",
    "print(re.findall(\"[0-9]+.F\", weather.text))"
   ]
  },
  {
   "cell_type": "code",
   "execution_count": 9,
   "metadata": {},
   "outputs": [
    {
     "name": "stdout",
     "output_type": "stream",
     "text": [
      "{\"coord\":{\"lon\":-84.388,\"lat\":33.749},\"weather\":[{\"id\":800,\"main\":\"Clear\",\"description\":\"clear sky\",\"icon\":\"01n\"}],\"base\":\"stations\",\"main\":{\"temp\":282.74,\"feels_like\":282.05,\"temp_min\":280.97,\"temp_max\":284.4,\"pressure\":1010,\"humidity\":49},\"visibility\":10000,\"wind\":{\"speed\":1.79,\"deg\":344,\"gust\":4.47},\"clouds\":{\"all\":0},\"dt\":1666072759,\"sys\":{\"type\":2,\"id\":2006620,\"country\":\"US\",\"sunrise\":1666093477,\"sunset\":1666134025},\"timezone\":-14400,\"id\":4180439,\"name\":\"Atlanta\",\"cod\":200}\n"
     ]
    }
   ],
   "source": [
    "import requests\n",
    "\n",
    "myKey = \"b82090a525c22e082da4c85eca460480\"\n",
    "myURL = requests.get(\"http://api.openweathermap.org/data/2.5/weather?q=Atlanta&appid=\"+myKey)\n",
    "html = myURL.text\n",
    "print(html)\n"
   ]
  },
  {
   "cell_type": "code",
   "execution_count": 17,
   "metadata": {},
   "outputs": [
    {
     "name": "stdout",
     "output_type": "stream",
     "text": [
      "9.590000000000032\n"
     ]
    }
   ],
   "source": [
    "import json\n",
    "j = json.loads(html)\n",
    "print(j['main']['temp']-273.15)\n"
   ]
  },
  {
   "cell_type": "code",
   "execution_count": 4,
   "metadata": {},
   "outputs": [
    {
     "name": "stdout",
     "output_type": "stream",
     "text": [
      "\n",
      "                    There's lots of mayhem, silliness, and wonderful comic bits. \n",
      "                \n",
      "\n",
      "                    Of course, it’s campy and fun. But despite lines about eating children, or teenagers, to achieve immortality, these witches are completely defanged.\n",
      "                \n",
      "\n",
      "                    A delightfully breezy sequel that knows the Sanderson sisters are the main draw and rightfully gives them the spotlight, even though this results in pretty slight characterizations for its teen protagonists\n",
      "                \n",
      "\n",
      "                    While the witches do manage to put a spell on us, their bewitching skills have taken a serious hit courtesy of a plot that doesn’t even try to find its footing.\n",
      "                \n",
      "\n",
      "                    Way better than any 29-years-later sequel has any right to be, Hocus Pocus 2 is a delightful, if slight, time. \n",
      "                \n",
      "\n",
      "                    The sequel has plenty of Easter eggs and nods to the original, but there's definitely some magic missing.\n",
      "                \n",
      "\n",
      "                    Hocus Pocus 2 is just as fun as its predecessor.\n",
      "                \n",
      "\n",
      "                     Overall, the film remains true to its source—juvenile but fun.\n",
      "                \n",
      "\n",
      "                    As soon as the trio turn up, Hocus Pocus 2 immediately becomes compelling and enjoyable.\n",
      "                \n",
      "\n",
      "                    In shedding the original's director, peppering the Salem scenery with CGI that looks garish instead of kitschy, and reuniting the oft-impersonated witch trio nearly 30 years later, something was bound to get lost. You can't brew the same potion twice. \n",
      "                \n",
      "\n",
      "                    The expectations should not be high because they never were high, but Hocus Pocus 2 is not memorable enough, nor exceeds the original to explain its bewitching existence.\n",
      "                \n",
      "\n",
      "                    It’s very broad and cornball, but then so was the original. \n",
      "                \n",
      "\n",
      "                    This joyless, witless, plotless and unfathomably worthless endeavour hasn’t a clue what it’s at, and I’m genuinely mortified for everyone involved. Diabolical stuff.\n",
      "                \n",
      "\n",
      "                    Hocus Pocus 2’s main selling point is the amount of love for the first film that has been poured into the second, excusing most quibbles.\n",
      "                \n",
      "\n",
      "                    This is a nostalgic sequel that actually has a reason to exist. The story has an interesting set of ideas and more heart than expected. It is familiar, but the Sanderson sisters are ridiculously entertaining.\n",
      "                \n",
      "\n",
      "                    It’s a fun and silly romp that should play very well with fans of the original film.\n",
      "                \n",
      "\n",
      "                    Hocus Pocus 2 plays to its followers with some references to the 1993 original, but you certainly don't have to have seen that film to enjoy this one, and the addition of modern-day teenagers could help draw in new followers.\n",
      "                \n",
      "\n",
      "                    I liked Hocus Pocus 2 for what it is but it is not nearly as good as it could or should have been. Fans will be satisfied and newcomers will be entertained, but in no way does this movie improve upon the original.\n",
      "                \n",
      "\n",
      "                    Luckily, there's enough sentimental magic to smooth over the rough narrative patches.\n",
      "                \n",
      "\n",
      "                    I'm thrilled the Sanderson sisters are back as Anne Fletcher’s directing decisions have paid off as the Halloween theme-based movie will have the younger fans screaming for more Hocus Pocus adventures, and this critic is fine with that.\n",
      "                \n"
     ]
    }
   ],
   "source": [
    "import requests\n",
    "from bs4 import BeautifulSoup\n",
    "\n",
    "strURL = \"https://www.rottentomatoes.com/m/hocus_pocus_2/reviews\"\n",
    "myURL = requests.get(strURL)\n",
    "html = myURL.text\n",
    "\n",
    "soup = BeautifulSoup(html, 'html.parser')\n",
    "reviews = soup.findAll('div',{'class':'the_review'})\n",
    "#THIS IS findAll vs find\n",
    "\n",
    "for review in reviews:\n",
    "    print(review.text)"
   ]
  },
  {
   "cell_type": "code",
   "execution_count": 18,
   "metadata": {},
   "outputs": [
    {
     "name": "stdout",
     "output_type": "stream",
     "text": [
      "Topp Hats Kickin Chicken topp-hats-kickin-chicken-atlanta 4\n",
      "Delicious Delights Cafe delicious-delights-cafe-queen-city 4\n",
      "Linden Public House II linden-public-house-ii-linden 1\n",
      "Chicken Express chicken-express-atlanta-2 12\n",
      "Dairy Queen dairy-queen-atlanta-25 10\n"
     ]
    }
   ],
   "source": [
    "from yelpapi import YelpAPI\n",
    "from pprint import pprint\n",
    "\n",
    "api_key = \"vsBo2tyYmqpQJjXpmEAAWndUFQ6h6L-28_Q13cXc2hFn5FnIAT1rJo_Fgre9F4Wj3RVrUeDto61xThViR47wZLlbH_Uw0NgVLmlisQnYLDVAenP0V5Td0caJZbliX3Yx\"\n",
    "\n",
    "yelp_api = YelpAPI(api_key)\n",
    "response = yelp_api.search_query(term='patio seating restaurant',\n",
    "                                 location='atlanta, tx',\n",
    "                                 sort_by='rating', limit=5)\n",
    "#pprint(response)\n",
    "\n",
    "for i in response[\"businesses\"]:\n",
    "    print(i[\"name\"], i[\"alias\"], i['review_count'])\n",
    "#    reviews = yelp_api.reviews_query(id=i[\"alias\"])\n",
    "#    for j in reviews[\"reviews\"]:\n",
    "#        print(j)\n"
   ]
  }
 ],
 "metadata": {
  "kernelspec": {
   "display_name": "Python 3.8.5 32-bit",
   "language": "python",
   "name": "python3"
  },
  "language_info": {
   "codemirror_mode": {
    "name": "ipython",
    "version": 3
   },
   "file_extension": ".py",
   "mimetype": "text/x-python",
   "name": "python",
   "nbconvert_exporter": "python",
   "pygments_lexer": "ipython3",
   "version": "3.8.5"
  },
  "orig_nbformat": 4,
  "vscode": {
   "interpreter": {
    "hash": "6d1e45cadc3597bb8b6600530fbdf8c3eefe919a24ef54d9d32b318795b772e0"
   }
  }
 },
 "nbformat": 4,
 "nbformat_minor": 2
}
