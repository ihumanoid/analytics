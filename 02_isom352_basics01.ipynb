{
  "nbformat": 4,
  "nbformat_minor": 0,
  "metadata": {
    "colab": {
      "provenance": [],
      "authorship_tag": "ABX9TyORXG9k26i5lebIM/6w0wB6",
      "include_colab_link": true
    },
    "kernelspec": {
      "name": "python3",
      "display_name": "Python 3"
    },
    "language_info": {
      "name": "python"
    }
  },
  "cells": [
    {
      "cell_type": "markdown",
      "metadata": {
        "id": "view-in-github",
        "colab_type": "text"
      },
      "source": [
        "<a href=\"https://colab.research.google.com/github/ihumanoid/analytics/blob/main/02_isom352_basics01.ipynb\" target=\"_parent\"><img src=\"https://colab.research.google.com/assets/colab-badge.svg\" alt=\"Open In Colab\"/></a>"
      ]
    },
    {
      "cell_type": "code",
      "execution_count": 3,
      "metadata": {
        "id": "JgwkpGtQ0SUY",
        "colab": {
          "base_uri": "https://localhost:8080/"
        },
        "outputId": "e521f49d-46fe-47a8-ac3b-16ab71f46ee6"
      },
      "outputs": [
        {
          "output_type": "stream",
          "name": "stdout",
          "text": [
            "1024\n",
            "hey\n",
            "hello\n"
          ]
        }
      ],
      "source": [
        "print(2**10)\n",
        "print('hey')\n",
        "print(\"hello\")"
      ]
    },
    {
      "cell_type": "code",
      "source": [
        "a = 123456\n",
        "b = \"hi there\"\n",
        "c = [1, 2, 3]"
      ],
      "metadata": {
        "id": "5qF9LROl_3kR"
      },
      "execution_count": 8,
      "outputs": []
    },
    {
      "cell_type": "code",
      "source": [
        "print(a*12)\n",
        "print(b*2)\n",
        "print(c)"
      ],
      "metadata": {
        "id": "ybNuSRsYAAeb",
        "outputId": "b6007e6e-fbdd-4f61-aa59-e5284c8683b8",
        "colab": {
          "base_uri": "https://localhost:8080/"
        }
      },
      "execution_count": 11,
      "outputs": [
        {
          "output_type": "stream",
          "name": "stdout",
          "text": [
            "1481472\n",
            "hi therehi there\n",
            "[1, 2, 3]\n"
          ]
        }
      ]
    },
    {
      "cell_type": "code",
      "source": [
        "type(c)"
      ],
      "metadata": {
        "id": "vI2zyasMAlYB",
        "outputId": "76de9c55-8c6a-4a81-afd2-e298b9c10373",
        "colab": {
          "base_uri": "https://localhost:8080/"
        }
      },
      "execution_count": 14,
      "outputs": [
        {
          "output_type": "execute_result",
          "data": {
            "text/plain": [
              "list"
            ]
          },
          "metadata": {},
          "execution_count": 14
        }
      ]
    },
    {
      "cell_type": "code",
      "source": [
        "d = \"123\"\n",
        "print(d*4)"
      ],
      "metadata": {
        "id": "qeoxuSJIAy4_",
        "outputId": "df895c09-42e6-4178-f3d4-2831b775ccb5",
        "colab": {
          "base_uri": "https://localhost:8080/"
        }
      },
      "execution_count": 22,
      "outputs": [
        {
          "output_type": "stream",
          "name": "stdout",
          "text": [
            "123123123123\n"
          ]
        }
      ]
    },
    {
      "cell_type": "code",
      "source": [
        "print(\"123\" + \"321\")\n",
        "print(123+321)\n",
        "print(int(\"123\")+int(\"321\"))"
      ],
      "metadata": {
        "id": "lo9zt488BkTh",
        "outputId": "8f9fa3fe-1500-41d2-cbfb-841906c7b210",
        "colab": {
          "base_uri": "https://localhost:8080/"
        }
      },
      "execution_count": 25,
      "outputs": [
        {
          "output_type": "stream",
          "name": "stdout",
          "text": [
            "123321\n",
            "444\n",
            "444\n"
          ]
        }
      ]
    },
    {
      "cell_type": "code",
      "source": [
        "e = int(d)\n",
        "print(e*2)"
      ],
      "metadata": {
        "id": "o06gEVB7A8uY",
        "outputId": "84088d77-a8c2-4046-ecf8-09ac2ef7391a",
        "colab": {
          "base_uri": "https://localhost:8080/"
        }
      },
      "execution_count": 20,
      "outputs": [
        {
          "output_type": "stream",
          "name": "stdout",
          "text": [
            "246\n"
          ]
        }
      ]
    },
    {
      "cell_type": "code",
      "source": [
        "int(b)"
      ],
      "metadata": {
        "id": "OQMBwj7fBFtu",
        "outputId": "00a64436-a3e1-4b1f-f2eb-38f5e392455e",
        "colab": {
          "base_uri": "https://localhost:8080/",
          "height": 165
        }
      },
      "execution_count": 21,
      "outputs": [
        {
          "output_type": "error",
          "ename": "ValueError",
          "evalue": "ignored",
          "traceback": [
            "\u001b[0;31m---------------------------------------------------------------------------\u001b[0m",
            "\u001b[0;31mValueError\u001b[0m                                Traceback (most recent call last)",
            "\u001b[0;32m<ipython-input-21-07ae29993d50>\u001b[0m in \u001b[0;36m<module>\u001b[0;34m\u001b[0m\n\u001b[0;32m----> 1\u001b[0;31m \u001b[0mint\u001b[0m\u001b[0;34m(\u001b[0m\u001b[0mb\u001b[0m\u001b[0;34m)\u001b[0m\u001b[0;34m\u001b[0m\u001b[0;34m\u001b[0m\u001b[0m\n\u001b[0m",
            "\u001b[0;31mValueError\u001b[0m: invalid literal for int() with base 10: 'hi there'"
          ]
        }
      ]
    },
    {
      "cell_type": "code",
      "source": [
        "n = input(\"dsjgsdfudgf:\")"
      ],
      "metadata": {
        "colab": {
          "base_uri": "https://localhost:8080/"
        },
        "id": "wYK0l-CM36V8",
        "outputId": "00ffb432-b84e-40e5-beb6-36a347bde6e4"
      },
      "execution_count": 32,
      "outputs": [
        {
          "name": "stdout",
          "output_type": "stream",
          "text": [
            "dsjgsdfudgf:352\n"
          ]
        }
      ]
    },
    {
      "cell_type": "code",
      "source": [
        "print(type(n))\n",
        "print(n)\n",
        "print(int(n))"
      ],
      "metadata": {
        "colab": {
          "base_uri": "https://localhost:8080/"
        },
        "id": "CEWZpLfA4BBY",
        "outputId": "2112192c-8bb5-4026-c591-7025acb7938c"
      },
      "execution_count": 34,
      "outputs": [
        {
          "output_type": "stream",
          "name": "stdout",
          "text": [
            "<class 'str'>\n",
            "352\n",
            "352\n"
          ]
        }
      ]
    },
    {
      "cell_type": "code",
      "source": [
        "A = 100000\n",
        "r = 0.05\n",
        "n = 48\n",
        "p = A*(r/12)/(1-(1+r/12)**(-n))\n",
        "print(p)"
      ],
      "metadata": {
        "id": "PFKygAYEC7TJ",
        "outputId": "fad654a2-1a29-4ce2-d882-35093de0ee90",
        "colab": {
          "base_uri": "https://localhost:8080/"
        }
      },
      "execution_count": 35,
      "outputs": [
        {
          "output_type": "stream",
          "name": "stdout",
          "text": [
            "2302.9293570646587\n"
          ]
        }
      ]
    },
    {
      "cell_type": "code",
      "source": [
        "A = int(input(\"please enter loan amount: \"))\n",
        "r = 0.05\n",
        "n = 48\n",
        "p = A*(r/12)/(1-(1+r/12)**(-n))\n",
        "print(p)"
      ],
      "metadata": {
        "id": "SeK9dMwtDZoU",
        "outputId": "91c434f1-26f2-4a48-8f9a-ca72a193fba3",
        "colab": {
          "base_uri": "https://localhost:8080/"
        }
      },
      "execution_count": 36,
      "outputs": [
        {
          "output_type": "stream",
          "name": "stdout",
          "text": [
            "please enter loan amount: 15000\n",
            "345.4394035596988\n"
          ]
        }
      ]
    },
    {
      "cell_type": "code",
      "source": [
        "cs = int(input(\"eneter your credit score:\"))\n",
        "if cs >= 700:\n",
        "  print(\"loan approved\")\n",
        "else:\n",
        "  print(\"loan rejected\")"
      ],
      "metadata": {
        "id": "USvmxKCZD2fI",
        "outputId": "8e719d0d-236e-46f0-996a-7b5d65775c83",
        "colab": {
          "base_uri": "https://localhost:8080/",
          "height": 130
        }
      },
      "execution_count": 39,
      "outputs": [
        {
          "output_type": "error",
          "ename": "IndentationError",
          "evalue": "ignored",
          "traceback": [
            "\u001b[0;36m  File \u001b[0;32m\"<ipython-input-39-4aebef0520a9>\"\u001b[0;36m, line \u001b[0;32m3\u001b[0m\n\u001b[0;31m    print(\"loan approved\")\u001b[0m\n\u001b[0m        ^\u001b[0m\n\u001b[0;31mIndentationError\u001b[0m\u001b[0;31m:\u001b[0m expected an indented block\n"
          ]
        }
      ]
    },
    {
      "cell_type": "code",
      "source": [
        "cs = 690\n",
        "la = 90000\n",
        "if cs >= 700:\n",
        "  print(\"loan approved\")\n",
        "  la = int(input(\"enter loan amount:\"))\n",
        "  if la <100000:\n",
        "    print(\"outside of if\")"
      ],
      "metadata": {
        "id": "MpsDEm6MFB1i"
      },
      "execution_count": 41,
      "outputs": []
    },
    {
      "cell_type": "code",
      "source": [
        "age = int(input(\"enter your age:\"))\n",
        "\n",
        "if age <= 40: \n",
        "  income = int(input(\"enter your income:\"))\n",
        "  if income > 166500:\n",
        "    print(\"car loan for amount $\", A, \" granted\")\n",
        "  else:\n",
        "    print(\"car loan for amount $\", A, \" NOT granted\")\n",
        "else:\n",
        "  monthly_savings = int(input(\"enter your monthly savings:\"))\n",
        "  if monthly_savings > 433:\n",
        "    print(\"car loan for amount $\", A, \" granted\")\n",
        "  else:\n",
        "    print(\"car loan for amount $\", A, \" NOT granted\")\n"
      ],
      "metadata": {
        "id": "NYhnJXrMGwMs"
      },
      "execution_count": null,
      "outputs": []
    },
    {
      "cell_type": "code",
      "source": [
        "bvar = True\n",
        "if bvar:\n",
        "  print(\"pass\")"
      ],
      "metadata": {
        "id": "qgNG-KlIJVuC",
        "outputId": "858cd62a-3981-476b-9576-14e7a021f0f1",
        "colab": {
          "base_uri": "https://localhost:8080/"
        }
      },
      "execution_count": 44,
      "outputs": [
        {
          "output_type": "stream",
          "name": "stdout",
          "text": [
            "pass\n"
          ]
        }
      ]
    },
    {
      "cell_type": "code",
      "source": [
        "%pip install pandas"
      ],
      "metadata": {
        "colab": {
          "base_uri": "https://localhost:8080/"
        },
        "id": "khyau-wS4kr3",
        "outputId": "338e9b48-53f6-4cc4-a289-0a806c1685e8"
      },
      "execution_count": 1,
      "outputs": [
        {
          "output_type": "stream",
          "name": "stdout",
          "text": [
            "Looking in indexes: https://pypi.org/simple, https://us-python.pkg.dev/colab-wheels/public/simple/\n",
            "Requirement already satisfied: pandas in /usr/local/lib/python3.7/dist-packages (1.3.5)\n",
            "Requirement already satisfied: pytz>=2017.3 in /usr/local/lib/python3.7/dist-packages (from pandas) (2022.2.1)\n",
            "Requirement already satisfied: numpy>=1.17.3 in /usr/local/lib/python3.7/dist-packages (from pandas) (1.21.6)\n",
            "Requirement already satisfied: python-dateutil>=2.7.3 in /usr/local/lib/python3.7/dist-packages (from pandas) (2.8.2)\n",
            "Requirement already satisfied: six>=1.5 in /usr/local/lib/python3.7/dist-packages (from python-dateutil>=2.7.3->pandas) (1.15.0)\n"
          ]
        }
      ]
    },
    {
      "cell_type": "code",
      "source": [
        "try:\n",
        "  str_age = input(\"enter your age:\")\n",
        "  age = int(str_age)\n",
        "  inverse_age = 1/age\n",
        "except ValueError:\n",
        "  print(\"entered age is not numeric. Try again!\")\n",
        "except ZeroDivisionError:\n",
        "  print(\"system encountered error in handling this age. Try again!\")\n",
        "except:\n",
        "  print(\"unexpected error:\", sys.exc_info()[0])\n"
      ],
      "metadata": {
        "colab": {
          "base_uri": "https://localhost:8080/"
        },
        "id": "PX_XCFou64Za",
        "outputId": "3d5d26fc-3a59-42d8-d801-4fb137a521f2"
      },
      "execution_count": 8,
      "outputs": [
        {
          "name": "stdout",
          "output_type": "stream",
          "text": [
            "enter your age:40\n"
          ]
        }
      ]
    }
  ]
}