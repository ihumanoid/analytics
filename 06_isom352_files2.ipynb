{
 "cells": [
  {
   "cell_type": "code",
   "execution_count": null,
   "metadata": {},
   "outputs": [],
   "source": [
    "a = {\"name\":\"zach\", \"skill\":\"python\"}\n",
    "f = open(\"my_first_file.txt\", \"w\")\n",
    "f.write(str(a))\n",
    "f.close()"
   ]
  },
  {
   "cell_type": "code",
   "execution_count": null,
   "metadata": {},
   "outputs": [],
   "source": [
    "a = [1,2,3,4]\n",
    "f = open(\"my_first_file.txt\", \"a\")\n",
    "f.write(\"\\n\")\n",
    "f.write(str(a))\n",
    "f.close()"
   ]
  },
  {
   "cell_type": "code",
   "execution_count": null,
   "metadata": {},
   "outputs": [],
   "source": [
    "a = [1,2,3]\n",
    "f = open(\"my_first_file.csv\", \"w\")\n",
    "for i in a:\n",
    "    f.write(str(i)+\",\")\n",
    "f.close()"
   ]
  },
  {
   "cell_type": "code",
   "execution_count": null,
   "metadata": {},
   "outputs": [],
   "source": [
    "a = \"1,2,3,4\"\n",
    "b = \"5,6,7,4\"\n",
    "f = open(\"my_first_file.csv\", \"w\")\n",
    "f.write(str(a))\n",
    "f.write(\"\\n\")\n",
    "f.write(str(b))\n",
    "f.close()"
   ]
  },
  {
   "cell_type": "code",
   "execution_count": null,
   "metadata": {},
   "outputs": [],
   "source": [
    "productlist = [['apple', 3.50, 4.99],\n",
    "               ['orange',0.87, 1.49],\n",
    "               ['milk',2.68, 3.99],\n",
    "               ['bread',1.41, 1.99],\n",
    "               ['beer',9.90, 19.99],\n",
    "               ['diaper',18.21, 29.99]]\n",
    "f = open(\"my_first_file.csv\", \"w\")\n",
    "for i in productlist:\n",
    "    print(i)\n",
    "    f.write(f\"{i[0]},{i[1]},{i[2]}\\n\")\n",
    "f.close()"
   ]
  },
  {
   "cell_type": "code",
   "execution_count": null,
   "metadata": {},
   "outputs": [],
   "source": [
    "import csv\n",
    "f = open(\"my_first_file.csv\", \"w\", newline=\"\")\n",
    "cf = csv.writer(f)\n",
    "for i in productlist:\n",
    "    cf.writerow(i)\n",
    "f.close()"
   ]
  },
  {
   "cell_type": "code",
   "execution_count": null,
   "metadata": {},
   "outputs": [],
   "source": [
    "b = ['chocolate', 0.89, 1.99]\n",
    "f = open(\"my_first_file.csv\", \"a\", newline=\"\")\n",
    "cf = csv.writer(f)\n",
    "cf.writerow(b)\n",
    "f.close()"
   ]
  },
  {
   "cell_type": "code",
   "execution_count": null,
   "metadata": {},
   "outputs": [],
   "source": [
    "productlist = [['apple', 3.50, 4.99],\n",
    "               ['orange',0.87, 1.49],\n",
    "               ['milk',2.68, 3.99],\n",
    "               ['bread',1.41, 1.99],\n",
    "               ['beer',9.90, 19.99],\n",
    "               ['diaper',18.21, 29.99]]\n",
    "\n",
    "f = open(\"my_first_file.csv\", \"w\")\n",
    "\n",
    "for item in productlist:\n",
    "    line_to_write = f\"{item[0]},{str(item[1])},{str(item[2])}\\n\"\n",
    "    print(line_to_write)\n",
    "    f.write(line_to_write)\n",
    "f.close()"
   ]
  },
  {
   "cell_type": "code",
   "execution_count": null,
   "metadata": {},
   "outputs": [],
   "source": [
    "import csv\n",
    "f = open(\"my_first_file.csv\", \"w\", newline='')\n",
    "cf = csv.writer(f)\n",
    "for line in productlist:\n",
    "    print(line)\n",
    "    cf.writerow(line)\n",
    "f.close()"
   ]
  },
  {
   "cell_type": "code",
   "execution_count": null,
   "metadata": {},
   "outputs": [],
   "source": [
    "import json\n",
    "a = {\"name\":\"zach\", \"skill\":\"python\"}\n",
    "f = open(\"my_first_file.json\", \"w\")\n",
    "json.dump(a, f)\n",
    "f.close()"
   ]
  },
  {
   "cell_type": "code",
   "execution_count": null,
   "metadata": {},
   "outputs": [],
   "source": [
    "a = {\"name\":\"zach\", \"skill\":\"python\"}\n",
    "f = open(\"my_first_file.json\", \"w\")\n",
    "f.write(str(a))\n",
    "f.close()"
   ]
  },
  {
   "cell_type": "code",
   "execution_count": null,
   "metadata": {},
   "outputs": [],
   "source": [
    "import openpyxl\n",
    "\n",
    "wb = openpyxl.Workbook()\n",
    "ws = wb.create_sheet(title=\"products\")\n",
    "ws['A1'] = \"Hello\"\n",
    "ws['A2'] = \"World\"\n",
    "c = ws.cell(2, 2)\n",
    "c.value = 1024\n",
    "wb.save(filename = \"my_first_file.xls\")"
   ]
  },
  {
   "cell_type": "code",
   "execution_count": null,
   "metadata": {},
   "outputs": [],
   "source": [
    "import openpyxl\n",
    "\n",
    "wb = openpyxl.Workbook()\n",
    "ws = wb.create_sheet(title=\"products\")\n",
    "\n",
    "cell = ws.cell(1,1)\n",
    "cell.value(\"product\")\n",
    "cell = ws.cell(1,2)\n",
    "cell.value(\"cost\")\n",
    "cell = ws.cell(1,3)\n",
    "cell.value(\"price\")\n",
    "\n",
    "for row in range(1, 7):\n",
    "    for col in range(1, 4):\n",
    "        cell = ws.cell(row+1, col)\n",
    "        cell.value = productlist[row-1][col-1]\n",
    "        print(cell.value)\n",
    "\n",
    "wb.save(filename = 'my_first_file.xlsx')\n"
   ]
  }
 ],
 "metadata": {
  "kernelspec": {
   "display_name": "Python 3.8.5 32-bit",
   "language": "python",
   "name": "python3"
  },
  "language_info": {
   "codemirror_mode": {
    "name": "ipython",
    "version": 3
   },
   "file_extension": ".py",
   "mimetype": "text/x-python",
   "name": "python",
   "nbconvert_exporter": "python",
   "pygments_lexer": "ipython3",
   "version": "3.8.5"
  },
  "orig_nbformat": 4,
  "vscode": {
   "interpreter": {
    "hash": "6d1e45cadc3597bb8b6600530fbdf8c3eefe919a24ef54d9d32b318795b772e0"
   }
  }
 },
 "nbformat": 4,
 "nbformat_minor": 2
}
