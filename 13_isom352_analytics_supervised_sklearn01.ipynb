{
 "cells": [
  {
   "cell_type": "code",
   "execution_count": 1,
   "metadata": {},
   "outputs": [],
   "source": [
    "from sklearn import datasets, linear_model\n",
    "import seaborn as sns"
   ]
  },
  {
   "cell_type": "code",
   "execution_count": 4,
   "metadata": {},
   "outputs": [
    {
     "data": {
      "text/plain": [
       "4"
      ]
     },
     "execution_count": 4,
     "metadata": {},
     "output_type": "execute_result"
    }
   ],
   "source": [
    "a, b, c, d = [1,2, 3, 4]\n",
    "d"
   ]
  },
  {
   "cell_type": "code",
   "execution_count": 5,
   "metadata": {},
   "outputs": [],
   "source": [
    "diabetes_X, diabetes_y = datasets.load_diabetes(return_X_y=True)\n",
    "\n",
    "diabetes_X_train = diabetes_X[:-20]\n",
    "diabetes_X_test = diabetes_X[-20:]\n",
    "diabetes_y_train = diabetes_y[:-20]\n",
    "diabetes_y_test = diabetes_y[-20:]"
   ]
  },
  {
   "cell_type": "code",
   "execution_count": 8,
   "metadata": {},
   "outputs": [
    {
     "data": {
      "text/plain": [
       "array([[-0.07816532,  0.05068012,  0.07786339,  0.05285819,  0.07823631,\n",
       "         0.0644473 ,  0.02655027, -0.00259226,  0.04067226, -0.00936191],\n",
       "       [ 0.0090156 ,  0.05068012, -0.03961813,  0.0287581 ,  0.03833367,\n",
       "         0.0735286 , -0.07285395,  0.1081111 ,  0.01556684, -0.04664087],\n",
       "       [ 0.00175052,  0.05068012,  0.01103904, -0.01944209, -0.01670444,\n",
       "        -0.00381907, -0.04708248,  0.03430886,  0.02405258,  0.02377494],\n",
       "       [-0.07816532, -0.04464164, -0.04069594, -0.08141377, -0.10063757,\n",
       "        -0.11279473,  0.02286863, -0.0763945 , -0.02028875, -0.05078298],\n",
       "       [ 0.03081083,  0.05068012, -0.03422907,  0.0436772 ,  0.05759701,\n",
       "         0.06883138, -0.03235593,  0.05755657,  0.03546194,  0.08590655],\n",
       "       [-0.03457486,  0.05068012,  0.00564998, -0.00567061, -0.07311851,\n",
       "        -0.06269098, -0.00658447, -0.03949338, -0.04542096,  0.03205916],\n",
       "       [ 0.04897352,  0.05068012,  0.08864151,  0.0872869 ,  0.03558177,\n",
       "         0.02154596, -0.02499266,  0.03430886,  0.06604821,  0.13146972],\n",
       "       [-0.04183994, -0.04464164, -0.03315126, -0.02288496,  0.04658939,\n",
       "         0.04158746,  0.05600338, -0.02473293, -0.02595242, -0.03835666],\n",
       "       [-0.00914709, -0.04464164, -0.05686312, -0.05042793,  0.02182224,\n",
       "         0.04534524, -0.02867429,  0.03430886, -0.00991896, -0.01764613],\n",
       "       [ 0.07076875,  0.05068012, -0.03099563,  0.02187235, -0.03734373,\n",
       "        -0.04703355,  0.03391355, -0.03949338, -0.01495648, -0.0010777 ],\n",
       "       [ 0.0090156 , -0.04464164,  0.05522933, -0.00567061,  0.05759701,\n",
       "         0.04471895, -0.00290283,  0.02323852,  0.05568355,  0.10661708],\n",
       "       [-0.02730979, -0.04464164, -0.06009656, -0.02977071,  0.04658939,\n",
       "         0.01998022,  0.12227286, -0.03949338, -0.05140054, -0.00936191],\n",
       "       [ 0.01628068, -0.04464164,  0.00133873,  0.00810087,  0.0053108 ,\n",
       "         0.01089891,  0.03023191, -0.03949338, -0.04542096,  0.03205916],\n",
       "       [-0.01277963, -0.04464164, -0.02345095, -0.04009932, -0.01670444,\n",
       "         0.00463594, -0.01762938, -0.00259226, -0.03845911, -0.03835666],\n",
       "       [-0.05637009, -0.04464164, -0.07410811, -0.05042793, -0.02496016,\n",
       "        -0.04703355,  0.09281975, -0.0763945 , -0.0611766 , -0.04664087],\n",
       "       [ 0.04170844,  0.05068012,  0.01966154,  0.05974393, -0.00569682,\n",
       "        -0.00256647, -0.02867429, -0.00259226,  0.03119299,  0.00720652],\n",
       "       [-0.00551455,  0.05068012, -0.01590626, -0.06764228,  0.0493413 ,\n",
       "         0.07916528, -0.02867429,  0.03430886, -0.01811827,  0.04448548],\n",
       "       [ 0.04170844,  0.05068012, -0.01590626,  0.01728186, -0.03734373,\n",
       "        -0.01383982, -0.02499266, -0.01107952, -0.04687948,  0.01549073],\n",
       "       [-0.04547248, -0.04464164,  0.03906215,  0.00121513,  0.01631843,\n",
       "         0.01528299, -0.02867429,  0.02655962,  0.04452837, -0.02593034],\n",
       "       [-0.04547248, -0.04464164, -0.0730303 , -0.08141377,  0.08374012,\n",
       "         0.02780893,  0.17381578, -0.03949338, -0.00421986,  0.00306441]])"
      ]
     },
     "execution_count": 8,
     "metadata": {},
     "output_type": "execute_result"
    }
   ],
   "source": [
    "diabetes_X_test"
   ]
  },
  {
   "cell_type": "code",
   "execution_count": 10,
   "metadata": {},
   "outputs": [
    {
     "data": {
      "text/plain": [
       "array([197.61846908, 155.43979328, 172.88665147, 111.53537279,\n",
       "       164.80054784, 131.06954875, 259.12237761, 100.47935157,\n",
       "       117.0601052 , 124.30503555, 218.36632793,  61.19831284,\n",
       "       132.25046751, 120.3332925 ,  52.54458691, 194.03798088,\n",
       "       102.57139702, 123.56604987, 211.0346317 ,  52.60335674])"
      ]
     },
     "execution_count": 10,
     "metadata": {},
     "output_type": "execute_result"
    }
   ],
   "source": [
    "lr = linear_model.LinearRegression()\n",
    "lr.fit(diabetes_X_train, diabetes_y_train)\n",
    "diabetes_y_pred = lr.predict(diabetes_X_test)\n",
    "diabetes_y_pred"
   ]
  },
  {
   "cell_type": "code",
   "execution_count": 11,
   "metadata": {},
   "outputs": [
    {
     "data": {
      "image/png": "[encoded data removed]",
      "text/plain": [
       "<Figure size 432x288 with 1 Axes>"
      ]
     },
     "metadata": {
      "needs_background": "light"
     },
     "output_type": "display_data"
    }
   ],
   "source": [
    "fig = sns.scatterplot(x=diabetes_y_test, y=diabetes_y_pred)"
   ]
  },
  {
   "cell_type": "code",
   "execution_count": 12,
   "metadata": {},
   "outputs": [
    {
     "data": {
      "text/plain": [
       "array([ 3.03499549e-01, -2.37639315e+02,  5.10530605e+02,  3.27736980e+02,\n",
       "       -8.14131709e+02,  4.92814588e+02,  1.02848452e+02,  1.84606489e+02,\n",
       "        7.43519617e+02,  7.60951722e+01])"
      ]
     },
     "execution_count": 12,
     "metadata": {},
     "output_type": "execute_result"
    }
   ],
   "source": [
    "lr.coef_"
   ]
  },
  {
   "cell_type": "code",
   "execution_count": 13,
   "metadata": {},
   "outputs": [
    {
     "data": {
      "text/plain": [
       "152.76430691633442"
      ]
     },
     "execution_count": 13,
     "metadata": {},
     "output_type": "execute_result"
    }
   ],
   "source": [
    "lr.intercept_"
   ]
  },
  {
   "cell_type": "code",
   "execution_count": 14,
   "metadata": {},
   "outputs": [
    {
     "data": {
      "text/plain": [
       "0.5122262147793499"
      ]
     },
     "execution_count": 14,
     "metadata": {},
     "output_type": "execute_result"
    }
   ],
   "source": [
    "lr.score(diabetes_X_train, diabetes_y_train)"
   ]
  },
  {
   "cell_type": "code",
   "execution_count": 15,
   "metadata": {},
   "outputs": [
    {
     "data": {
      "text/plain": [
       "0.5850753022690571"
      ]
     },
     "execution_count": 15,
     "metadata": {},
     "output_type": "execute_result"
    }
   ],
   "source": [
    "lr.score(diabetes_X_test, diabetes_y_test)"
   ]
  },
  {
   "cell_type": "code",
   "execution_count": 17,
   "metadata": {},
   "outputs": [
    {
     "data": {
      "text/plain": [
       "{'data': array([[1.423e+01, 1.710e+00, 2.430e+00, ..., 1.040e+00, 3.920e+00,\n",
       "         1.065e+03],\n",
       "        [1.320e+01, 1.780e+00, 2.140e+00, ..., 1.050e+00, 3.400e+00,\n",
       "         1.050e+03],\n",
       "        [1.316e+01, 2.360e+00, 2.670e+00, ..., 1.030e+00, 3.170e+00,\n",
       "         1.185e+03],\n",
       "        ...,\n",
       "        [1.327e+01, 4.280e+00, 2.260e+00, ..., 5.900e-01, 1.560e+00,\n",
       "         8.350e+02],\n",
       "        [1.317e+01, 2.590e+00, 2.370e+00, ..., 6.000e-01, 1.620e+00,\n",
       "         8.400e+02],\n",
       "        [1.413e+01, 4.100e+00, 2.740e+00, ..., 6.100e-01, 1.600e+00,\n",
       "         5.600e+02]]),\n",
       " 'target': array([0, 0, 0, 0, 0, 0, 0, 0, 0, 0, 0, 0, 0, 0, 0, 0, 0, 0, 0, 0, 0, 0,\n",
       "        0, 0, 0, 0, 0, 0, 0, 0, 0, 0, 0, 0, 0, 0, 0, 0, 0, 0, 0, 0, 0, 0,\n",
       "        0, 0, 0, 0, 0, 0, 0, 0, 0, 0, 0, 0, 0, 0, 0, 1, 1, 1, 1, 1, 1, 1,\n",
       "        1, 1, 1, 1, 1, 1, 1, 1, 1, 1, 1, 1, 1, 1, 1, 1, 1, 1, 1, 1, 1, 1,\n",
       "        1, 1, 1, 1, 1, 1, 1, 1, 1, 1, 1, 1, 1, 1, 1, 1, 1, 1, 1, 1, 1, 1,\n",
       "        1, 1, 1, 1, 1, 1, 1, 1, 1, 1, 1, 1, 1, 1, 1, 1, 1, 1, 1, 1, 2, 2,\n",
       "        2, 2, 2, 2, 2, 2, 2, 2, 2, 2, 2, 2, 2, 2, 2, 2, 2, 2, 2, 2, 2, 2,\n",
       "        2, 2, 2, 2, 2, 2, 2, 2, 2, 2, 2, 2, 2, 2, 2, 2, 2, 2, 2, 2, 2, 2,\n",
       "        2, 2]),\n",
       " 'frame': None,\n",
       " 'target_names': array(['class_0', 'class_1', 'class_2'], dtype='<U7'),\n",
       " 'DESCR': '.. _wine_dataset:\\n\\nWine recognition dataset\\n------------------------\\n\\n**Data Set Characteristics:**\\n\\n    :Number of Instances: 178 (50 in each of three classes)\\n    :Number of Attributes: 13 numeric, predictive attributes and the class\\n    :Attribute Information:\\n \\t\\t- Alcohol\\n \\t\\t- Malic acid\\n \\t\\t- Ash\\n\\t\\t- Alcalinity of ash  \\n \\t\\t- Magnesium\\n\\t\\t- Total phenols\\n \\t\\t- Flavanoids\\n \\t\\t- Nonflavanoid phenols\\n \\t\\t- Proanthocyanins\\n\\t\\t- Color intensity\\n \\t\\t- Hue\\n \\t\\t- OD280/OD315 of diluted wines\\n \\t\\t- Proline\\n\\n    - class:\\n            - class_0\\n            - class_1\\n            - class_2\\n\\t\\t\\n    :Summary Statistics:\\n    \\n    ============================= ==== ===== ======= =====\\n                                   Min   Max   Mean     SD\\n    ============================= ==== ===== ======= =====\\n    Alcohol:                      11.0  14.8    13.0   0.8\\n    Malic Acid:                   0.74  5.80    2.34  1.12\\n    Ash:                          1.36  3.23    2.36  0.27\\n    Alcalinity of Ash:            10.6  30.0    19.5   3.3\\n    Magnesium:                    70.0 162.0    99.7  14.3\\n    Total Phenols:                0.98  3.88    2.29  0.63\\n    Flavanoids:                   0.34  5.08    2.03  1.00\\n    Nonflavanoid Phenols:         0.13  0.66    0.36  0.12\\n    Proanthocyanins:              0.41  3.58    1.59  0.57\\n    Colour Intensity:              1.3  13.0     5.1   2.3\\n    Hue:                          0.48  1.71    0.96  0.23\\n    OD280/OD315 of diluted wines: 1.27  4.00    2.61  0.71\\n    Proline:                       278  1680     746   315\\n    ============================= ==== ===== ======= =====\\n\\n    :Missing Attribute Values: None\\n    :Class Distribution: class_0 (59), class_1 (71), class_2 (48)\\n    :Creator: R.A. Fisher\\n    :Donor: Michael Marshall (MARSHALL%PLU@io.arc.nasa.gov)\\n    :Date: July, 1988\\n\\nThis is a copy of UCI ML Wine recognition datasets.\\nhttps://archive.ics.uci.edu/ml/machine-learning-databases/wine/wine.data\\n\\nThe data is the results of a chemical analysis of wines grown in the same\\nregion in Italy by three different cultivators. There are thirteen different\\nmeasurements taken for different constituents found in the three types of\\nwine.\\n\\nOriginal Owners: \\n\\nForina, M. et al, PARVUS - \\nAn Extendible Package for Data Exploration, Classification and Correlation. \\nInstitute of Pharmaceutical and Food Analysis and Technologies,\\nVia Brigata Salerno, 16147 Genoa, Italy.\\n\\nCitation:\\n\\nLichman, M. (2013). UCI Machine Learning Repository\\n[https://archive.ics.uci.edu/ml]. Irvine, CA: University of California,\\nSchool of Information and Computer Science. \\n\\n.. topic:: References\\n\\n  (1) S. Aeberhard, D. Coomans and O. de Vel, \\n  Comparison of Classifiers in High Dimensional Settings, \\n  Tech. Rep. no. 92-02, (1992), Dept. of Computer Science and Dept. of  \\n  Mathematics and Statistics, James Cook University of North Queensland. \\n  (Also submitted to Technometrics). \\n\\n  The data was used with many others for comparing various \\n  classifiers. The classes are separable, though only RDA \\n  has achieved 100% correct classification. \\n  (RDA : 100%, QDA 99.4%, LDA 98.9%, 1NN 96.1% (z-transformed data)) \\n  (All results using the leave-one-out technique) \\n\\n  (2) S. Aeberhard, D. Coomans and O. de Vel, \\n  \"THE CLASSIFICATION PERFORMANCE OF RDA\" \\n  Tech. Rep. no. 92-01, (1992), Dept. of Computer Science and Dept. of \\n  Mathematics and Statistics, James Cook University of North Queensland. \\n  (Also submitted to Journal of Chemometrics).\\n',\n",
       " 'feature_names': ['alcohol',\n",
       "  'malic_acid',\n",
       "  'ash',\n",
       "  'alcalinity_of_ash',\n",
       "  'magnesium',\n",
       "  'total_phenols',\n",
       "  'flavanoids',\n",
       "  'nonflavanoid_phenols',\n",
       "  'proanthocyanins',\n",
       "  'color_intensity',\n",
       "  'hue',\n",
       "  'od280/od315_of_diluted_wines',\n",
       "  'proline']}"
      ]
     },
     "execution_count": 17,
     "metadata": {},
     "output_type": "execute_result"
    }
   ],
   "source": [
    "wine = datasets.load_wine()\n",
    "wine"
   ]
  },
  {
   "cell_type": "code",
   "execution_count": 23,
   "metadata": {},
   "outputs": [],
   "source": [
    "from sklearn.model_selection import train_test_split\n",
    "data_train, data_test, label_train, label_test = train_test_split(wine['data'],wine['target'],test_size=0.2)"
   ]
  },
  {
   "cell_type": "code",
   "execution_count": 24,
   "metadata": {},
   "outputs": [
    {
     "data": {
      "text/plain": [
       "0.6388888888888888"
      ]
     },
     "execution_count": 24,
     "metadata": {},
     "output_type": "execute_result"
    }
   ],
   "source": [
    "from sklearn.neighbors import KNeighborsClassifier\n",
    "knn = KNeighborsClassifier(n_neighbors=6)\n",
    "knn.fit(data_train, label_train)\n",
    "label_predict = knn.predict(data_test)\n",
    "\n",
    "# %%\n",
    "from sklearn import metrics\n",
    "metrics.accuracy_score(label_test, label_predict)\n"
   ]
  },
  {
   "cell_type": "code",
   "execution_count": 26,
   "metadata": {},
   "outputs": [
    {
     "name": "stdout",
     "output_type": "stream",
     "text": [
      "0.7222222222222222\n",
      "0.6666666666666666\n",
      "0.6944444444444444\n",
      "0.75\n",
      "0.7222222222222222\n",
      "0.6388888888888888\n",
      "0.6111111111111112\n",
      "0.7777777777777778\n",
      "0.75\n",
      "0.6944444444444444\n"
     ]
    }
   ],
   "source": [
    "for i in range(0,10):\n",
    "    data_train, data_test, label_train, label_test = train_test_split(wine['data'],wine['target'],test_size=0.2)\n",
    "    knn = KNeighborsClassifier(n_neighbors=6)\n",
    "    knn.fit(data_train, label_train)\n",
    "    label_predict = knn.predict(data_test)\n",
    "    print(metrics.accuracy_score(label_test, label_predict))"
   ]
  },
  {
   "cell_type": "code",
   "execution_count": 27,
   "metadata": {},
   "outputs": [
    {
     "name": "stdout",
     "output_type": "stream",
     "text": [
      "0.6666666666666666\n",
      "0.6388888888888888\n",
      "0.6666666666666666\n",
      "0.7222222222222222\n",
      "0.6666666666666666\n",
      "0.6944444444444444\n",
      "0.7222222222222222\n",
      "0.6944444444444444\n",
      "0.6666666666666666\n",
      "0.6944444444444444\n",
      "0.6944444444444444\n",
      "0.6666666666666666\n",
      "0.6666666666666666\n",
      "0.6944444444444444\n",
      "0.6944444444444444\n",
      "0.6944444444444444\n",
      "0.6944444444444444\n",
      "0.6666666666666666\n",
      "0.6666666666666666\n"
     ]
    }
   ],
   "source": [
    "data_train, data_test, label_train, label_test = train_test_split(wine['data'],wine['target'],test_size=0.2)\n",
    "for i in range(1,20):\n",
    "    knn = KNeighborsClassifier(n_neighbors=i)\n",
    "    knn.fit(data_train, label_train)\n",
    "    label_predict = knn.predict(data_test)\n",
    "    print(metrics.accuracy_score(label_test, label_predict))"
   ]
  },
  {
   "cell_type": "code",
   "execution_count": 28,
   "metadata": {},
   "outputs": [],
   "source": [
    "bc = datasets.load_breast_cancer()\n",
    "data_train, data_test, label_train, label_test = train_test_split(bc.data,bc.target,test_size=0.2)\n"
   ]
  },
  {
   "cell_type": "code",
   "execution_count": 29,
   "metadata": {},
   "outputs": [],
   "source": [
    "from sklearn.neural_network import MLPClassifier\n",
    "mlp = MLPClassifier(hidden_layer_sizes=(10,10),max_iter=500)\n",
    "mlp.fit(data_train,label_train)\n",
    "label_predict = mlp.predict(data_test)\n"
   ]
  },
  {
   "cell_type": "code",
   "execution_count": 30,
   "metadata": {},
   "outputs": [
    {
     "name": "stdout",
     "output_type": "stream",
     "text": [
      "0.9298245614035088\n"
     ]
    }
   ],
   "source": [
    "print(metrics.accuracy_score(label_test, label_predict))\n"
   ]
  },
  {
   "cell_type": "code",
   "execution_count": 31,
   "metadata": {},
   "outputs": [
    {
     "name": "stdout",
     "output_type": "stream",
     "text": [
      "[[42  4]\n",
      " [ 4 64]]\n"
     ]
    }
   ],
   "source": [
    "print(metrics.confusion_matrix(label_test, label_predict))"
   ]
  },
  {
   "cell_type": "code",
   "execution_count": 3,
   "metadata": {},
   "outputs": [
    {
     "data": {
      "text/html": [
       "<div>\n",
       "<style scoped>\n",
       "    .dataframe tbody tr th:only-of-type {\n",
       "        vertical-align: middle;\n",
       "    }\n",
       "\n",
       "    .dataframe tbody tr th {\n",
       "        vertical-align: top;\n",
       "    }\n",
       "\n",
       "    .dataframe thead th {\n",
       "        text-align: right;\n",
       "    }\n",
       "</style>\n",
       "<table border=\"1\" class=\"dataframe\">\n",
       "  <thead>\n",
       "    <tr style=\"text-align: right;\">\n",
       "      <th></th>\n",
       "      <th>Close</th>\n",
       "      <th>Date</th>\n",
       "    </tr>\n",
       "  </thead>\n",
       "  <tbody>\n",
       "    <tr>\n",
       "      <th>0</th>\n",
       "      <td>408.089996</td>\n",
       "      <td>2020-11-16</td>\n",
       "    </tr>\n",
       "    <tr>\n",
       "      <th>1</th>\n",
       "      <td>441.609985</td>\n",
       "      <td>2020-11-17</td>\n",
       "    </tr>\n",
       "    <tr>\n",
       "      <th>2</th>\n",
       "      <td>486.640015</td>\n",
       "      <td>2020-11-18</td>\n",
       "    </tr>\n",
       "    <tr>\n",
       "      <th>3</th>\n",
       "      <td>499.269989</td>\n",
       "      <td>2020-11-19</td>\n",
       "    </tr>\n",
       "    <tr>\n",
       "      <th>4</th>\n",
       "      <td>489.609985</td>\n",
       "      <td>2020-11-20</td>\n",
       "    </tr>\n",
       "    <tr>\n",
       "      <th>...</th>\n",
       "      <td>...</td>\n",
       "      <td>...</td>\n",
       "    </tr>\n",
       "    <tr>\n",
       "      <th>247</th>\n",
       "      <td>1023.500000</td>\n",
       "      <td>2021-11-09</td>\n",
       "    </tr>\n",
       "    <tr>\n",
       "      <th>248</th>\n",
       "      <td>1067.949951</td>\n",
       "      <td>2021-11-10</td>\n",
       "    </tr>\n",
       "    <tr>\n",
       "      <th>249</th>\n",
       "      <td>1063.510010</td>\n",
       "      <td>2021-11-11</td>\n",
       "    </tr>\n",
       "    <tr>\n",
       "      <th>250</th>\n",
       "      <td>1033.420044</td>\n",
       "      <td>2021-11-12</td>\n",
       "    </tr>\n",
       "    <tr>\n",
       "      <th>251</th>\n",
       "      <td>1013.390015</td>\n",
       "      <td>2021-11-15</td>\n",
       "    </tr>\n",
       "  </tbody>\n",
       "</table>\n",
       "<p>252 rows × 2 columns</p>\n",
       "</div>"
      ],
      "text/plain": [
       "           Close        Date\n",
       "0     408.089996  2020-11-16\n",
       "1     441.609985  2020-11-17\n",
       "2     486.640015  2020-11-18\n",
       "3     499.269989  2020-11-19\n",
       "4     489.609985  2020-11-20\n",
       "..           ...         ...\n",
       "247  1023.500000  2021-11-09\n",
       "248  1067.949951  2021-11-10\n",
       "249  1063.510010  2021-11-11\n",
       "250  1033.420044  2021-11-12\n",
       "251  1013.390015  2021-11-15\n",
       "\n",
       "[252 rows x 2 columns]"
      ]
     },
     "execution_count": 3,
     "metadata": {},
     "output_type": "execute_result"
    }
   ],
   "source": [
    "import pandas as pd\n",
    "stocks = pd.read_csv('datasets/TSLA.csv')\n",
    "df = stocks[['Close','Date']]\n",
    "df"
   ]
  },
  {
   "cell_type": "code",
   "execution_count": 6,
   "metadata": {},
   "outputs": [
    {
     "name": "stderr",
     "output_type": "stream",
     "text": [
      "C:\\Users\\rgarg28\\AppData\\Local\\Temp\\ipykernel_24244\\2189058904.py:1: SettingWithCopyWarning: \n",
      "A value is trying to be set on a copy of a slice from a DataFrame.\n",
      "Try using .loc[row_indexer,col_indexer] = value instead\n",
      "\n",
      "See the caveats in the documentation: https://pandas.pydata.org/pandas-docs/stable/user_guide/indexing.html#returning-a-view-versus-a-copy\n",
      "  df['datetime'] = pd.to_datetime(df.Date).values\n",
      "C:\\Users\\rgarg28\\AppData\\Local\\Temp\\ipykernel_24244\\2189058904.py:2: SettingWithCopyWarning: \n",
      "A value is trying to be set on a copy of a slice from a DataFrame.\n",
      "Try using .loc[row_indexer,col_indexer] = value instead\n",
      "\n",
      "See the caveats in the documentation: https://pandas.pydata.org/pandas-docs/stable/user_guide/indexing.html#returning-a-view-versus-a-copy\n",
      "  df['CloseT1'] = df['Close'].shift(1)\n",
      "C:\\Users\\rgarg28\\AppData\\Local\\Temp\\ipykernel_24244\\2189058904.py:3: SettingWithCopyWarning: \n",
      "A value is trying to be set on a copy of a slice from a DataFrame.\n",
      "Try using .loc[row_indexer,col_indexer] = value instead\n",
      "\n",
      "See the caveats in the documentation: https://pandas.pydata.org/pandas-docs/stable/user_guide/indexing.html#returning-a-view-versus-a-copy\n",
      "  df['CloseT2'] = df['Close'].shift(2)\n",
      "C:\\Users\\rgarg28\\AppData\\Local\\Temp\\ipykernel_24244\\2189058904.py:4: SettingWithCopyWarning: \n",
      "A value is trying to be set on a copy of a slice from a DataFrame.\n",
      "Try using .loc[row_indexer,col_indexer] = value instead\n",
      "\n",
      "See the caveats in the documentation: https://pandas.pydata.org/pandas-docs/stable/user_guide/indexing.html#returning-a-view-versus-a-copy\n",
      "  df['CloseT3'] = df['Close'].shift(3)\n"
     ]
    },
    {
     "data": {
      "text/html": [
       "<div>\n",
       "<style scoped>\n",
       "    .dataframe tbody tr th:only-of-type {\n",
       "        vertical-align: middle;\n",
       "    }\n",
       "\n",
       "    .dataframe tbody tr th {\n",
       "        vertical-align: top;\n",
       "    }\n",
       "\n",
       "    .dataframe thead th {\n",
       "        text-align: right;\n",
       "    }\n",
       "</style>\n",
       "<table border=\"1\" class=\"dataframe\">\n",
       "  <thead>\n",
       "    <tr style=\"text-align: right;\">\n",
       "      <th></th>\n",
       "      <th>Close</th>\n",
       "      <th>Date</th>\n",
       "      <th>datetime</th>\n",
       "      <th>CloseT1</th>\n",
       "      <th>CloseT2</th>\n",
       "      <th>CloseT3</th>\n",
       "      <th>CloseT4</th>\n",
       "      <th>CloseT5</th>\n",
       "      <th>CloseT6</th>\n",
       "    </tr>\n",
       "  </thead>\n",
       "  <tbody>\n",
       "    <tr>\n",
       "      <th>6</th>\n",
       "      <td>555.380005</td>\n",
       "      <td>2020-11-24</td>\n",
       "      <td>2020-11-24</td>\n",
       "      <td>521.849976</td>\n",
       "      <td>489.609985</td>\n",
       "      <td>499.269989</td>\n",
       "      <td>486.640015</td>\n",
       "      <td>441.609985</td>\n",
       "      <td>408.089996</td>\n",
       "    </tr>\n",
       "    <tr>\n",
       "      <th>7</th>\n",
       "      <td>574.000000</td>\n",
       "      <td>2020-11-25</td>\n",
       "      <td>2020-11-25</td>\n",
       "      <td>555.380005</td>\n",
       "      <td>521.849976</td>\n",
       "      <td>489.609985</td>\n",
       "      <td>499.269989</td>\n",
       "      <td>486.640015</td>\n",
       "      <td>441.609985</td>\n",
       "    </tr>\n",
       "    <tr>\n",
       "      <th>8</th>\n",
       "      <td>585.760010</td>\n",
       "      <td>2020-11-27</td>\n",
       "      <td>2020-11-27</td>\n",
       "      <td>574.000000</td>\n",
       "      <td>555.380005</td>\n",
       "      <td>521.849976</td>\n",
       "      <td>489.609985</td>\n",
       "      <td>499.269989</td>\n",
       "      <td>486.640015</td>\n",
       "    </tr>\n",
       "    <tr>\n",
       "      <th>9</th>\n",
       "      <td>567.599976</td>\n",
       "      <td>2020-11-30</td>\n",
       "      <td>2020-11-30</td>\n",
       "      <td>585.760010</td>\n",
       "      <td>574.000000</td>\n",
       "      <td>555.380005</td>\n",
       "      <td>521.849976</td>\n",
       "      <td>489.609985</td>\n",
       "      <td>499.269989</td>\n",
       "    </tr>\n",
       "    <tr>\n",
       "      <th>10</th>\n",
       "      <td>584.760010</td>\n",
       "      <td>2020-12-01</td>\n",
       "      <td>2020-12-01</td>\n",
       "      <td>567.599976</td>\n",
       "      <td>585.760010</td>\n",
       "      <td>574.000000</td>\n",
       "      <td>555.380005</td>\n",
       "      <td>521.849976</td>\n",
       "      <td>489.609985</td>\n",
       "    </tr>\n",
       "    <tr>\n",
       "      <th>...</th>\n",
       "      <td>...</td>\n",
       "      <td>...</td>\n",
       "      <td>...</td>\n",
       "      <td>...</td>\n",
       "      <td>...</td>\n",
       "      <td>...</td>\n",
       "      <td>...</td>\n",
       "      <td>...</td>\n",
       "      <td>...</td>\n",
       "    </tr>\n",
       "    <tr>\n",
       "      <th>247</th>\n",
       "      <td>1023.500000</td>\n",
       "      <td>2021-11-09</td>\n",
       "      <td>2021-11-09</td>\n",
       "      <td>1162.939941</td>\n",
       "      <td>1222.089966</td>\n",
       "      <td>1229.910034</td>\n",
       "      <td>1213.859985</td>\n",
       "      <td>1172.000000</td>\n",
       "      <td>1208.589966</td>\n",
       "    </tr>\n",
       "    <tr>\n",
       "      <th>248</th>\n",
       "      <td>1067.949951</td>\n",
       "      <td>2021-11-10</td>\n",
       "      <td>2021-11-10</td>\n",
       "      <td>1023.500000</td>\n",
       "      <td>1162.939941</td>\n",
       "      <td>1222.089966</td>\n",
       "      <td>1229.910034</td>\n",
       "      <td>1213.859985</td>\n",
       "      <td>1172.000000</td>\n",
       "    </tr>\n",
       "    <tr>\n",
       "      <th>249</th>\n",
       "      <td>1063.510010</td>\n",
       "      <td>2021-11-11</td>\n",
       "      <td>2021-11-11</td>\n",
       "      <td>1067.949951</td>\n",
       "      <td>1023.500000</td>\n",
       "      <td>1162.939941</td>\n",
       "      <td>1222.089966</td>\n",
       "      <td>1229.910034</td>\n",
       "      <td>1213.859985</td>\n",
       "    </tr>\n",
       "    <tr>\n",
       "      <th>250</th>\n",
       "      <td>1033.420044</td>\n",
       "      <td>2021-11-12</td>\n",
       "      <td>2021-11-12</td>\n",
       "      <td>1063.510010</td>\n",
       "      <td>1067.949951</td>\n",
       "      <td>1023.500000</td>\n",
       "      <td>1162.939941</td>\n",
       "      <td>1222.089966</td>\n",
       "      <td>1229.910034</td>\n",
       "    </tr>\n",
       "    <tr>\n",
       "      <th>251</th>\n",
       "      <td>1013.390015</td>\n",
       "      <td>2021-11-15</td>\n",
       "      <td>2021-11-15</td>\n",
       "      <td>1033.420044</td>\n",
       "      <td>1063.510010</td>\n",
       "      <td>1067.949951</td>\n",
       "      <td>1023.500000</td>\n",
       "      <td>1162.939941</td>\n",
       "      <td>1222.089966</td>\n",
       "    </tr>\n",
       "  </tbody>\n",
       "</table>\n",
       "<p>246 rows × 9 columns</p>\n",
       "</div>"
      ],
      "text/plain": [
       "           Close        Date   datetime      CloseT1      CloseT2  \\\n",
       "6     555.380005  2020-11-24 2020-11-24   521.849976   489.609985   \n",
       "7     574.000000  2020-11-25 2020-11-25   555.380005   521.849976   \n",
       "8     585.760010  2020-11-27 2020-11-27   574.000000   555.380005   \n",
       "9     567.599976  2020-11-30 2020-11-30   585.760010   574.000000   \n",
       "10    584.760010  2020-12-01 2020-12-01   567.599976   585.760010   \n",
       "..           ...         ...        ...          ...          ...   \n",
       "247  1023.500000  2021-11-09 2021-11-09  1162.939941  1222.089966   \n",
       "248  1067.949951  2021-11-10 2021-11-10  1023.500000  1162.939941   \n",
       "249  1063.510010  2021-11-11 2021-11-11  1067.949951  1023.500000   \n",
       "250  1033.420044  2021-11-12 2021-11-12  1063.510010  1067.949951   \n",
       "251  1013.390015  2021-11-15 2021-11-15  1033.420044  1063.510010   \n",
       "\n",
       "         CloseT3      CloseT4      CloseT5      CloseT6  \n",
       "6     499.269989   486.640015   441.609985   408.089996  \n",
       "7     489.609985   499.269989   486.640015   441.609985  \n",
       "8     521.849976   489.609985   499.269989   486.640015  \n",
       "9     555.380005   521.849976   489.609985   499.269989  \n",
       "10    574.000000   555.380005   521.849976   489.609985  \n",
       "..           ...          ...          ...          ...  \n",
       "247  1229.910034  1213.859985  1172.000000  1208.589966  \n",
       "248  1222.089966  1229.910034  1213.859985  1172.000000  \n",
       "249  1162.939941  1222.089966  1229.910034  1213.859985  \n",
       "250  1023.500000  1162.939941  1222.089966  1229.910034  \n",
       "251  1067.949951  1023.500000  1162.939941  1222.089966  \n",
       "\n",
       "[246 rows x 9 columns]"
      ]
     },
     "execution_count": 6,
     "metadata": {},
     "output_type": "execute_result"
    }
   ],
   "source": [
    "df['datetime'] = pd.to_datetime(df.Date).values\n",
    "df['CloseT1'] = df['Close'].shift(1)\n",
    "df['CloseT2'] = df['Close'].shift(2)\n",
    "df['CloseT3'] = df['Close'].shift(3)\n",
    "df['CloseT4'] = df['Close'].shift(4)\n",
    "df['CloseT5'] = df['Close'].shift(5)\n",
    "df['CloseT6'] = df['Close'].shift(6)\n",
    "df.dropna(inplace=True)\n",
    "df"
   ]
  },
  {
   "cell_type": "code",
   "execution_count": 8,
   "metadata": {},
   "outputs": [],
   "source": [
    "from sklearn.model_selection import train_test_split\n",
    "X = df[['CloseT1', 'CloseT2', 'CloseT3', 'CloseT4', 'CloseT5', 'CloseT6']].values\n",
    "Y = df['Close'].values\n",
    "X_train, X_test, Y_train, Y_test = train_test_split(X, Y, test_size=0.2, random_state=42)\n"
   ]
  },
  {
   "cell_type": "code",
   "execution_count": 9,
   "metadata": {},
   "outputs": [],
   "source": [
    "from sklearn.linear_model import LinearRegression\n",
    "from sklearn.tree import DecisionTreeRegressor\n",
    "from sklearn.neighbors import KNeighborsRegressor\n",
    "from sklearn.svm import SVR\n"
   ]
  },
  {
   "cell_type": "code",
   "execution_count": 10,
   "metadata": {},
   "outputs": [
    {
     "data": {
      "text/plain": [
       "<matplotlib.collections.PathCollection at 0x27080a78>"
      ]
     },
     "execution_count": 10,
     "metadata": {},
     "output_type": "execute_result"
    },
    {
     "data": {
      "image/png": "[encoded data removed]",
      "text/plain": [
       "<Figure size 432x288 with 1 Axes>"
      ]
     },
     "metadata": {
      "needs_background": "light"
     },
     "output_type": "display_data"
    }
   ],
   "source": [
    "import matplotlib.pyplot as plt\n",
    "model = LinearRegression().fit(X_train, Y_train)\n",
    "Y_pred = model.predict(X_test)\n",
    "plt.scatter(Y_test, Y_pred)"
   ]
  },
  {
   "cell_type": "code",
   "execution_count": 11,
   "metadata": {},
   "outputs": [
    {
     "data": {
      "text/plain": [
       "(1850,\n",
       " array(['Ariel Sharon', 'Colin Powell', 'Donald Rumsfeld', 'George W Bush',\n",
       "        'Gerhard Schroeder', 'Hugo Chavez', 'Jacques Chirac',\n",
       "        'Jean Chretien', 'John Ashcroft', 'Junichiro Koizumi',\n",
       "        'Serena Williams', 'Tony Blair'], dtype='<U17'))"
      ]
     },
     "execution_count": 11,
     "metadata": {},
     "output_type": "execute_result"
    }
   ],
   "source": [
    "from sklearn.datasets import fetch_lfw_people\n",
    "lfw_people = fetch_lfw_people(min_faces_per_person=50, resize=0.4)\n",
    "X = lfw_people.data\n",
    "y = lfw_people.target\n",
    "X_train, X_test, y_train, y_test = train_test_split(X, y, test_size=0.25, random_state=42)\n",
    "\n",
    "n_features = X.shape[1]\n",
    "target_names = lfw_people.target_names\n",
    "n_classes = target_names.shape[0]\n",
    "h = 50 #image height\n",
    "w = 37 #image width\n",
    "n_features, target_names\n"
   ]
  },
  {
   "cell_type": "code",
   "execution_count": 13,
   "metadata": {},
   "outputs": [
    {
     "data": {
      "text/plain": [
       "<matplotlib.image.AxesImage at 0x5635730>"
      ]
     },
     "execution_count": 13,
     "metadata": {},
     "output_type": "execute_result"
    },
    {
     "data": {
      "image/png": "[encoded data removed]",
      "text/plain": [
       "<Figure size 432x288 with 1 Axes>"
      ]
     },
     "metadata": {
      "needs_background": "light"
     },
     "output_type": "display_data"
    }
   ],
   "source": [
    "plt.imshow(X_test[4].reshape((h, w)), cmap=plt.cm.gray)"
   ]
  },
  {
   "cell_type": "code",
   "execution_count": 14,
   "metadata": {},
   "outputs": [
    {
     "data": {
      "text/plain": [
       "array([ 9.666667,  8.666667,  8.      , ..., 74.333336, 74.333336,\n",
       "       70.666664], dtype=float32)"
      ]
     },
     "execution_count": 14,
     "metadata": {},
     "output_type": "execute_result"
    }
   ],
   "source": [
    "X_test[4]"
   ]
  },
  {
   "cell_type": "code",
   "execution_count": 15,
   "metadata": {},
   "outputs": [],
   "source": [
    "from sklearn.decomposition import PCA\n",
    "n_components = 150\n",
    "pca = PCA(n_components=n_components, svd_solver='randomized', whiten=True).fit(X_train)\n"
   ]
  },
  {
   "cell_type": "code",
   "execution_count": 16,
   "metadata": {},
   "outputs": [],
   "source": [
    "eigenfaces = pca.components_.reshape((n_components, h, w))\n",
    "X_train_pca = pca.transform(X_train)\n",
    "X_test_pca = pca.transform(X_test)\n"
   ]
  },
  {
   "cell_type": "code",
   "execution_count": 17,
   "metadata": {},
   "outputs": [
    {
     "data": {
      "text/plain": [
       "<matplotlib.image.AxesImage at 0x566ea18>"
      ]
     },
     "execution_count": 17,
     "metadata": {},
     "output_type": "execute_result"
    },
    {
     "data": {
      "image/png": "[encoded data removed]",
      "text/plain": [
       "<Figure size 432x288 with 1 Axes>"
      ]
     },
     "metadata": {
      "needs_background": "light"
     },
     "output_type": "display_data"
    }
   ],
   "source": [
    "plt.imshow(eigenfaces[0].reshape((h, w)), cmap=plt.cm.gray)"
   ]
  },
  {
   "cell_type": "code",
   "execution_count": 18,
   "metadata": {},
   "outputs": [],
   "source": [
    "from sklearn.svm import SVC\n",
    "model = SVC() \n",
    "model.fit(X_train_pca, y_train)\n",
    "y_pred = model.predict(X_test_pca)\n"
   ]
  },
  {
   "cell_type": "code",
   "execution_count": 20,
   "metadata": {},
   "outputs": [
    {
     "name": "stdout",
     "output_type": "stream",
     "text": [
      "                   precision    recall  f1-score   support\n",
      "\n",
      "     Ariel Sharon       1.00      0.56      0.72        16\n",
      "     Colin Powell       0.85      0.91      0.88        66\n",
      "  Donald Rumsfeld       0.94      0.59      0.73        27\n",
      "    George W Bush       0.63      0.99      0.77       140\n",
      "Gerhard Schroeder       0.92      0.50      0.65        24\n",
      "      Hugo Chavez       1.00      0.35      0.52        17\n",
      "   Jacques Chirac       1.00      0.10      0.18        10\n",
      "    Jean Chretien       1.00      0.57      0.73        14\n",
      "    John Ashcroft       1.00      0.44      0.61        16\n",
      "Junichiro Koizumi       1.00      0.55      0.71        11\n",
      "  Serena Williams       1.00      0.44      0.62         9\n",
      "       Tony Blair       0.97      0.70      0.81        40\n",
      "\n",
      "         accuracy                           0.76       390\n",
      "        macro avg       0.94      0.56      0.66       390\n",
      "     weighted avg       0.83      0.76      0.74       390\n",
      "\n",
      "[[  9   1   1   5   0   0   0   0   0   0   0   0]\n",
      " [  0  60   0   6   0   0   0   0   0   0   0   0]\n",
      " [  0   1  16  10   0   0   0   0   0   0   0   0]\n",
      " [  0   1   0 139   0   0   0   0   0   0   0   0]\n",
      " [  0   1   0  11  12   0   0   0   0   0   0   0]\n",
      " [  0   3   0   8   0   6   0   0   0   0   0   0]\n",
      " [  0   1   0   7   0   0   1   0   0   0   0   1]\n",
      " [  0   2   0   4   0   0   0   8   0   0   0   0]\n",
      " [  0   1   0   8   0   0   0   0   7   0   0   0]\n",
      " [  0   0   0   5   0   0   0   0   0   6   0   0]\n",
      " [  0   0   0   5   0   0   0   0   0   0   4   0]\n",
      " [  0   0   0  11   1   0   0   0   0   0   0  28]]\n"
     ]
    }
   ],
   "source": [
    "from sklearn import metrics\n",
    "print(metrics.classification_report(y_test, y_pred, target_names=target_names))\n",
    "print(metrics.confusion_matrix(y_test, y_pred, labels=range(n_classes)))\n"
   ]
  }
 ],
 "metadata": {
  "kernelspec": {
   "display_name": "Python 3.8.5 32-bit",
   "language": "python",
   "name": "python3"
  },
  "language_info": {
   "codemirror_mode": {
    "name": "ipython",
    "version": 3
   },
   "file_extension": ".py",
   "mimetype": "text/x-python",
   "name": "python",
   "nbconvert_exporter": "python",
   "pygments_lexer": "ipython3",
   "version": "3.8.5"
  },
  "orig_nbformat": 4,
  "vscode": {
   "interpreter": {
    "hash": "6d1e45cadc3597bb8b6600530fbdf8c3eefe919a24ef54d9d32b318795b772e0"
   }
  }
 },
 "nbformat": 4,
 "nbformat_minor": 2
}
