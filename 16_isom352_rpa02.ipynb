{
 "cells": [
  {
   "cell_type": "code",
   "execution_count": 1,
   "metadata": {},
   "outputs": [],
   "source": [
    "import pyautogui \n",
    "pyautogui.mouseInfo()"
   ]
  },
  {
   "cell_type": "code",
   "execution_count": 2,
   "metadata": {},
   "outputs": [],
   "source": [
    "for i in range(5): # Move mouse in a square.\n",
    "    pyautogui.moveTo(2000, 100, duration=1)\n",
    "    pyautogui.moveTo(2200, 100, duration=1)\n",
    "    pyautogui.moveTo(2200, 200, duration=1)\n",
    "    pyautogui.moveTo(2000, 200, duration=1)"
   ]
  },
  {
   "cell_type": "code",
   "execution_count": 4,
   "metadata": {},
   "outputs": [],
   "source": [
    "import time\n",
    "time.sleep(5)\n",
    "pyautogui.click()    # Click to make the window active.\n",
    "distance = 300\n",
    "change = 20\n",
    "while distance > 0:\n",
    "    pyautogui.drag(distance, 0, duration=0.2)   # Move right.\n",
    "    distance = distance - change\n",
    "    pyautogui.drag(0, distance, duration=0.2)   # Move down.\n",
    "    pyautogui.drag(-distance, 0, duration=0.2)  # Move left.\n",
    "    distance = distance - change\n",
    "    pyautogui.drag(0, -distance, duration=0.2)  # Move up.\n"
   ]
  },
  {
   "cell_type": "code",
   "execution_count": 6,
   "metadata": {},
   "outputs": [],
   "source": [
    "pyautogui.scroll(300)"
   ]
  },
  {
   "cell_type": "code",
   "execution_count": 8,
   "metadata": {},
   "outputs": [
    {
     "name": "stdout",
     "output_type": "stream",
     "text": [
      "None\n"
     ]
    },
    {
     "ename": "TypeError",
     "evalue": "'NoneType' object is not subscriptable",
     "output_type": "error",
     "traceback": [
      "\u001b[1;31m---------------------------------------------------------------------------\u001b[0m",
      "\u001b[1;31mTypeError\u001b[0m                                 Traceback (most recent call last)",
      "Cell \u001b[1;32mIn [8], line 12\u001b[0m\n\u001b[0;32m     10\u001b[0m \u001b[39m#pyautogui.click(b) # click on the selected coordinates\u001b[39;00m\n\u001b[0;32m     11\u001b[0m \u001b[39mprint\u001b[39m(b)\n\u001b[1;32m---> 12\u001b[0m pyautogui\u001b[39m.\u001b[39mclick(b[\u001b[39m0\u001b[39m], b[\u001b[39m1\u001b[39m]\u001b[39m-\u001b[39m\u001b[39m50\u001b[39m)\n\u001b[0;32m     13\u001b[0m \u001b[39m#pyautogui.write('robotic process automation')\u001b[39;00m\n\u001b[0;32m     14\u001b[0m pyautogui\u001b[39m.\u001b[39mtypewrite(\u001b[39m'\u001b[39m\u001b[39mrobotic process automation\u001b[39m\u001b[39m'\u001b[39m, \u001b[39m0.1\u001b[39m)\n",
      "\u001b[1;31mTypeError\u001b[0m: 'NoneType' object is not subscriptable"
     ]
    }
   ],
   "source": [
    "import pyautogui\n",
    "import time\n",
    "from selenium import webdriver\n",
    "\n",
    "driver = webdriver.Chrome('./chromedriver')\n",
    "driver.get(\"https://www.google.com\")\n",
    "time.sleep(5)\n",
    "#b = pyautogui.locateOnScreen('googlesubmit.png') # location of image on screen\n",
    "b = pyautogui.locateOnScreen('gsearch.png', confidence=0.7)\n",
    "#pyautogui.click(b) # click on the selected coordinates\n",
    "print(b)\n",
    "pyautogui.click(b[0], b[1]-50)\n",
    "#pyautogui.write('robotic process automation')\n",
    "pyautogui.typewrite('robotic process automation', 0.1)\n",
    "pyautogui.keyDown('enter')\n"
   ]
  },
  {
   "cell_type": "code",
   "execution_count": 9,
   "metadata": {},
   "outputs": [],
   "source": [
    "time.sleep(5)\n",
    "pyautogui.click()\n",
    "pyautogui.typewrite('robotic process automation', 0.1)\n",
    "pyautogui.keyDown('enter')"
   ]
  },
  {
   "cell_type": "code",
   "execution_count": 10,
   "metadata": {},
   "outputs": [],
   "source": [
    "time.sleep(5)\n",
    "pyautogui.click()\n",
    "pyautogui.write('Hello, world!')"
   ]
  },
  {
   "cell_type": "code",
   "execution_count": 11,
   "metadata": {},
   "outputs": [],
   "source": [
    "time.sleep(5)\n",
    "pyautogui.click()\n",
    "pyautogui.write('This is AI taking over your keyboard! HA Ha Ha HA!', interval=0.15)\n"
   ]
  },
  {
   "cell_type": "code",
   "execution_count": 12,
   "metadata": {},
   "outputs": [
    {
     "data": {
      "text/plain": [
       "'Cancel'"
      ]
     },
     "execution_count": 12,
     "metadata": {},
     "output_type": "execute_result"
    }
   ],
   "source": [
    "pyautogui.confirm('Do you want to continue?')"
   ]
  },
  {
   "cell_type": "code",
   "execution_count": 13,
   "metadata": {},
   "outputs": [
    {
     "data": {
      "text/plain": [
       "'newimage.jpg'"
      ]
     },
     "execution_count": 13,
     "metadata": {},
     "output_type": "execute_result"
    }
   ],
   "source": [
    "pyautogui.prompt('your choice 1, 2, 3, 4?')"
   ]
  },
  {
   "cell_type": "code",
   "execution_count": 14,
   "metadata": {},
   "outputs": [],
   "source": [
    "import ezgmail, os\n",
    "\n",
    "ezgmail.init()\n",
    "ezgmail.EMAIL_ADDRESS\n",
    "\n",
    "ezgmail.send('grace.zhang@emory.edu', 'python sent this email', 'Howdy, I am a robot')\n"
   ]
  },
  {
   "cell_type": "code",
   "execution_count": 15,
   "metadata": {},
   "outputs": [],
   "source": [
    "import ezgmail\n",
    "import subprocess\n",
    "import time\n",
    "ezgmail.init()\n",
    "while True:\n",
    "    unreadThreads = ezgmail.unread()\n",
    "    if len(unreadThreads) == 0:\n",
    "        time.sleep(10)\n",
    "    elif unreadThreads[0].messages[0].sender.find(\"emory.garg@gmail.com\") !=-1:\n",
    "        attach = unreadThreads[0].messages[0].attachments[0]\n",
    "        unreadThreads[0].messages[0].downloadAttachment(attach)\n",
    "        subprocess.Popen(['start', attach], shell=True)\n",
    "        break\n"
   ]
  }
 ],
 "metadata": {
  "kernelspec": {
   "display_name": "Python 3.8.5 32-bit",
   "language": "python",
   "name": "python3"
  },
  "language_info": {
   "codemirror_mode": {
    "name": "ipython",
    "version": 3
   },
   "file_extension": ".py",
   "mimetype": "text/x-python",
   "name": "python",
   "nbconvert_exporter": "python",
   "pygments_lexer": "ipython3",
   "version": "3.8.5"
  },
  "orig_nbformat": 4,
  "vscode": {
   "interpreter": {
    "hash": "6d1e45cadc3597bb8b6600530fbdf8c3eefe919a24ef54d9d32b318795b772e0"
   }
  }
 },
 "nbformat": 4,
 "nbformat_minor": 2
}
