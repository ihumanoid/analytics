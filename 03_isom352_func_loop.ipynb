{
  "nbformat": 4,
  "nbformat_minor": 0,
  "metadata": {
    "colab": {
      "provenance": [],
      "authorship_tag": "ABX9TyOWZWykAnbmwLu8KrTsvG3m",
      "include_colab_link": true
    },
    "kernelspec": {
      "name": "python3",
      "display_name": "Python 3"
    },
    "language_info": {
      "name": "python"
    }
  },
  "cells": [
    {
      "cell_type": "markdown",
      "metadata": {
        "id": "view-in-github",
        "colab_type": "text"
      },
      "source": [
        "<a href=\"https://colab.research.google.com/github/ihumanoid/analytics/blob/main/03_isom352_func_loop.ipynb\" target=\"_parent\"><img src=\"https://colab.research.google.com/assets/colab-badge.svg\" alt=\"Open In Colab\"/></a>"
      ]
    },
    {
      "cell_type": "code",
      "execution_count": 2,
      "metadata": {
        "colab": {
          "base_uri": "https://localhost:8080/",
          "height": 218
        },
        "id": "qtUwyPaJHiod",
        "outputId": "ec9f9ff2-e5bb-46cc-d827-ae4f0c395c61"
      },
      "outputs": [
        {
          "name": "stdout",
          "output_type": "stream",
          "text": [
            "eneter ageten\n"
          ]
        },
        {
          "output_type": "error",
          "ename": "ValueError",
          "evalue": "ignored",
          "traceback": [
            "\u001b[0;31m---------------------------------------------------------------------------\u001b[0m",
            "\u001b[0;31mValueError\u001b[0m                                Traceback (most recent call last)",
            "\u001b[0;32m<ipython-input-2-00a7dca437d5>\u001b[0m in \u001b[0;36m<module>\u001b[0;34m\u001b[0m\n\u001b[1;32m      1\u001b[0m \u001b[0ma\u001b[0m \u001b[0;34m=\u001b[0m \u001b[0minput\u001b[0m\u001b[0;34m(\u001b[0m\u001b[0;34m\"eneter age\"\u001b[0m\u001b[0;34m)\u001b[0m\u001b[0;34m\u001b[0m\u001b[0;34m\u001b[0m\u001b[0m\n\u001b[0;32m----> 2\u001b[0;31m \u001b[0mn\u001b[0m \u001b[0;34m=\u001b[0m \u001b[0mint\u001b[0m\u001b[0;34m(\u001b[0m\u001b[0ma\u001b[0m\u001b[0;34m)\u001b[0m\u001b[0;34m\u001b[0m\u001b[0;34m\u001b[0m\u001b[0m\n\u001b[0m\u001b[1;32m      3\u001b[0m \u001b[0mprint\u001b[0m\u001b[0;34m(\u001b[0m\u001b[0;34m\"age:\"\u001b[0m\u001b[0;34m,\u001b[0m\u001b[0mn\u001b[0m\u001b[0;34m)\u001b[0m\u001b[0;34m\u001b[0m\u001b[0;34m\u001b[0m\u001b[0m\n",
            "\u001b[0;31mValueError\u001b[0m: invalid literal for int() with base 10: 'ten'"
          ]
        }
      ],
      "source": [
        "a = input(\"eneter age\")\n",
        "n = int(a)\n",
        "print(\"age:\",n)"
      ]
    },
    {
      "cell_type": "code",
      "source": [
        "try:\n",
        "  a = input(\"eneter age\")\n",
        "  n = 1/int(a)\n",
        "  print(\"age:\",n)\n",
        "except ValueError:\n",
        "  print(\"age entered is not numeric\")\n",
        "  n = 0\n",
        "except ZeroDivisionError:\n",
        "  print(\"entered age is zero\")\n",
        "  n = 10000\n",
        "except:\n",
        "  print(\"some error occured\")\n",
        "print(\"continuing with code\", n)"
      ],
      "metadata": {
        "colab": {
          "base_uri": "https://localhost:8080/"
        },
        "id": "5WrUG_OaQRu_",
        "outputId": "5b869f52-ccb2-40f2-fda3-4f1111b34a79"
      },
      "execution_count": 11,
      "outputs": [
        {
          "output_type": "stream",
          "name": "stdout",
          "text": [
            "eneter ageten\n",
            "age entered is not numeric\n",
            "continuing with code 0\n"
          ]
        }
      ]
    },
    {
      "cell_type": "code",
      "source": [
        " def inputTOint(s):\n",
        "   a = input(s)\n",
        "   b = int(a)\n",
        "   return \"converted age\"\n",
        "\n",
        "print(inputTOint(\"enetr your age\")*2)"
      ],
      "metadata": {
        "colab": {
          "base_uri": "https://localhost:8080/"
        },
        "id": "rAYXgUYgSckw",
        "outputId": "b2253240-643f-4428-e1b0-06169cc944d6"
      },
      "execution_count": 15,
      "outputs": [
        {
          "output_type": "stream",
          "name": "stdout",
          "text": [
            "enetr your age5\n",
            "converted ageconverted age\n"
          ]
        }
      ]
    },
    {
      "cell_type": "code",
      "source": [
        "def inputTOint():\n",
        "   a = input(\"enter age\")\n",
        "   b = int(a)\n",
        "   return b\n",
        "\n",
        "print(inputTOint()*2)"
      ],
      "metadata": {
        "colab": {
          "base_uri": "https://localhost:8080/"
        },
        "id": "QueJ8nBaTjrb",
        "outputId": "46b3fc2b-685b-4eef-ff1d-91c1a923e3b4"
      },
      "execution_count": 17,
      "outputs": [
        {
          "output_type": "stream",
          "name": "stdout",
          "text": [
            "enter age5\n",
            "10\n"
          ]
        }
      ]
    },
    {
      "cell_type": "code",
      "source": [
        "def addInputs(s, z):\n",
        "   a = input(s)\n",
        "   c = input(z)\n",
        "   b = int(a)+int(c)\n",
        "   return b\n",
        "\n",
        "print(addInputs(\"eneter num 1\", \"eneter num 2\"))\n",
        "\n",
        "print(addInputs(\"1?\", \"2?\"))\n"
      ],
      "metadata": {
        "colab": {
          "base_uri": "https://localhost:8080/"
        },
        "id": "KnlKAibfTyOq",
        "outputId": "b62496b6-64ee-4d52-bc29-b5a29858d817"
      },
      "execution_count": 22,
      "outputs": [
        {
          "output_type": "stream",
          "name": "stdout",
          "text": [
            "eneter num 1123\n",
            "eneter num 2234\n",
            "357\n",
            "1?12\n",
            "2?21\n",
            "33\n"
          ]
        }
      ]
    },
    {
      "cell_type": "code",
      "source": [
        "def addInputs(s, z):\n",
        "  return 10\n",
        "  a = input(s)\n",
        "  c = input(z)\n",
        "  b = int(a)+int(c)\n",
        "  return b\n",
        "\n",
        "print(addInputs(\"eneter num 1\", \"eneter num 2\"))\n"
      ],
      "metadata": {
        "colab": {
          "base_uri": "https://localhost:8080/"
        },
        "id": "1CzsRDKmVVFb",
        "outputId": "4b1e88a0-f19c-434c-9cfa-489c8ee86431"
      },
      "execution_count": 26,
      "outputs": [
        {
          "output_type": "stream",
          "name": "stdout",
          "text": [
            "10\n"
          ]
        }
      ]
    },
    {
      "cell_type": "code",
      "source": [
        "def inputTOint():\n",
        "   try:\n",
        "     a = input(\"enter age\")\n",
        "     b = int(a)\n",
        "   except:\n",
        "    print(\"non numeric value encountered\")\n",
        "    b=0\n",
        "   return b\n",
        "\n",
        "print(inputTOint()*2)"
      ],
      "metadata": {
        "colab": {
          "base_uri": "https://localhost:8080/"
        },
        "id": "U2DnwEdeVstc",
        "outputId": "17dd6903-f6b2-4a06-ce69-83ba653a2bf1"
      },
      "execution_count": 29,
      "outputs": [
        {
          "output_type": "stream",
          "name": "stdout",
          "text": [
            "enter ageten\n",
            "non numeric value encountered\n",
            "0\n"
          ]
        }
      ]
    },
    {
      "cell_type": "code",
      "source": [
        "def inputTOint():\n",
        "   success = False\n",
        "   while success == False:\n",
        "    try:\n",
        "      a = input(\"enter age\")\n",
        "      b = int(a)\n",
        "      success = True\n",
        "    except:\n",
        "      print(\"non numeric value encountered\")\n",
        "   return b\n",
        "\n",
        "print(inputTOint())"
      ],
      "metadata": {
        "colab": {
          "base_uri": "https://localhost:8080/"
        },
        "id": "ZEFRQrH5XiMb",
        "outputId": "f703330a-9668-4037-dd01-b98a1adcbb46"
      },
      "execution_count": 31,
      "outputs": [
        {
          "output_type": "stream",
          "name": "stdout",
          "text": [
            "enter ageten\n",
            "non numeric value encountered\n",
            "enter agefive\n",
            "non numeric value encountered\n",
            "enter age7\n",
            "7\n"
          ]
        }
      ]
    },
    {
      "cell_type": "code",
      "source": [
        "N = 0\n",
        "while True:\n",
        "  N = N+1\n",
        "  print(\"N: \", N)\n",
        "  if N>10:\n",
        "    break\n",
        "    "
      ],
      "metadata": {
        "colab": {
          "base_uri": "https://localhost:8080/"
        },
        "id": "XQthS9qTaLRq",
        "outputId": "a86ae0f1-4d07-41f0-c8f3-8f79dc854b48"
      },
      "execution_count": 35,
      "outputs": [
        {
          "output_type": "stream",
          "name": "stdout",
          "text": [
            "N:  1\n",
            "N:  2\n",
            "N:  3\n",
            "N:  4\n",
            "N:  5\n",
            "N:  6\n",
            "N:  7\n",
            "N:  8\n",
            "N:  9\n",
            "N:  10\n"
          ]
        }
      ]
    },
    {
      "cell_type": "code",
      "source": [
        "N = 0\n",
        "while True:\n",
        "  if N<5:\n",
        "    N = N+1\n",
        "    print(\"N: \", N)\n",
        "    continue\n",
        "  \n",
        "  if N>10:\n",
        "    break"
      ],
      "metadata": {
        "colab": {
          "base_uri": "https://localhost:8080/"
        },
        "id": "FqrPb1b7bsLK",
        "outputId": "f7ae9fde-6928-43d5-bab0-370c3cb92e62"
      },
      "execution_count": 38,
      "outputs": [
        {
          "output_type": "stream",
          "name": "stdout",
          "text": [
            "N:  1\n",
            "N:  2\n",
            "N:  3\n",
            "N:  4\n"
          ]
        }
      ]
    },
    {
      "cell_type": "code",
      "source": [
        "print(1/0)"
      ],
      "metadata": {
        "colab": {
          "base_uri": "https://localhost:8080/",
          "height": 166
        },
        "id": "RbTiG72mQu_f",
        "outputId": "0284c475-154f-4be9-93ba-d63b17c680ad"
      },
      "execution_count": 7,
      "outputs": [
        {
          "output_type": "error",
          "ename": "ZeroDivisionError",
          "evalue": "ignored",
          "traceback": [
            "\u001b[0;31m---------------------------------------------------------------------------\u001b[0m",
            "\u001b[0;31mZeroDivisionError\u001b[0m                         Traceback (most recent call last)",
            "\u001b[0;32m<ipython-input-7-2fc232d1511a>\u001b[0m in \u001b[0;36m<module>\u001b[0;34m\u001b[0m\n\u001b[0;32m----> 1\u001b[0;31m \u001b[0mprint\u001b[0m\u001b[0;34m(\u001b[0m\u001b[0;36m1\u001b[0m\u001b[0;34m/\u001b[0m\u001b[0;36m0\u001b[0m\u001b[0;34m)\u001b[0m\u001b[0;34m\u001b[0m\u001b[0;34m\u001b[0m\u001b[0m\n\u001b[0m",
            "\u001b[0;31mZeroDivisionError\u001b[0m: division by zero"
          ]
        }
      ]
    }
  ]
}