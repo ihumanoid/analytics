{
  "nbformat": 4,
  "nbformat_minor": 0,
  "metadata": {
    "colab": {
      "provenance": [],
      "authorship_tag": "ABX9TyNcDN/BQYv2KPVCml+8RY5x",
      "include_colab_link": true
    },
    "kernelspec": {
      "name": "python3",
      "display_name": "Python 3"
    },
    "language_info": {
      "name": "python"
    }
  },
  "cells": [
    {
      "cell_type": "markdown",
      "metadata": {
        "id": "view-in-github",
        "colab_type": "text"
      },
      "source": [
        "<a href=\"https://colab.research.google.com/github/ihumanoid/analytics/blob/main/05_isom352_files.ipynb\" target=\"_parent\"><img src=\"https://colab.research.google.com/assets/colab-badge.svg\" alt=\"Open In Colab\"/></a>"
      ]
    },
    {
      "cell_type": "code",
      "execution_count": null,
      "metadata": {
        "id": "Y-fogWiJPvtY",
        "colab": {
          "base_uri": "https://localhost:8080/",
          "height": 235
        },
        "outputId": "cfe58bca-e986-41ce-dc37-4906db81b7bf"
      },
      "outputs": [
        {
          "output_type": "error",
          "ename": "FileNotFoundError",
          "evalue": "ignored",
          "traceback": [
            "\u001b[0;31m---------------------------------------------------------------------------\u001b[0m",
            "\u001b[0;31mFileNotFoundError\u001b[0m                         Traceback (most recent call last)",
            "\u001b[0;32m<ipython-input-4-b7493df455a5>\u001b[0m in \u001b[0;36m<module>\u001b[0;34m\u001b[0m\n\u001b[1;32m      1\u001b[0m \u001b[0;31m#dementia = pd.read_csv('https://raw.githubusercontent.com/ihumanoid/mental_health/main/dementia_dataset.csv')\u001b[0m\u001b[0;34m\u001b[0m\u001b[0;34m\u001b[0m\u001b[0;34m\u001b[0m\u001b[0m\n\u001b[1;32m      2\u001b[0m \u001b[0;31m#DATA SOURCE: https://www.kaggle.com/datasets/dhruvildave/billboard-the-hot-100-songs\u001b[0m\u001b[0;34m\u001b[0m\u001b[0;34m\u001b[0m\u001b[0;34m\u001b[0m\u001b[0m\n\u001b[0;32m----> 3\u001b[0;31m \u001b[0mf\u001b[0m \u001b[0;34m=\u001b[0m \u001b[0mopen\u001b[0m\u001b[0;34m(\u001b[0m\u001b[0;34m\"https://raw.githubusercontent.com/ihumanoid/analytics/main/billboard_charts_2021_11_06.csv\"\u001b[0m\u001b[0;34m,\u001b[0m \u001b[0;34m\"r\"\u001b[0m\u001b[0;34m)\u001b[0m\u001b[0;34m\u001b[0m\u001b[0;34m\u001b[0m\u001b[0m\n\u001b[0m\u001b[1;32m      4\u001b[0m \u001b[0;32mfor\u001b[0m \u001b[0mline\u001b[0m \u001b[0;32min\u001b[0m \u001b[0mf\u001b[0m\u001b[0;34m:\u001b[0m\u001b[0;34m\u001b[0m\u001b[0;34m\u001b[0m\u001b[0m\n\u001b[1;32m      5\u001b[0m     \u001b[0mprint\u001b[0m\u001b[0;34m(\u001b[0m\u001b[0mline\u001b[0m\u001b[0;34m)\u001b[0m\u001b[0;34m\u001b[0m\u001b[0;34m\u001b[0m\u001b[0m\n",
            "\u001b[0;31mFileNotFoundError\u001b[0m: [Errno 2] No such file or directory: 'https://raw.githubusercontent.com/ihumanoid/analytics/main/billboard_charts_2021_11_06.csv'"
          ]
        }
      ],
      "source": [
        "# %%\n",
        "#DATA SOURCE: https://www.kaggle.com/datasets/dhruvildave/billboard-the-hot-100-songs\n",
        "f = open(\"datasets/billboard_charts_2021_11_06.csv\", \"r\")\n",
        "for line in f:\n",
        "    print(line)\n",
        "f.close()\n",
        "\n",
        "# %%\n",
        "f = open(\"datasets/billboard_charts_2021_11_06.csv\", \"r\")\n",
        "for line in f:\n",
        "    row = line.split(\",\")\n",
        "    print(row[1], row[2], row[3])\n",
        "f.close()\n",
        "\n",
        "# %%\n",
        "import csv\n",
        "f = open(\"datasets/billboard_charts_2021_11_06.csv\", \"r\")\n",
        "c = csv.reader(f, delimiter=',')\n",
        "for line in c:\n",
        "    print(line)\n",
        "f.close()\n",
        "\n",
        "# %%\n",
        "import csv\n",
        "f = open(\"datasets/billboard_charts_2021_11_06.csv\", \"r\")\n",
        "c = csv.reader(f, delimiter=',')\n",
        "for line in c:\n",
        "    print(line[1],line[2], line[3])\n",
        "f.close()\n",
        "\n",
        "# %%\n",
        "import openpyxl\n",
        "wb = openpyxl.load_workbook(filename = \"datasets/billboard_charts_2021_11_06.xlsx\")\n",
        "sheet = wb['billboard_charts_2021_11_06']\n",
        "for line in sheet:\n",
        "    print(line)\n",
        "wb.close()\n",
        "\n",
        "# %%\n",
        "import openpyxl\n",
        "wb = openpyxl.load_workbook(filename = \"datasets/billboard_charts_2021_11_06.xlsx\")\n",
        "sheet = wb['billboard_charts_2021_11_06']\n",
        "for line in sheet:\n",
        "    print(line[1].value, line[2].value, line[3].value)\n",
        "wb.close()\n",
        "\n",
        "# %%\n",
        "import json\n",
        "f = open(\"datasets/billboard_charts_2021_11_06.json\", \"r\")\n",
        "data = json.load(f)\n",
        "for line in data:\n",
        "    print(data[line])\n",
        "f.close()\n",
        "\n",
        "# %%\n",
        "import json\n",
        "f = open(\"datasets/billboard_charts_2021_11_06.json\", \"r\")\n",
        "data = json.load(f)\n",
        "for line in data:\n",
        "    print(data[line]['rank'],data[line]['artist'], data[line]['song'])\n",
        "f.close()\n",
        "\n",
        "# %%\n",
        "d = json.loads('{\"people\":[{\"name\":\"Rajiv\", \"website\":\"www.rajivgarg.org\", \"from\":\"Atlanta\"}]}')\n",
        "print(d['people'][0]['name'])\n"
      ]
    }
  ]
}