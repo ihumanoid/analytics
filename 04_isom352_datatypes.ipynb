{
  "nbformat": 4,
  "nbformat_minor": 0,
  "metadata": {
    "colab": {
      "provenance": [],
      "authorship_tag": "ABX9TyMUhEdYKGqGSBr2ZndeVqJ2",
      "include_colab_link": true
    },
    "kernelspec": {
      "name": "python3",
      "display_name": "Python 3"
    },
    "language_info": {
      "name": "python"
    }
  },
  "cells": [
    {
      "cell_type": "markdown",
      "metadata": {
        "id": "view-in-github",
        "colab_type": "text"
      },
      "source": [
        "<a href=\"https://colab.research.google.com/github/ihumanoid/analytics/blob/main/04_isom352_datatypes.ipynb\" target=\"_parent\"><img src=\"https://colab.research.google.com/assets/colab-badge.svg\" alt=\"Open In Colab\"/></a>"
      ]
    },
    {
      "cell_type": "code",
      "execution_count": 4,
      "metadata": {
        "colab": {
          "base_uri": "https://localhost:8080/"
        },
        "id": "EvCXoMJq95Vq",
        "outputId": "1571d72a-62f9-42ab-ee61-a4e418c5ed64"
      },
      "outputs": [
        {
          "output_type": "stream",
          "name": "stdout",
          "text": [
            "0\n",
            "1\n",
            "2\n",
            "3\n",
            "4\n"
          ]
        }
      ],
      "source": [
        "for i in range(0, 5):\n",
        "  print(i)"
      ]
    },
    {
      "cell_type": "code",
      "source": [
        "for i in [0, 2, 4, 6, 8]:\n",
        "  print(i)"
      ],
      "metadata": {
        "id": "JlhmWmna_Bqk",
        "outputId": "ab0e9c84-9569-4040-8925-edeeb7a99578",
        "colab": {
          "base_uri": "https://localhost:8080/"
        }
      },
      "execution_count": 5,
      "outputs": [
        {
          "output_type": "stream",
          "name": "stdout",
          "text": [
            "0\n",
            "2\n",
            "4\n",
            "6\n",
            "8\n"
          ]
        }
      ]
    },
    {
      "cell_type": "code",
      "source": [
        "for i in [\"ab\", \"bc\",\"cd\"]:\n",
        "  print(i)"
      ],
      "metadata": {
        "id": "YFcIoSsr_HJE",
        "outputId": "5d3b5fd3-2f00-416c-948d-c21ab2182aa9",
        "colab": {
          "base_uri": "https://localhost:8080/"
        }
      },
      "execution_count": 6,
      "outputs": [
        {
          "output_type": "stream",
          "name": "stdout",
          "text": [
            "ab\n",
            "bc\n",
            "cd\n"
          ]
        }
      ]
    },
    {
      "cell_type": "code",
      "source": [
        "for i in \"ISOM352\":\n",
        "  print(i)"
      ],
      "metadata": {
        "id": "4EKqnye4_NYR",
        "outputId": "c8e7f7e2-01d6-4405-fa7c-9de4b49648a0",
        "colab": {
          "base_uri": "https://localhost:8080/"
        }
      },
      "execution_count": 7,
      "outputs": [
        {
          "output_type": "stream",
          "name": "stdout",
          "text": [
            "I\n",
            "S\n",
            "O\n",
            "M\n",
            "3\n",
            "5\n",
            "2\n"
          ]
        }
      ]
    },
    {
      "cell_type": "code",
      "source": [
        "max =  0\n",
        "for i in [15, 34, 27, 61, 21]:\n",
        "  if i > max:\n",
        "    max = i\n",
        "print(\"max: \", max)"
      ],
      "metadata": {
        "id": "YS33sRwP_px0",
        "outputId": "0a28b77e-53ad-4823-92fb-d3abacbfbdef",
        "colab": {
          "base_uri": "https://localhost:8080/"
        }
      },
      "execution_count": 8,
      "outputs": [
        {
          "output_type": "stream",
          "name": "stdout",
          "text": [
            "max:  61\n"
          ]
        }
      ]
    },
    {
      "cell_type": "code",
      "source": [
        "s =  0\n",
        "for i in [15, 34, 27, 61, 21, 34, 56, 79]:\n",
        "  s = s+i\n",
        "print(\"sum: \", s)"
      ],
      "metadata": {
        "id": "gay_2DuYAPTw",
        "outputId": "1c75f2ff-d7c7-4b47-d274-2a3240a30ca4",
        "colab": {
          "base_uri": "https://localhost:8080/"
        }
      },
      "execution_count": 10,
      "outputs": [
        {
          "output_type": "stream",
          "name": "stdout",
          "text": [
            "sum:  327\n"
          ]
        }
      ]
    },
    {
      "cell_type": "code",
      "source": [
        "s =  0\n",
        "for i in [15, 34, 27, 61, 21, 34, 56, 79]:\n",
        "  s = s+i\n",
        "print(\"avg: \", s/len([15, 34, 27, 61, 21, 34, 56, 79]))"
      ],
      "metadata": {
        "id": "WzZFwu3EAkRL",
        "outputId": "07e499a0-8110-482b-e899-224df2331b42",
        "colab": {
          "base_uri": "https://localhost:8080/"
        }
      },
      "execution_count": 11,
      "outputs": [
        {
          "output_type": "stream",
          "name": "stdout",
          "text": [
            "avg:  40.875\n"
          ]
        }
      ]
    },
    {
      "cell_type": "code",
      "source": [
        "m = 1000000\n",
        "for i in [15, 34, 27, 61, 21]:\n",
        "  if i < m:\n",
        "    m = i\n",
        "print(\"min: \", m)"
      ],
      "metadata": {
        "id": "lUisLcWXAurG",
        "outputId": "f4f83d42-9582-4d85-b658-563d2671797f",
        "colab": {
          "base_uri": "https://localhost:8080/"
        }
      },
      "execution_count": 12,
      "outputs": [
        {
          "output_type": "stream",
          "name": "stdout",
          "text": [
            "min:  15\n"
          ]
        }
      ]
    },
    {
      "cell_type": "code",
      "source": [
        "m = None\n",
        "for i in [15, 34, 27, 61, 21]:\n",
        "  if m is None:\n",
        "    m = i\n",
        "  else:\n",
        "    if i < m:\n",
        "      m = i\n",
        "print(\"min: \", m)"
      ],
      "metadata": {
        "id": "sgGDEvhwA_lR",
        "outputId": "7a56d044-03ad-4aff-a0ed-7a534613fab9",
        "colab": {
          "base_uri": "https://localhost:8080/"
        }
      },
      "execution_count": 13,
      "outputs": [
        {
          "output_type": "stream",
          "name": "stdout",
          "text": [
            "min:  15\n"
          ]
        }
      ]
    },
    {
      "cell_type": "code",
      "source": [
        "m = None\n",
        "for i in [15, 34, 27, 61, 21]:\n",
        "  if (m is None) or (i<m):\n",
        "    m = i\n",
        "print(\"min: \", m)"
      ],
      "metadata": {
        "id": "EN9LYsnbBqtH",
        "outputId": "4b3e1133-7472-4480-d9fb-55ce9a54a6ce",
        "colab": {
          "base_uri": "https://localhost:8080/"
        }
      },
      "execution_count": 16,
      "outputs": [
        {
          "output_type": "stream",
          "name": "stdout",
          "text": [
            "min:  61\n"
          ]
        }
      ]
    },
    {
      "cell_type": "code",
      "source": [
        "found = False\n",
        "j = 0\n",
        "for i in [15, 34, 27, 61, 21]:\n",
        "  j = j+1\n",
        "  if i == 47:\n",
        "    found = True\n",
        "    print(\"number found at position: \",j)\n",
        "if found == False:\n",
        "  print(\"number not found\")"
      ],
      "metadata": {
        "id": "C2la7RlWC0Bl",
        "outputId": "7566c99a-8bd3-42de-d9d9-212c4a0a92b7",
        "colab": {
          "base_uri": "https://localhost:8080/"
        }
      },
      "execution_count": 23,
      "outputs": [
        {
          "output_type": "stream",
          "name": "stdout",
          "text": [
            "number not found\n"
          ]
        }
      ]
    },
    {
      "cell_type": "code",
      "source": [
        "a = [15, 34, 27, 61, 21]\n",
        "a[2]"
      ],
      "metadata": {
        "id": "8tlHvPzKDc4_",
        "outputId": "84e3eec5-683a-47c5-ad51-38985e268599",
        "colab": {
          "base_uri": "https://localhost:8080/"
        }
      },
      "execution_count": 24,
      "outputs": [
        {
          "output_type": "execute_result",
          "data": {
            "text/plain": [
              "27"
            ]
          },
          "metadata": {},
          "execution_count": 24
        }
      ]
    },
    {
      "cell_type": "code",
      "source": [
        "a = [15, 34, 27, 61, 21]\n",
        "for i in range(0,len(a)):\n",
        "  print(a[i])"
      ],
      "metadata": {
        "id": "RrbN8SajEkEs",
        "outputId": "61c779d6-e415-4b75-9ef0-6efc4d393a78",
        "colab": {
          "base_uri": "https://localhost:8080/"
        }
      },
      "execution_count": 26,
      "outputs": [
        {
          "output_type": "stream",
          "name": "stdout",
          "text": [
            "15\n",
            "34\n",
            "27\n",
            "61\n",
            "21\n"
          ]
        }
      ]
    },
    {
      "cell_type": "code",
      "source": [
        "a = [15, 34, 27, 61, 21]\n",
        "for i in range(0,len(a)):\n",
        "  print(a[-i-1])"
      ],
      "metadata": {
        "id": "ccqrNUHSFibN",
        "outputId": "7a50fcfc-03db-44f9-92cd-faf8108d590c",
        "colab": {
          "base_uri": "https://localhost:8080/"
        }
      },
      "execution_count": 28,
      "outputs": [
        {
          "output_type": "stream",
          "name": "stdout",
          "text": [
            "21\n",
            "61\n",
            "27\n",
            "34\n",
            "15\n"
          ]
        }
      ]
    },
    {
      "cell_type": "code",
      "source": [
        "a = [\"a\", \"b\", 27, 61, 21]\n",
        "for i in range(0,len(a)):\n",
        "  print(a[-i-1])"
      ],
      "metadata": {
        "id": "_Gw4DTg1GJSv",
        "outputId": "f93c7d7a-370d-4e29-fb7f-b67d6b37a880",
        "colab": {
          "base_uri": "https://localhost:8080/"
        }
      },
      "execution_count": 29,
      "outputs": [
        {
          "output_type": "stream",
          "name": "stdout",
          "text": [
            "21\n",
            "61\n",
            "27\n",
            "b\n",
            "a\n"
          ]
        }
      ]
    },
    {
      "cell_type": "code",
      "source": [
        "a = \"'Happy'\"\n",
        "type(a)\n",
        "print(\"Are you \", a)"
      ],
      "metadata": {
        "id": "nS5ExA_xGWrz",
        "outputId": "631c27e7-3fa9-43fe-c7cf-0bca9be0074c",
        "colab": {
          "base_uri": "https://localhost:8080/"
        }
      },
      "execution_count": 42,
      "outputs": [
        {
          "output_type": "stream",
          "name": "stdout",
          "text": [
            "Are you  'Happy'\n"
          ]
        }
      ]
    },
    {
      "cell_type": "code",
      "source": [
        "print(f\"Are you {a*2}\")"
      ],
      "metadata": {
        "id": "qeYmouIXG4yv",
        "outputId": "54ad2d48-d173-4e72-aeb1-20c8acae89a8",
        "colab": {
          "base_uri": "https://localhost:8080/"
        }
      },
      "execution_count": 37,
      "outputs": [
        {
          "output_type": "stream",
          "name": "stdout",
          "text": [
            "Are you HappyHappy\n"
          ]
        }
      ]
    },
    {
      "cell_type": "code",
      "source": [
        "a = \"ISOM 352\"\n",
        "a[-1]\n",
        "len(a)"
      ],
      "metadata": {
        "id": "bU5c3673ID8X",
        "outputId": "729d1a17-5609-4873-afd7-9a1d5eb3aea3",
        "colab": {
          "base_uri": "https://localhost:8080/"
        }
      },
      "execution_count": 48,
      "outputs": [
        {
          "output_type": "execute_result",
          "data": {
            "text/plain": [
              "8"
            ]
          },
          "metadata": {},
          "execution_count": 48
        }
      ]
    },
    {
      "cell_type": "code",
      "source": [
        "print(a[10])"
      ],
      "metadata": {
        "id": "LnzsuNYPIaYn",
        "outputId": "294d2b74-ff79-4711-974d-459322d183d7",
        "colab": {
          "base_uri": "https://localhost:8080/",
          "height": 165
        }
      },
      "execution_count": 49,
      "outputs": [
        {
          "output_type": "error",
          "ename": "IndexError",
          "evalue": "ignored",
          "traceback": [
            "\u001b[0;31m---------------------------------------------------------------------------\u001b[0m",
            "\u001b[0;31mIndexError\u001b[0m                                Traceback (most recent call last)",
            "\u001b[0;32m<ipython-input-49-45a6398849db>\u001b[0m in \u001b[0;36m<module>\u001b[0;34m\u001b[0m\n\u001b[0;32m----> 1\u001b[0;31m \u001b[0mprint\u001b[0m\u001b[0;34m(\u001b[0m\u001b[0ma\u001b[0m\u001b[0;34m[\u001b[0m\u001b[0;36m10\u001b[0m\u001b[0;34m]\u001b[0m\u001b[0;34m)\u001b[0m\u001b[0;34m\u001b[0m\u001b[0;34m\u001b[0m\u001b[0m\n\u001b[0m",
            "\u001b[0;31mIndexError\u001b[0m: string index out of range"
          ]
        }
      ]
    },
    {
      "cell_type": "code",
      "source": [
        "for i in a:\n",
        "  print(i)\n"
      ],
      "metadata": {
        "id": "aOWhaa6gIpME",
        "outputId": "34dd411d-c8c2-47fc-a050-89fe5d30680f",
        "colab": {
          "base_uri": "https://localhost:8080/"
        }
      },
      "execution_count": 50,
      "outputs": [
        {
          "output_type": "stream",
          "name": "stdout",
          "text": [
            "I\n",
            "S\n",
            "O\n",
            "M\n",
            " \n",
            "3\n",
            "5\n",
            "2\n"
          ]
        }
      ]
    },
    {
      "cell_type": "code",
      "source": [
        "j = len(a)\n",
        "a[3:len(a)]"
      ],
      "metadata": {
        "id": "5jgsgm3nI2DQ",
        "outputId": "b82d67e8-900e-41bf-9702-5bd62d09434c",
        "colab": {
          "base_uri": "https://localhost:8080/",
          "height": 35
        }
      },
      "execution_count": 61,
      "outputs": [
        {
          "output_type": "execute_result",
          "data": {
            "text/plain": [
              "'M 352'"
            ],
            "application/vnd.google.colaboratory.intrinsic+json": {
              "type": "string"
            }
          },
          "metadata": {},
          "execution_count": 61
        }
      ]
    },
    {
      "cell_type": "code",
      "source": [
        "#a = a+\"1\"\n",
        "a+=\"1\"\n",
        "a"
      ],
      "metadata": {
        "id": "ISTJew2sKP7B",
        "outputId": "5d112ee3-c571-42c4-95a3-cc442c1bbbe4",
        "colab": {
          "base_uri": "https://localhost:8080/",
          "height": 35
        }
      },
      "execution_count": 63,
      "outputs": [
        {
          "output_type": "execute_result",
          "data": {
            "text/plain": [
              "'ISOM 3521'"
            ],
            "application/vnd.google.colaboratory.intrinsic+json": {
              "type": "string"
            }
          },
          "metadata": {},
          "execution_count": 63
        }
      ]
    },
    {
      "cell_type": "code",
      "source": [
        "i = 10\n",
        "i +=1\n",
        "print(i)"
      ],
      "metadata": {
        "id": "8Wml4rqTKd0l",
        "outputId": "55cd7e1a-f316-4e76-983d-7614b71c3d72",
        "colab": {
          "base_uri": "https://localhost:8080/"
        }
      },
      "execution_count": 64,
      "outputs": [
        {
          "output_type": "stream",
          "name": "stdout",
          "text": [
            "11\n"
          ]
        }
      ]
    },
    {
      "cell_type": "code",
      "source": [
        "\"ISM\" in a\n",
        "print(a)\n",
        "a.find(\"53\")"
      ],
      "metadata": {
        "id": "POCNO6agKu4a",
        "outputId": "05efe8b2-b8d6-49df-a8b5-fe78092c67a8",
        "colab": {
          "base_uri": "https://localhost:8080/"
        }
      },
      "execution_count": 72,
      "outputs": [
        {
          "output_type": "stream",
          "name": "stdout",
          "text": [
            "ISOM 3521\n"
          ]
        },
        {
          "output_type": "execute_result",
          "data": {
            "text/plain": [
              "-1"
            ]
          },
          "metadata": {},
          "execution_count": 72
        }
      ]
    },
    {
      "cell_type": "code",
      "source": [
        "a.replace(\"OM\", \"11\")"
      ],
      "metadata": {
        "id": "6L6xBQSwLnkM",
        "outputId": "5ed29657-2645-4b94-d052-db11c96e1e7f",
        "colab": {
          "base_uri": "https://localhost:8080/",
          "height": 35
        }
      },
      "execution_count": 74,
      "outputs": [
        {
          "output_type": "execute_result",
          "data": {
            "text/plain": [
              "'IS11 3521'"
            ],
            "application/vnd.google.colaboratory.intrinsic+json": {
              "type": "string"
            }
          },
          "metadata": {},
          "execution_count": 74
        }
      ]
    },
    {
      "cell_type": "code",
      "source": [
        "a = \"a b c d e\"\n",
        "a.replace(\" \", \",\")"
      ],
      "metadata": {
        "id": "qvrBTq7YL1Db",
        "outputId": "bea07a52-174a-42c5-f102-d7f9237ca87a",
        "colab": {
          "base_uri": "https://localhost:8080/",
          "height": 35
        }
      },
      "execution_count": 75,
      "outputs": [
        {
          "output_type": "execute_result",
          "data": {
            "text/plain": [
              "'a,b,c,d,e'"
            ],
            "application/vnd.google.colaboratory.intrinsic+json": {
              "type": "string"
            }
          },
          "metadata": {},
          "execution_count": 75
        }
      ]
    },
    {
      "cell_type": "code",
      "source": [
        "dir(a)"
      ],
      "metadata": {
        "id": "-4iuH_c1LGy7",
        "outputId": "2a44126f-213b-4728-ac28-f174c4b4131d",
        "colab": {
          "base_uri": "https://localhost:8080/"
        }
      },
      "execution_count": 68,
      "outputs": [
        {
          "output_type": "execute_result",
          "data": {
            "text/plain": [
              "['__add__',\n",
              " '__class__',\n",
              " '__contains__',\n",
              " '__delattr__',\n",
              " '__dir__',\n",
              " '__doc__',\n",
              " '__eq__',\n",
              " '__format__',\n",
              " '__ge__',\n",
              " '__getattribute__',\n",
              " '__getitem__',\n",
              " '__getnewargs__',\n",
              " '__gt__',\n",
              " '__hash__',\n",
              " '__init__',\n",
              " '__init_subclass__',\n",
              " '__iter__',\n",
              " '__le__',\n",
              " '__len__',\n",
              " '__lt__',\n",
              " '__mod__',\n",
              " '__mul__',\n",
              " '__ne__',\n",
              " '__new__',\n",
              " '__reduce__',\n",
              " '__reduce_ex__',\n",
              " '__repr__',\n",
              " '__rmod__',\n",
              " '__rmul__',\n",
              " '__setattr__',\n",
              " '__sizeof__',\n",
              " '__str__',\n",
              " '__subclasshook__',\n",
              " 'capitalize',\n",
              " 'casefold',\n",
              " 'center',\n",
              " 'count',\n",
              " 'encode',\n",
              " 'endswith',\n",
              " 'expandtabs',\n",
              " 'find',\n",
              " 'format',\n",
              " 'format_map',\n",
              " 'index',\n",
              " 'isalnum',\n",
              " 'isalpha',\n",
              " 'isascii',\n",
              " 'isdecimal',\n",
              " 'isdigit',\n",
              " 'isidentifier',\n",
              " 'islower',\n",
              " 'isnumeric',\n",
              " 'isprintable',\n",
              " 'isspace',\n",
              " 'istitle',\n",
              " 'isupper',\n",
              " 'join',\n",
              " 'ljust',\n",
              " 'lower',\n",
              " 'lstrip',\n",
              " 'maketrans',\n",
              " 'partition',\n",
              " 'replace',\n",
              " 'rfind',\n",
              " 'rindex',\n",
              " 'rjust',\n",
              " 'rpartition',\n",
              " 'rsplit',\n",
              " 'rstrip',\n",
              " 'split',\n",
              " 'splitlines',\n",
              " 'startswith',\n",
              " 'strip',\n",
              " 'swapcase',\n",
              " 'title',\n",
              " 'translate',\n",
              " 'upper',\n",
              " 'zfill']"
            ]
          },
          "metadata": {},
          "execution_count": 68
        }
      ]
    },
    {
      "cell_type": "code",
      "source": [
        "url = \"https://www.amazon.com/Impractical-Python-Projects-Programming-Activities/dp/159327890X/\"\n",
        "url.find(\"/dp/\")\n",
        "url[url.find(\"/dp/\")+4:-1]"
      ],
      "metadata": {
        "id": "LSpUQqUWMYw9",
        "outputId": "c42553e9-e0b4-4f89-a37b-904bcc788097",
        "colab": {
          "base_uri": "https://localhost:8080/",
          "height": 35
        }
      },
      "execution_count": 79,
      "outputs": [
        {
          "output_type": "execute_result",
          "data": {
            "text/plain": [
              "'159327890X'"
            ],
            "application/vnd.google.colaboratory.intrinsic+json": {
              "type": "string"
            }
          },
          "metadata": {},
          "execution_count": 79
        }
      ]
    }
  ]
}