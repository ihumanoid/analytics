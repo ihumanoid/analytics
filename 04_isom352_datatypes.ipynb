{
  "nbformat": 4,
  "nbformat_minor": 0,
  "metadata": {
    "colab": {
      "provenance": [],
      "authorship_tag": "ABX9TyMzwPC9uw/+hZB7a1OOPd4/",
      "include_colab_link": true
    },
    "kernelspec": {
      "name": "python3",
      "display_name": "Python 3"
    },
    "language_info": {
      "name": "python"
    }
  },
  "cells": [
    {
      "cell_type": "markdown",
      "metadata": {
        "id": "view-in-github",
        "colab_type": "text"
      },
      "source": [
        "<a href=\"https://colab.research.google.com/github/ihumanoid/analytics/blob/main/04_isom352_datatypes.ipynb\" target=\"_parent\"><img src=\"https://colab.research.google.com/assets/colab-badge.svg\" alt=\"Open In Colab\"/></a>"
      ]
    },
    {
      "cell_type": "code",
      "execution_count": null,
      "metadata": {
        "colab": {
          "base_uri": "https://localhost:8080/"
        },
        "id": "EvCXoMJq95Vq",
        "outputId": "1571d72a-62f9-42ab-ee61-a4e418c5ed64"
      },
      "outputs": [
        {
          "output_type": "stream",
          "name": "stdout",
          "text": [
            "0\n",
            "1\n",
            "2\n",
            "3\n",
            "4\n"
          ]
        }
      ],
      "source": [
        "for i in range(0, 5):\n",
        "  print(i)"
      ]
    },
    {
      "cell_type": "code",
      "source": [
        "for i in [0, 2, 4, 6, 8]:\n",
        "  print(i)"
      ],
      "metadata": {
        "id": "JlhmWmna_Bqk",
        "outputId": "ab0e9c84-9569-4040-8925-edeeb7a99578",
        "colab": {
          "base_uri": "https://localhost:8080/"
        }
      },
      "execution_count": null,
      "outputs": [
        {
          "output_type": "stream",
          "name": "stdout",
          "text": [
            "0\n",
            "2\n",
            "4\n",
            "6\n",
            "8\n"
          ]
        }
      ]
    },
    {
      "cell_type": "code",
      "source": [
        "for i in [\"ab\", \"bc\",\"cd\"]:\n",
        "  print(i)"
      ],
      "metadata": {
        "id": "YFcIoSsr_HJE",
        "outputId": "5d3b5fd3-2f00-416c-948d-c21ab2182aa9",
        "colab": {
          "base_uri": "https://localhost:8080/"
        }
      },
      "execution_count": null,
      "outputs": [
        {
          "output_type": "stream",
          "name": "stdout",
          "text": [
            "ab\n",
            "bc\n",
            "cd\n"
          ]
        }
      ]
    },
    {
      "cell_type": "code",
      "source": [
        "for i in \"ISOM352\":\n",
        "  print(i)"
      ],
      "metadata": {
        "id": "4EKqnye4_NYR",
        "outputId": "c8e7f7e2-01d6-4405-fa7c-9de4b49648a0",
        "colab": {
          "base_uri": "https://localhost:8080/"
        }
      },
      "execution_count": null,
      "outputs": [
        {
          "output_type": "stream",
          "name": "stdout",
          "text": [
            "I\n",
            "S\n",
            "O\n",
            "M\n",
            "3\n",
            "5\n",
            "2\n"
          ]
        }
      ]
    },
    {
      "cell_type": "code",
      "source": [
        "max =  0\n",
        "for i in [15, 34, 27, 61, 21]:\n",
        "  if i > max:\n",
        "    max = i\n",
        "print(\"max: \", max)"
      ],
      "metadata": {
        "id": "YS33sRwP_px0",
        "outputId": "0a28b77e-53ad-4823-92fb-d3abacbfbdef",
        "colab": {
          "base_uri": "https://localhost:8080/"
        }
      },
      "execution_count": null,
      "outputs": [
        {
          "output_type": "stream",
          "name": "stdout",
          "text": [
            "max:  61\n"
          ]
        }
      ]
    },
    {
      "cell_type": "code",
      "source": [
        "s =  0\n",
        "for i in [15, 34, 27, 61, 21, 34, 56, 79]:\n",
        "  s = s+i\n",
        "print(\"sum: \", s)"
      ],
      "metadata": {
        "id": "gay_2DuYAPTw",
        "outputId": "1c75f2ff-d7c7-4b47-d274-2a3240a30ca4",
        "colab": {
          "base_uri": "https://localhost:8080/"
        }
      },
      "execution_count": null,
      "outputs": [
        {
          "output_type": "stream",
          "name": "stdout",
          "text": [
            "sum:  327\n"
          ]
        }
      ]
    },
    {
      "cell_type": "code",
      "source": [
        "s =  0\n",
        "for i in [15, 34, 27, 61, 21, 34, 56, 79]:\n",
        "  s = s+i\n",
        "print(\"avg: \", s/len([15, 34, 27, 61, 21, 34, 56, 79]))"
      ],
      "metadata": {
        "id": "WzZFwu3EAkRL",
        "outputId": "07e499a0-8110-482b-e899-224df2331b42",
        "colab": {
          "base_uri": "https://localhost:8080/"
        }
      },
      "execution_count": null,
      "outputs": [
        {
          "output_type": "stream",
          "name": "stdout",
          "text": [
            "avg:  40.875\n"
          ]
        }
      ]
    },
    {
      "cell_type": "code",
      "source": [
        "m = 1000000\n",
        "for i in [15, 34, 27, 61, 21]:\n",
        "  if i < m:\n",
        "    m = i\n",
        "print(\"min: \", m)"
      ],
      "metadata": {
        "id": "lUisLcWXAurG",
        "outputId": "f4f83d42-9582-4d85-b658-563d2671797f",
        "colab": {
          "base_uri": "https://localhost:8080/"
        }
      },
      "execution_count": null,
      "outputs": [
        {
          "output_type": "stream",
          "name": "stdout",
          "text": [
            "min:  15\n"
          ]
        }
      ]
    },
    {
      "cell_type": "code",
      "source": [
        "m = None\n",
        "for i in [15, 34, 27, 61, 21]:\n",
        "  if m is None:\n",
        "    m = i\n",
        "  else:\n",
        "    if i < m:\n",
        "      m = i\n",
        "print(\"min: \", m)"
      ],
      "metadata": {
        "id": "sgGDEvhwA_lR",
        "outputId": "7a56d044-03ad-4aff-a0ed-7a534613fab9",
        "colab": {
          "base_uri": "https://localhost:8080/"
        }
      },
      "execution_count": null,
      "outputs": [
        {
          "output_type": "stream",
          "name": "stdout",
          "text": [
            "min:  15\n"
          ]
        }
      ]
    },
    {
      "cell_type": "code",
      "source": [
        "m = None\n",
        "for i in [15, 34, 27, 61, 21]:\n",
        "  if (m is None) or (i<m):\n",
        "    m = i\n",
        "print(\"min: \", m)"
      ],
      "metadata": {
        "id": "EN9LYsnbBqtH",
        "outputId": "4b3e1133-7472-4480-d9fb-55ce9a54a6ce",
        "colab": {
          "base_uri": "https://localhost:8080/"
        }
      },
      "execution_count": null,
      "outputs": [
        {
          "output_type": "stream",
          "name": "stdout",
          "text": [
            "min:  61\n"
          ]
        }
      ]
    },
    {
      "cell_type": "code",
      "source": [
        "found = False\n",
        "j = 0\n",
        "for i in [15, 34, 27, 61, 21]:\n",
        "  j = j+1\n",
        "  if i == 47:\n",
        "    found = True\n",
        "    print(\"number found at position: \",j)\n",
        "if found == False:\n",
        "  print(\"number not found\")"
      ],
      "metadata": {
        "id": "C2la7RlWC0Bl",
        "outputId": "7566c99a-8bd3-42de-d9d9-212c4a0a92b7",
        "colab": {
          "base_uri": "https://localhost:8080/"
        }
      },
      "execution_count": null,
      "outputs": [
        {
          "output_type": "stream",
          "name": "stdout",
          "text": [
            "number not found\n"
          ]
        }
      ]
    },
    {
      "cell_type": "code",
      "source": [
        "a = [15, 34, 27, 61, 21]\n",
        "a[2]"
      ],
      "metadata": {
        "id": "8tlHvPzKDc4_",
        "outputId": "84e3eec5-683a-47c5-ad51-38985e268599",
        "colab": {
          "base_uri": "https://localhost:8080/"
        }
      },
      "execution_count": null,
      "outputs": [
        {
          "output_type": "execute_result",
          "data": {
            "text/plain": [
              "27"
            ]
          },
          "metadata": {},
          "execution_count": 24
        }
      ]
    },
    {
      "cell_type": "code",
      "source": [
        "a = [15, 34, 27, 61, 21]\n",
        "for i in range(0,len(a)):\n",
        "  print(a[i])"
      ],
      "metadata": {
        "id": "RrbN8SajEkEs",
        "outputId": "61c779d6-e415-4b75-9ef0-6efc4d393a78",
        "colab": {
          "base_uri": "https://localhost:8080/"
        }
      },
      "execution_count": null,
      "outputs": [
        {
          "output_type": "stream",
          "name": "stdout",
          "text": [
            "15\n",
            "34\n",
            "27\n",
            "61\n",
            "21\n"
          ]
        }
      ]
    },
    {
      "cell_type": "code",
      "source": [
        "a = [15, 34, 27, 61, 21]\n",
        "for i in range(0,len(a)):\n",
        "  print(a[-i-1])"
      ],
      "metadata": {
        "id": "ccqrNUHSFibN",
        "outputId": "7a50fcfc-03db-44f9-92cd-faf8108d590c",
        "colab": {
          "base_uri": "https://localhost:8080/"
        }
      },
      "execution_count": null,
      "outputs": [
        {
          "output_type": "stream",
          "name": "stdout",
          "text": [
            "21\n",
            "61\n",
            "27\n",
            "34\n",
            "15\n"
          ]
        }
      ]
    },
    {
      "cell_type": "code",
      "source": [
        "a = [\"a\", \"b\", 27, 61, 21]\n",
        "for i in range(0,len(a)):\n",
        "  print(a[-i-1])"
      ],
      "metadata": {
        "id": "_Gw4DTg1GJSv",
        "outputId": "f93c7d7a-370d-4e29-fb7f-b67d6b37a880",
        "colab": {
          "base_uri": "https://localhost:8080/"
        }
      },
      "execution_count": null,
      "outputs": [
        {
          "output_type": "stream",
          "name": "stdout",
          "text": [
            "21\n",
            "61\n",
            "27\n",
            "b\n",
            "a\n"
          ]
        }
      ]
    },
    {
      "cell_type": "code",
      "source": [
        "a = \"'Happy'\"\n",
        "type(a)\n",
        "print(\"Are you \", a)"
      ],
      "metadata": {
        "id": "nS5ExA_xGWrz",
        "outputId": "631c27e7-3fa9-43fe-c7cf-0bca9be0074c",
        "colab": {
          "base_uri": "https://localhost:8080/"
        }
      },
      "execution_count": null,
      "outputs": [
        {
          "output_type": "stream",
          "name": "stdout",
          "text": [
            "Are you  'Happy'\n"
          ]
        }
      ]
    },
    {
      "cell_type": "code",
      "source": [
        "print(f\"Are you {a*2}\")"
      ],
      "metadata": {
        "id": "qeYmouIXG4yv",
        "outputId": "54ad2d48-d173-4e72-aeb1-20c8acae89a8",
        "colab": {
          "base_uri": "https://localhost:8080/"
        }
      },
      "execution_count": null,
      "outputs": [
        {
          "output_type": "stream",
          "name": "stdout",
          "text": [
            "Are you HappyHappy\n"
          ]
        }
      ]
    },
    {
      "cell_type": "code",
      "source": [
        "a = \"ISOM 352\"\n",
        "a[-1]\n",
        "len(a)"
      ],
      "metadata": {
        "id": "bU5c3673ID8X",
        "outputId": "729d1a17-5609-4873-afd7-9a1d5eb3aea3",
        "colab": {
          "base_uri": "https://localhost:8080/"
        }
      },
      "execution_count": null,
      "outputs": [
        {
          "output_type": "execute_result",
          "data": {
            "text/plain": [
              "8"
            ]
          },
          "metadata": {},
          "execution_count": 48
        }
      ]
    },
    {
      "cell_type": "code",
      "source": [
        "print(a[10])"
      ],
      "metadata": {
        "id": "LnzsuNYPIaYn",
        "outputId": "294d2b74-ff79-4711-974d-459322d183d7",
        "colab": {
          "base_uri": "https://localhost:8080/",
          "height": 165
        }
      },
      "execution_count": null,
      "outputs": [
        {
          "output_type": "error",
          "ename": "IndexError",
          "evalue": "ignored",
          "traceback": [
            "\u001b[0;31m---------------------------------------------------------------------------\u001b[0m",
            "\u001b[0;31mIndexError\u001b[0m                                Traceback (most recent call last)",
            "\u001b[0;32m<ipython-input-49-45a6398849db>\u001b[0m in \u001b[0;36m<module>\u001b[0;34m\u001b[0m\n\u001b[0;32m----> 1\u001b[0;31m \u001b[0mprint\u001b[0m\u001b[0;34m(\u001b[0m\u001b[0ma\u001b[0m\u001b[0;34m[\u001b[0m\u001b[0;36m10\u001b[0m\u001b[0;34m]\u001b[0m\u001b[0;34m)\u001b[0m\u001b[0;34m\u001b[0m\u001b[0;34m\u001b[0m\u001b[0m\n\u001b[0m",
            "\u001b[0;31mIndexError\u001b[0m: string index out of range"
          ]
        }
      ]
    },
    {
      "cell_type": "code",
      "source": [
        "for i in a:\n",
        "  print(i)\n"
      ],
      "metadata": {
        "id": "aOWhaa6gIpME",
        "outputId": "34dd411d-c8c2-47fc-a050-89fe5d30680f",
        "colab": {
          "base_uri": "https://localhost:8080/"
        }
      },
      "execution_count": null,
      "outputs": [
        {
          "output_type": "stream",
          "name": "stdout",
          "text": [
            "I\n",
            "S\n",
            "O\n",
            "M\n",
            " \n",
            "3\n",
            "5\n",
            "2\n"
          ]
        }
      ]
    },
    {
      "cell_type": "code",
      "source": [
        "j = len(a)\n",
        "a[3:len(a)]"
      ],
      "metadata": {
        "id": "5jgsgm3nI2DQ",
        "outputId": "b82d67e8-900e-41bf-9702-5bd62d09434c",
        "colab": {
          "base_uri": "https://localhost:8080/",
          "height": 35
        }
      },
      "execution_count": null,
      "outputs": [
        {
          "output_type": "execute_result",
          "data": {
            "text/plain": [
              "'M 352'"
            ],
            "application/vnd.google.colaboratory.intrinsic+json": {
              "type": "string"
            }
          },
          "metadata": {},
          "execution_count": 61
        }
      ]
    },
    {
      "cell_type": "code",
      "source": [
        "#a = a+\"1\"\n",
        "a+=\"1\"\n",
        "a"
      ],
      "metadata": {
        "id": "ISTJew2sKP7B",
        "outputId": "5d112ee3-c571-42c4-95a3-cc442c1bbbe4",
        "colab": {
          "base_uri": "https://localhost:8080/",
          "height": 35
        }
      },
      "execution_count": null,
      "outputs": [
        {
          "output_type": "execute_result",
          "data": {
            "text/plain": [
              "'ISOM 3521'"
            ],
            "application/vnd.google.colaboratory.intrinsic+json": {
              "type": "string"
            }
          },
          "metadata": {},
          "execution_count": 63
        }
      ]
    },
    {
      "cell_type": "code",
      "source": [
        "i = 10\n",
        "i +=1\n",
        "print(i)"
      ],
      "metadata": {
        "id": "8Wml4rqTKd0l",
        "outputId": "55cd7e1a-f316-4e76-983d-7614b71c3d72",
        "colab": {
          "base_uri": "https://localhost:8080/"
        }
      },
      "execution_count": null,
      "outputs": [
        {
          "output_type": "stream",
          "name": "stdout",
          "text": [
            "11\n"
          ]
        }
      ]
    },
    {
      "cell_type": "code",
      "source": [
        "\"ISM\" in a\n",
        "print(a)\n",
        "a.find(\"53\")"
      ],
      "metadata": {
        "id": "POCNO6agKu4a",
        "outputId": "05efe8b2-b8d6-49df-a8b5-fe78092c67a8",
        "colab": {
          "base_uri": "https://localhost:8080/"
        }
      },
      "execution_count": null,
      "outputs": [
        {
          "output_type": "stream",
          "name": "stdout",
          "text": [
            "ISOM 3521\n"
          ]
        },
        {
          "output_type": "execute_result",
          "data": {
            "text/plain": [
              "-1"
            ]
          },
          "metadata": {},
          "execution_count": 72
        }
      ]
    },
    {
      "cell_type": "code",
      "source": [
        "a.replace(\"OM\", \"11\")"
      ],
      "metadata": {
        "id": "6L6xBQSwLnkM",
        "outputId": "5ed29657-2645-4b94-d052-db11c96e1e7f",
        "colab": {
          "base_uri": "https://localhost:8080/",
          "height": 35
        }
      },
      "execution_count": null,
      "outputs": [
        {
          "output_type": "execute_result",
          "data": {
            "text/plain": [
              "'IS11 3521'"
            ],
            "application/vnd.google.colaboratory.intrinsic+json": {
              "type": "string"
            }
          },
          "metadata": {},
          "execution_count": 74
        }
      ]
    },
    {
      "cell_type": "code",
      "source": [
        "a = \"a b c d e\"\n",
        "a.replace(\" \", \",\")"
      ],
      "metadata": {
        "id": "qvrBTq7YL1Db",
        "outputId": "bea07a52-174a-42c5-f102-d7f9237ca87a",
        "colab": {
          "base_uri": "https://localhost:8080/",
          "height": 35
        }
      },
      "execution_count": null,
      "outputs": [
        {
          "output_type": "execute_result",
          "data": {
            "text/plain": [
              "'a,b,c,d,e'"
            ],
            "application/vnd.google.colaboratory.intrinsic+json": {
              "type": "string"
            }
          },
          "metadata": {},
          "execution_count": 75
        }
      ]
    },
    {
      "cell_type": "code",
      "source": [
        "dir(a)"
      ],
      "metadata": {
        "id": "-4iuH_c1LGy7",
        "outputId": "2a44126f-213b-4728-ac28-f174c4b4131d",
        "colab": {
          "base_uri": "https://localhost:8080/"
        }
      },
      "execution_count": null,
      "outputs": [
        {
          "output_type": "execute_result",
          "data": {
            "text/plain": [
              "['__add__',\n",
              " '__class__',\n",
              " '__contains__',\n",
              " '__delattr__',\n",
              " '__dir__',\n",
              " '__doc__',\n",
              " '__eq__',\n",
              " '__format__',\n",
              " '__ge__',\n",
              " '__getattribute__',\n",
              " '__getitem__',\n",
              " '__getnewargs__',\n",
              " '__gt__',\n",
              " '__hash__',\n",
              " '__init__',\n",
              " '__init_subclass__',\n",
              " '__iter__',\n",
              " '__le__',\n",
              " '__len__',\n",
              " '__lt__',\n",
              " '__mod__',\n",
              " '__mul__',\n",
              " '__ne__',\n",
              " '__new__',\n",
              " '__reduce__',\n",
              " '__reduce_ex__',\n",
              " '__repr__',\n",
              " '__rmod__',\n",
              " '__rmul__',\n",
              " '__setattr__',\n",
              " '__sizeof__',\n",
              " '__str__',\n",
              " '__subclasshook__',\n",
              " 'capitalize',\n",
              " 'casefold',\n",
              " 'center',\n",
              " 'count',\n",
              " 'encode',\n",
              " 'endswith',\n",
              " 'expandtabs',\n",
              " 'find',\n",
              " 'format',\n",
              " 'format_map',\n",
              " 'index',\n",
              " 'isalnum',\n",
              " 'isalpha',\n",
              " 'isascii',\n",
              " 'isdecimal',\n",
              " 'isdigit',\n",
              " 'isidentifier',\n",
              " 'islower',\n",
              " 'isnumeric',\n",
              " 'isprintable',\n",
              " 'isspace',\n",
              " 'istitle',\n",
              " 'isupper',\n",
              " 'join',\n",
              " 'ljust',\n",
              " 'lower',\n",
              " 'lstrip',\n",
              " 'maketrans',\n",
              " 'partition',\n",
              " 'replace',\n",
              " 'rfind',\n",
              " 'rindex',\n",
              " 'rjust',\n",
              " 'rpartition',\n",
              " 'rsplit',\n",
              " 'rstrip',\n",
              " 'split',\n",
              " 'splitlines',\n",
              " 'startswith',\n",
              " 'strip',\n",
              " 'swapcase',\n",
              " 'title',\n",
              " 'translate',\n",
              " 'upper',\n",
              " 'zfill']"
            ]
          },
          "metadata": {},
          "execution_count": 68
        }
      ]
    },
    {
      "cell_type": "code",
      "source": [
        "url = \"https://www.amazon.com/Impractical-Python-Projects-Programming-Activities/dp/159327890X/\"\n",
        "url.find(\"/dp/\")\n",
        "url[url.find(\"/dp/\")+4:-1]"
      ],
      "metadata": {
        "id": "LSpUQqUWMYw9",
        "outputId": "c42553e9-e0b4-4f89-a37b-904bcc788097",
        "colab": {
          "base_uri": "https://localhost:8080/",
          "height": 35
        }
      },
      "execution_count": null,
      "outputs": [
        {
          "output_type": "execute_result",
          "data": {
            "text/plain": [
              "'159327890X'"
            ],
            "application/vnd.google.colaboratory.intrinsic+json": {
              "type": "string"
            }
          },
          "metadata": {},
          "execution_count": 79
        }
      ]
    },
    {
      "cell_type": "code",
      "source": [
        "# LISTS\n",
        "a = [1, 2, 3, \"a\", \"b\"]\n",
        "b = \"isom352\"\n",
        "print(a[-2])\n",
        "print(len(a))"
      ],
      "metadata": {
        "id": "MfOHgp3oEw7y",
        "outputId": "7b381a9e-52c1-44f0-d807-5a2eed1f5efc",
        "colab": {
          "base_uri": "https://localhost:8080/"
        }
      },
      "execution_count": 14,
      "outputs": [
        {
          "output_type": "stream",
          "name": "stdout",
          "text": [
            "a\n",
            "5\n"
          ]
        }
      ]
    },
    {
      "cell_type": "code",
      "source": [
        "b = a + [\"c\", 4]\n"
      ],
      "metadata": {
        "id": "s4-MxMZ3SYys"
      },
      "execution_count": 15,
      "outputs": []
    },
    {
      "cell_type": "code",
      "source": [
        "print(b)\n",
        "print(b[2:])"
      ],
      "metadata": {
        "id": "Xq45BTfdSdW_",
        "outputId": "4df3a49c-fd8e-4926-b577-3f9dc1988d48",
        "colab": {
          "base_uri": "https://localhost:8080/"
        }
      },
      "execution_count": 20,
      "outputs": [
        {
          "output_type": "stream",
          "name": "stdout",
          "text": [
            "[1, 2, 3, 'a', 'b', 'c', 4]\n",
            "[3, 'a', 'b', 'c', 4]\n"
          ]
        }
      ]
    },
    {
      "cell_type": "markdown",
      "source": [],
      "metadata": {
        "id": "dg5Snb_0S08R"
      }
    },
    {
      "cell_type": "code",
      "source": [
        "dir(b)"
      ],
      "metadata": {
        "id": "uzv3Dro3S1oq",
        "outputId": "fd713fb3-9926-431f-99c6-6b413ee1ac2b",
        "colab": {
          "base_uri": "https://localhost:8080/"
        }
      },
      "execution_count": 21,
      "outputs": [
        {
          "output_type": "execute_result",
          "data": {
            "text/plain": [
              "['__add__',\n",
              " '__class__',\n",
              " '__contains__',\n",
              " '__delattr__',\n",
              " '__delitem__',\n",
              " '__dir__',\n",
              " '__doc__',\n",
              " '__eq__',\n",
              " '__format__',\n",
              " '__ge__',\n",
              " '__getattribute__',\n",
              " '__getitem__',\n",
              " '__gt__',\n",
              " '__hash__',\n",
              " '__iadd__',\n",
              " '__imul__',\n",
              " '__init__',\n",
              " '__init_subclass__',\n",
              " '__iter__',\n",
              " '__le__',\n",
              " '__len__',\n",
              " '__lt__',\n",
              " '__mul__',\n",
              " '__ne__',\n",
              " '__new__',\n",
              " '__reduce__',\n",
              " '__reduce_ex__',\n",
              " '__repr__',\n",
              " '__reversed__',\n",
              " '__rmul__',\n",
              " '__setattr__',\n",
              " '__setitem__',\n",
              " '__sizeof__',\n",
              " '__str__',\n",
              " '__subclasshook__',\n",
              " 'append',\n",
              " 'clear',\n",
              " 'copy',\n",
              " 'count',\n",
              " 'extend',\n",
              " 'index',\n",
              " 'insert',\n",
              " 'pop',\n",
              " 'remove',\n",
              " 'reverse',\n",
              " 'sort']"
            ]
          },
          "metadata": {},
          "execution_count": 21
        }
      ]
    },
    {
      "cell_type": "code",
      "source": [
        "c = [4,6,2,7]\n",
        "c.sort()\n",
        "print(c)"
      ],
      "metadata": {
        "id": "dwNfXumiS8XB",
        "outputId": "4e22d232-1dd2-4c70-91d9-2d1e5ec8aed7",
        "colab": {
          "base_uri": "https://localhost:8080/"
        }
      },
      "execution_count": 25,
      "outputs": [
        {
          "output_type": "stream",
          "name": "stdout",
          "text": [
            "None\n"
          ]
        }
      ]
    },
    {
      "cell_type": "code",
      "source": [
        "z = \"it is sunny today\"\n",
        "z.split()"
      ],
      "metadata": {
        "id": "ArRGz1H7Ub3X",
        "outputId": "be9e69f9-2a40-4f6a-f8c9-a1aa7f706f78",
        "colab": {
          "base_uri": "https://localhost:8080/"
        }
      },
      "execution_count": 27,
      "outputs": [
        {
          "output_type": "execute_result",
          "data": {
            "text/plain": [
              "['it', 'is', 'sunny', 'today']"
            ]
          },
          "metadata": {},
          "execution_count": 27
        }
      ]
    },
    {
      "cell_type": "code",
      "source": [
        "z = \"it-is-sunny-today\"\n",
        "y = z.split(\"-\")"
      ],
      "metadata": {
        "id": "5xHcdRQAUitG"
      },
      "execution_count": 29,
      "outputs": []
    },
    {
      "cell_type": "code",
      "source": [
        "for i in y:\n",
        "  print(i)"
      ],
      "metadata": {
        "id": "SJO-C3G1UuxL",
        "outputId": "1105d72b-f7a3-4078-8b91-d11400aa6276",
        "colab": {
          "base_uri": "https://localhost:8080/"
        }
      },
      "execution_count": 31,
      "outputs": [
        {
          "output_type": "stream",
          "name": "stdout",
          "text": [
            "it\n",
            "is\n",
            "sunny\n",
            "today\n"
          ]
        }
      ]
    },
    {
      "cell_type": "code",
      "source": [
        "na = {\"a\": 10, \"b\":11, \"c\":8, \"d\":15}\n",
        "na[\"b\"]"
      ],
      "metadata": {
        "id": "RXrl7mf3VK97",
        "outputId": "223c198c-b9f2-4c57-d5fa-8c889d67844a",
        "colab": {
          "base_uri": "https://localhost:8080/"
        }
      },
      "execution_count": 33,
      "outputs": [
        {
          "output_type": "execute_result",
          "data": {
            "text/plain": [
              "11"
            ]
          },
          "metadata": {},
          "execution_count": 33
        }
      ]
    },
    {
      "cell_type": "code",
      "source": [
        "for i in na.keys():\n",
        "  print(i,na[i])"
      ],
      "metadata": {
        "id": "_EkjuA3TVcrJ",
        "outputId": "31f600aa-34be-49d4-8b6c-8834e2a20ff2",
        "colab": {
          "base_uri": "https://localhost:8080/"
        }
      },
      "execution_count": 37,
      "outputs": [
        {
          "output_type": "stream",
          "name": "stdout",
          "text": [
            "a 10\n",
            "b 11\n",
            "c 8\n",
            "d 15\n"
          ]
        }
      ]
    },
    {
      "cell_type": "code",
      "source": [
        "for i in na.values():\n",
        "  print(i)"
      ],
      "metadata": {
        "id": "l1XLvPf2V9L5",
        "outputId": "f2be8d78-9e3a-42df-8cd4-6689691913b0",
        "colab": {
          "base_uri": "https://localhost:8080/"
        }
      },
      "execution_count": 38,
      "outputs": [
        {
          "output_type": "stream",
          "name": "stdout",
          "text": [
            "10\n",
            "11\n",
            "8\n",
            "15\n"
          ]
        }
      ]
    },
    {
      "cell_type": "code",
      "source": [
        "print(na)\n",
        "na[\"e\"] = 13\n",
        "print(na)"
      ],
      "metadata": {
        "id": "yPyHjaSAWZBN",
        "outputId": "20cd66be-ffec-472c-dd5e-9ab48df580f8",
        "colab": {
          "base_uri": "https://localhost:8080/"
        }
      },
      "execution_count": 42,
      "outputs": [
        {
          "output_type": "stream",
          "name": "stdout",
          "text": [
            "{'a': 10, 'b': 11, 'c': 8, 'd': 15, 'e': 12}\n",
            "{'a': 10, 'b': 11, 'c': 8, 'd': 15, 'e': 13}\n"
          ]
        }
      ]
    },
    {
      "cell_type": "code",
      "source": [
        "zz = \"happy happy happy day today\"\n",
        "z = zz.split()\n",
        "print(z)\n",
        "wc = {}\n",
        "for w in z:\n",
        "  if w in wc:\n",
        "    wc[w]=wc[w]+1\n",
        "  else:\n",
        "    wc[w]=1\n",
        "print(wc)"
      ],
      "metadata": {
        "id": "vd4pS5ecXZP8",
        "outputId": "c5ae18c3-9225-4257-eefa-16c310c9ac02",
        "colab": {
          "base_uri": "https://localhost:8080/"
        }
      },
      "execution_count": 45,
      "outputs": [
        {
          "output_type": "stream",
          "name": "stdout",
          "text": [
            "['happy', 'happy', 'happy', 'day', 'today']\n",
            "{'happy': 3, 'day': 1, 'today': 1}\n"
          ]
        }
      ]
    },
    {
      "cell_type": "code",
      "source": [
        "dir(wc)"
      ],
      "metadata": {
        "id": "qPxMQP5YY8f9",
        "outputId": "14782cba-bd2b-4cf1-90e2-f5bcf9787bae",
        "colab": {
          "base_uri": "https://localhost:8080/"
        }
      },
      "execution_count": 46,
      "outputs": [
        {
          "output_type": "execute_result",
          "data": {
            "text/plain": [
              "['__class__',\n",
              " '__contains__',\n",
              " '__delattr__',\n",
              " '__delitem__',\n",
              " '__dir__',\n",
              " '__doc__',\n",
              " '__eq__',\n",
              " '__format__',\n",
              " '__ge__',\n",
              " '__getattribute__',\n",
              " '__getitem__',\n",
              " '__gt__',\n",
              " '__hash__',\n",
              " '__init__',\n",
              " '__init_subclass__',\n",
              " '__iter__',\n",
              " '__le__',\n",
              " '__len__',\n",
              " '__lt__',\n",
              " '__ne__',\n",
              " '__new__',\n",
              " '__reduce__',\n",
              " '__reduce_ex__',\n",
              " '__repr__',\n",
              " '__setattr__',\n",
              " '__setitem__',\n",
              " '__sizeof__',\n",
              " '__str__',\n",
              " '__subclasshook__',\n",
              " 'clear',\n",
              " 'copy',\n",
              " 'fromkeys',\n",
              " 'get',\n",
              " 'items',\n",
              " 'keys',\n",
              " 'pop',\n",
              " 'popitem',\n",
              " 'setdefault',\n",
              " 'update',\n",
              " 'values']"
            ]
          },
          "metadata": {},
          "execution_count": 46
        }
      ]
    }
  ]
}