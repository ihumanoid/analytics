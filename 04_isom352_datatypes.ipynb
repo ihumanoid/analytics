{
  "nbformat": 4,
  "nbformat_minor": 0,
  "metadata": {
    "colab": {
      "provenance": [],
      "authorship_tag": "ABX9TyOp55DxRB5FRYYvpgqkCq8R",
      "include_colab_link": true
    },
    "kernelspec": {
      "name": "python3",
      "display_name": "Python 3"
    },
    "language_info": {
      "name": "python"
    }
  },
  "cells": [
    {
      "cell_type": "markdown",
      "metadata": {
        "id": "view-in-github",
        "colab_type": "text"
      },
      "source": [
        "<a href=\"https://colab.research.google.com/github/ihumanoid/analytics/blob/main/04_isom352_datatypes.ipynb\" target=\"_parent\"><img src=\"https://colab.research.google.com/assets/colab-badge.svg\" alt=\"Open In Colab\"/></a>"
      ]
    },
    {
      "cell_type": "code",
      "execution_count": 3,
      "metadata": {
        "colab": {
          "base_uri": "https://localhost:8080/"
        },
        "id": "EvCXoMJq95Vq",
        "outputId": "63178ada-23fb-4380-df5d-121a2bf4ecf8"
      },
      "outputs": [
        {
          "output_type": "stream",
          "name": "stdout",
          "text": [
            "Enter a number: 5\n",
            "a\n",
            "b\n",
            "Max: 5.0\n",
            "Min: 5.0\n",
            "Enter a number: 6\n",
            "a\n",
            "b\n",
            "Max: 6.0\n",
            "Enter a number: 4\n",
            "a\n",
            "b\n",
            "Min: 4.0\n",
            "Enter a number: done\n",
            "Maximum:  6.0\n",
            "Minimum:  4.0\n"
          ]
        }
      ],
      "source": [
        "#Exercise 2 \n",
        "Max = None\n",
        "Min = None\n",
        "while True:\n",
        "    inputs = input('Enter a number: ')\n",
        "    if(inputs == 'done'):\n",
        "        break\n",
        "    else:\n",
        "        try:\n",
        "            print('a')\n",
        "            ninputs = float(inputs)\n",
        "            print('b')\n",
        "            if(Max is None or ninputs > Max):\n",
        "                Max = ninputs\n",
        "                print(\"Max:\",Max)\n",
        "            if(Min is None or ninputs <= Min):\n",
        "                Min = ninputs\n",
        "                print(\"Min:\",Min)\n",
        "        except:\n",
        "            print('Invalid input')\n",
        "print('Maximum: ',Max)\n",
        "print('Minimum: ',Min)\n"
      ]
    }
  ]
}