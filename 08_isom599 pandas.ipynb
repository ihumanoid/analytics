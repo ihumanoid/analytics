{
 "cells": [
  {
   "cell_type": "code",
   "execution_count": 2,
   "metadata": {},
   "outputs": [
    {
     "name": "stdout",
     "output_type": "stream",
     "text": [
      "<!DOCTYPE html>\n",
      "<htm\n",
      "<!DOCTYPE html>\n",
      "<htm\n",
      "<!DOCTYPE html>\n",
      "<htm\n",
      "<!DOCTYPE html>\n",
      "<htm\n"
     ]
    }
   ],
   "source": [
    "import requests\n",
    "from bs4 import BeautifulSoup\n",
    "strURL = \"https://forums.edmunds.com/search?query=&scope=site&source=community&page=\"\n",
    "\n",
    "for i in range(1,5):\n",
    "    url = strURL+str(i)\n",
    "    myURL = requests.get(url)\n",
    "    html = myURL.text\n",
    "    print(html[:20])\n"
   ]
  },
  {
   "cell_type": "code",
   "execution_count": 3,
   "metadata": {},
   "outputs": [],
   "source": [
    "import requests\n",
    "myKey = \"b82090a525c22e082da4c85eca460480\"\n",
    "myURL = requests.get(\"http://api.openweathermap.org/data/2.5/weather?q=Atlanta&appid=\"+myKey)\n",
    "html = myURL.text\n"
   ]
  },
  {
   "cell_type": "code",
   "execution_count": 9,
   "metadata": {},
   "outputs": [
    {
     "name": "stdout",
     "output_type": "stream",
     "text": [
      "{'coord': {'lon': -84.388, 'lat': 33.749}, 'weather': [{'id': 800, 'main': 'Clear', 'description': 'clear sky', 'icon': '01d'}], 'base': 'stations', 'main': {'temp': 289.34, 'feels_like': 287.69, 'temp_min': 287.36, 'temp_max': 291.12, 'pressure': 1017, 'humidity': 26}, 'visibility': 10000, 'wind': {'speed': 4.12, 'deg': 310}, 'clouds': {'all': 0}, 'dt': 1666297248, 'sys': {'type': 2, 'id': 2006620, 'country': 'US', 'sunrise': 1666266375, 'sunset': 1666306685}, 'timezone': -14400, 'id': 4180439, 'name': 'Atlanta', 'cod': 200}\n",
      "{'base': 'stations',\n",
      " 'clouds': {'all': 0},\n",
      " 'cod': 200,\n",
      " 'coord': {'lat': 33.749, 'lon': -84.388},\n",
      " 'dt': 1666297248,\n",
      " 'id': 4180439,\n",
      " 'main': {'feels_like': 287.69,\n",
      "          'humidity': 26,\n",
      "          'pressure': 1017,\n",
      "          'temp': 289.34,\n",
      "          'temp_max': 291.12,\n",
      "          'temp_min': 287.36},\n",
      " 'name': 'Atlanta',\n",
      " 'sys': {'country': 'US',\n",
      "         'id': 2006620,\n",
      "         'sunrise': 1666266375,\n",
      "         'sunset': 1666306685,\n",
      "         'type': 2},\n",
      " 'timezone': -14400,\n",
      " 'visibility': 10000,\n",
      " 'weather': [{'description': 'clear sky',\n",
      "              'icon': '01d',\n",
      "              'id': 800,\n",
      "              'main': 'Clear'}],\n",
      " 'wind': {'deg': 310, 'speed': 4.12}}\n"
     ]
    }
   ],
   "source": [
    "import json\n",
    "import pprint\n",
    "j = json.loads(html)\n",
    "print(j)\n",
    "pprint.pprint(j)"
   ]
  },
  {
   "cell_type": "code",
   "execution_count": 11,
   "metadata": {},
   "outputs": [
    {
     "data": {
      "text/plain": [
       "289.34"
      ]
     },
     "execution_count": 11,
     "metadata": {},
     "output_type": "execute_result"
    }
   ],
   "source": [
    "j['main']['temp']"
   ]
  },
  {
   "cell_type": "code",
   "execution_count": 16,
   "metadata": {},
   "outputs": [
    {
     "name": "stdout",
     "output_type": "stream",
     "text": [
      "{'businesses': [{'alias': 'munster-cravings-atlanta-2',\n",
      "                 'categories': [{'alias': 'desserts', 'title': 'Desserts'}],\n",
      "                 'coordinates': {'latitude': 33.8029454,\n",
      "                                 'longitude': -84.4285908},\n",
      "                 'display_phone': '(770) 913-7850',\n",
      "                 'distance': 5205.026595469839,\n",
      "                 'id': 'kxJ9YR2H0fh5acKUz62hkg',\n",
      "                 'image_url': 'https://s3-media3.fl.yelpcdn.com/bphoto/jbVAnHrdIqz8jiEd3UwYog/o.jpg',\n",
      "                 'is_closed': False,\n",
      "                 'location': {'address1': '1235 Chattahoochee Ave NW',\n",
      "                              'address2': None,\n",
      "                              'address3': '',\n",
      "                              'city': 'Atlanta ',\n",
      "                              'country': 'US',\n",
      "                              'display_address': ['1235 Chattahoochee Ave NW',\n",
      "                                                  'Atlanta , GA 30318'],\n",
      "                              'state': 'GA',\n",
      "                              'zip_code': '30318'},\n",
      "                 'name': 'Munster Cravings',\n",
      "                 'phone': '+17709137850',\n",
      "                 'rating': 5.0,\n",
      "                 'review_count': 56,\n",
      "                 'transactions': ['pickup', 'delivery'],\n",
      "                 'url': 'https://www.yelp.com/biz/munster-cravings-atlanta-2?adjust_creative=mAbb0z3ojDXlDW08uDvE7A&utm_campaign=yelp_api_v3&utm_medium=api_v3_business_search&utm_source=mAbb0z3ojDXlDW08uDvE7A'}],\n",
      " 'region': {'center': {'latitude': 33.81321311652279,\n",
      "                       'longitude': -84.37362670898438}},\n",
      " 'total': 5400}\n"
     ]
    }
   ],
   "source": [
    "from yelpapi import YelpAPI\n",
    "\n",
    "api_key = open(\"yelp_key.txt\", \"r\").readline().strip()\n",
    "\n",
    "yelp_api = YelpAPI(api_key)\n",
    "response = yelp_api.search_query(term='chocolate',\n",
    "                                 location='atlanta, ga',\n",
    "                                 sort_by='rating', limit=1)\n",
    "pprint.pprint(response)\n"
   ]
  },
  {
   "cell_type": "code",
   "execution_count": 15,
   "metadata": {},
   "outputs": [
    {
     "data": {
      "text/plain": [
       "'1170 Collier Rd'"
      ]
     },
     "execution_count": 15,
     "metadata": {},
     "output_type": "execute_result"
    }
   ],
   "source": [
    "response['businesses'][0]['location']['address1']"
   ]
  },
  {
   "cell_type": "code",
   "execution_count": 18,
   "metadata": {},
   "outputs": [
    {
     "name": "stdout",
     "output_type": "stream",
     "text": [
      "Jennifer Brazelton:RT @jrnewto: A year ago today we launched #emory2036, a campaign focused on the investments we need today for @Emory to become a university…\n",
      "Emory Alumni:RT @jrnewto: A year ago today we launched #emory2036, a campaign focused on the investments we need today for @Emory to become a university…\n",
      "Chadwick Hixon:RT @jrnewto: A year ago today we launched #emory2036, a campaign focused on the investments we need today for @Emory to become a university…\n",
      "Emory College:RT @jrnewto: A year ago today we launched #emory2036, a campaign focused on the investments we need today for @Emory to become a university…\n",
      "Josh Newton:A year ago today we launched #emory2036, a campaign focused on the investments we need today for @Emory to become a… https://t.co/ypWHdKYkQQ\n",
      "Corri J:@PoliticsGPB @nigutb @gpbnews @donnalowrynews @ajc @TamarHallerman @axios @Emma_Hurt @emory @AndraGillespie 😎 Marsh… https://t.co/TmYaIvAGyH\n",
      "Corri J:RT @PoliticsGPB: Host @nigutb welcomes, @gpbnews' @donnalowrynews, @ajc's @TamarHallerman, @axios' @Emma_Hurt and  @Emory's @AndraGillespie…\n",
      "Emory College:RT @PoliticsGPB: Host @nigutb welcomes, @gpbnews' @donnalowrynews, @ajc's @TamarHallerman, @axios' @Emma_Hurt and  @Emory's @AndraGillespie…\n",
      "WRGC:RT @PoliticsGPB: Host @nigutb welcomes, @gpbnews' @donnalowrynews, @ajc's @TamarHallerman, @axios' @Emma_Hurt and  @Emory's @AndraGillespie…\n",
      "Emory Political Science:RT @PoliticsGPB: Host @nigutb welcomes, @gpbnews' @donnalowrynews, @ajc's @TamarHallerman, @axios' @Emma_Hurt and  @Emory's @AndraGillespie…\n",
      "Donna Lowry:RT @PoliticsGPB: Host @nigutb welcomes, @gpbnews' @donnalowrynews, @ajc's @TamarHallerman, @axios' @Emma_Hurt and  @Emory's @AndraGillespie…\n",
      "Tamar Hallerman:RT @PoliticsGPB: Host @nigutb welcomes, @gpbnews' @donnalowrynews, @ajc's @TamarHallerman, @axios' @Emma_Hurt and  @Emory's @AndraGillespie…\n",
      "GPB News:RT @PoliticsGPB: Host @nigutb welcomes, @gpbnews' @donnalowrynews, @ajc's @TamarHallerman, @axios' @Emma_Hurt and  @Emory's @AndraGillespie…\n",
      "Political Rewind with Bill Nigut:Host @nigutb welcomes, @gpbnews' @donnalowrynews, @ajc's @TamarHallerman, @axios' @Emma_Hurt and  @Emory's… https://t.co/CRICnXI2YQ\n",
      "Tamim Ahsan:RT @tdread_emory: Looking forward to #ASMNGS today.  I have a brand new opening for a PhD scientist in my group working on bacterial genomi…\n"
     ]
    }
   ],
   "source": [
    "import tweepy\n",
    "\n",
    "passfile = open(\"twitter_pass2.txt\", \"r\")\n",
    "akey = passfile.readline().rstrip('\\n')\n",
    "asecret = passfile.readline().rstrip('\\n')\n",
    "atoken = passfile.readline().rstrip('\\n')\n",
    "atsecret = passfile.readline().rstrip('\\n')\n",
    "\n",
    "# Authenticate to Twitter\n",
    "auth = tweepy.OAuthHandler(akey, asecret)\n",
    "auth.set_access_token(atoken, atsecret)\n",
    "\n",
    "api = tweepy.API(auth)\n",
    "api.verify_credentials()\n",
    "\n",
    "for tweet in api.search(q=\"@emory\", lang=\"en\", rpp=10):\n",
    "    print(f\"{tweet.user.name}:{tweet.text}\")\n"
   ]
  },
  {
   "cell_type": "code",
   "execution_count": 19,
   "metadata": {},
   "outputs": [
    {
     "name": "stdout",
     "output_type": "stream",
     "text": [
      "Status(_api=<tweepy.api.API object at 0x00EDA9E8>, _json={'created_at': 'Mon Oct 17 17:45:12 +0000 2022', 'id': 1582065201955774464, 'id_str': '1582065201955774464', 'text': 'RT @tdread_emory: Looking forward to #ASMNGS today.  I have a brand new opening for a PhD scientist in my group working on bacterial genomi…', 'truncated': False, 'entities': {'hashtags': [{'text': 'ASMNGS', 'indices': [37, 44]}], 'symbols': [], 'user_mentions': [{'screen_name': 'tdread_emory', 'name': 'Timothy Read PhD', 'id': 415762872, 'id_str': '415762872', 'indices': [3, 16]}], 'urls': []}, 'metadata': {'iso_language_code': 'en', 'result_type': 'recent'}, 'source': '<a href=\"http://twitter.com/download/android\" rel=\"nofollow\">Twitter for Android</a>', 'in_reply_to_status_id': None, 'in_reply_to_status_id_str': None, 'in_reply_to_user_id': None, 'in_reply_to_user_id_str': None, 'in_reply_to_screen_name': None, 'user': {'id': 1004216093370605569, 'id_str': '1004216093370605569', 'name': 'Tamim Ahsan', 'screen_name': 'TamimAhsan10', 'location': 'Dhaka, Bangladesh', 'description': 'fascinated by marine bioresources..studied genetic engineering and marine biotechnology..working as a scientific officer..love poetry, paintings and movies..', 'url': 'https://t.co/kRt633EDbv', 'entities': {'url': {'urls': [{'url': 'https://t.co/kRt633EDbv', 'expanded_url': 'https://scholar.google.com/citations?hl=en&user=NfSnVxoAAAAJ', 'display_url': 'scholar.google.com/citations?hl=e…', 'indices': [0, 23]}]}, 'description': {'urls': []}}, 'protected': False, 'followers_count': 326, 'friends_count': 3256, 'listed_count': 0, 'created_at': 'Wed Jun 06 04:19:08 +0000 2018', 'favourites_count': 12562, 'utc_offset': None, 'time_zone': None, 'geo_enabled': False, 'verified': False, 'statuses_count': 2297, 'lang': None, 'contributors_enabled': False, 'is_translator': False, 'is_translation_enabled': False, 'profile_background_color': 'F5F8FA', 'profile_background_image_url': None, 'profile_background_image_url_https': None, 'profile_background_tile': False, 'profile_image_url': 'http://pbs.twimg.com/profile_images/1341781511834460160/As_vzD8y_normal.jpg', 'profile_image_url_https': 'https://pbs.twimg.com/profile_images/1341781511834460160/As_vzD8y_normal.jpg', 'profile_banner_url': 'https://pbs.twimg.com/profile_banners/1004216093370605569/1609663173', 'profile_link_color': '1DA1F2', 'profile_sidebar_border_color': 'C0DEED', 'profile_sidebar_fill_color': 'DDEEF6', 'profile_text_color': '333333', 'profile_use_background_image': True, 'has_extended_profile': True, 'default_profile': True, 'default_profile_image': False, 'following': False, 'follow_request_sent': False, 'notifications': False, 'translator_type': 'none', 'withheld_in_countries': []}, 'geo': None, 'coordinates': None, 'place': None, 'contributors': None, 'retweeted_status': {'created_at': 'Mon Oct 17 11:58:30 +0000 2022', 'id': 1581977953813991425, 'id_str': '1581977953813991425', 'text': 'Looking forward to #ASMNGS today.  I have a brand new opening for a PhD scientist in my group working on bacterial… https://t.co/oxqLKhnzLK', 'truncated': True, 'entities': {'hashtags': [{'text': 'ASMNGS', 'indices': [19, 26]}], 'symbols': [], 'user_mentions': [], 'urls': [{'url': 'https://t.co/oxqLKhnzLK', 'expanded_url': 'https://twitter.com/i/web/status/1581977953813991425', 'display_url': 'twitter.com/i/web/status/1…', 'indices': [116, 139]}]}, 'metadata': {'iso_language_code': 'en', 'result_type': 'recent'}, 'source': '<a href=\"https://mobile.twitter.com\" rel=\"nofollow\">Twitter Web App</a>', 'in_reply_to_status_id': None, 'in_reply_to_status_id_str': None, 'in_reply_to_user_id': None, 'in_reply_to_user_id_str': None, 'in_reply_to_screen_name': None, 'user': {'id': 415762872, 'id_str': '415762872', 'name': 'Timothy Read PhD', 'screen_name': 'tdread_emory', 'location': 'Atlanta', 'description': '🇬🇧 Professor, @EmoryDeptofMed, Division of Infectious Diseases, @EmoryUniversity.  https://t.co/GymBEc1xKl', 'url': None, 'entities': {'description': {'urls': [{'url': 'https://t.co/GymBEc1xKl', 'expanded_url': 'https://emergent.emory.edu', 'display_url': 'emergent.emory.edu', 'indices': [83, 106]}]}}, 'protected': False, 'followers_count': 1378, 'friends_count': 588, 'listed_count': 40, 'created_at': 'Fri Nov 18 19:43:07 +0000 2011', 'favourites_count': 5479, 'utc_offset': None, 'time_zone': None, 'geo_enabled': True, 'verified': False, 'statuses_count': 4859, 'lang': None, 'contributors_enabled': False, 'is_translator': False, 'is_translation_enabled': False, 'profile_background_color': '000000', 'profile_background_image_url': 'http://abs.twimg.com/images/themes/theme1/bg.png', 'profile_background_image_url_https': 'https://abs.twimg.com/images/themes/theme1/bg.png', 'profile_background_tile': False, 'profile_image_url': 'http://pbs.twimg.com/profile_images/768828282338967552/pPPssx8v_normal.jpg', 'profile_image_url_https': 'https://pbs.twimg.com/profile_images/768828282338967552/pPPssx8v_normal.jpg', 'profile_banner_url': 'https://pbs.twimg.com/profile_banners/415762872/1571746207', 'profile_link_color': '89C9FA', 'profile_sidebar_border_color': '000000', 'profile_sidebar_fill_color': '000000', 'profile_text_color': '000000', 'profile_use_background_image': False, 'has_extended_profile': False, 'default_profile': False, 'default_profile_image': False, 'following': False, 'follow_request_sent': False, 'notifications': False, 'translator_type': 'none', 'withheld_in_countries': []}, 'geo': None, 'coordinates': None, 'place': None, 'contributors': None, 'is_quote_status': False, 'retweet_count': 11, 'favorite_count': 16, 'favorited': False, 'retweeted': False, 'lang': 'en'}, 'is_quote_status': False, 'retweet_count': 11, 'favorite_count': 0, 'favorited': False, 'retweeted': False, 'lang': 'en'}, created_at=datetime.datetime(2022, 10, 17, 17, 45, 12), id=1582065201955774464, id_str='1582065201955774464', text='RT @tdread_emory: Looking forward to #ASMNGS today.  I have a brand new opening for a PhD scientist in my group working on bacterial genomi…', truncated=False, entities={'hashtags': [{'text': 'ASMNGS', 'indices': [37, 44]}], 'symbols': [], 'user_mentions': [{'screen_name': 'tdread_emory', 'name': 'Timothy Read PhD', 'id': 415762872, 'id_str': '415762872', 'indices': [3, 16]}], 'urls': []}, metadata={'iso_language_code': 'en', 'result_type': 'recent'}, source='Twitter for Android', source_url='http://twitter.com/download/android', in_reply_to_status_id=None, in_reply_to_status_id_str=None, in_reply_to_user_id=None, in_reply_to_user_id_str=None, in_reply_to_screen_name=None, author=User(_api=<tweepy.api.API object at 0x00EDA9E8>, _json={'id': 1004216093370605569, 'id_str': '1004216093370605569', 'name': 'Tamim Ahsan', 'screen_name': 'TamimAhsan10', 'location': 'Dhaka, Bangladesh', 'description': 'fascinated by marine bioresources..studied genetic engineering and marine biotechnology..working as a scientific officer..love poetry, paintings and movies..', 'url': 'https://t.co/kRt633EDbv', 'entities': {'url': {'urls': [{'url': 'https://t.co/kRt633EDbv', 'expanded_url': 'https://scholar.google.com/citations?hl=en&user=NfSnVxoAAAAJ', 'display_url': 'scholar.google.com/citations?hl=e…', 'indices': [0, 23]}]}, 'description': {'urls': []}}, 'protected': False, 'followers_count': 326, 'friends_count': 3256, 'listed_count': 0, 'created_at': 'Wed Jun 06 04:19:08 +0000 2018', 'favourites_count': 12562, 'utc_offset': None, 'time_zone': None, 'geo_enabled': False, 'verified': False, 'statuses_count': 2297, 'lang': None, 'contributors_enabled': False, 'is_translator': False, 'is_translation_enabled': False, 'profile_background_color': 'F5F8FA', 'profile_background_image_url': None, 'profile_background_image_url_https': None, 'profile_background_tile': False, 'profile_image_url': 'http://pbs.twimg.com/profile_images/1341781511834460160/As_vzD8y_normal.jpg', 'profile_image_url_https': 'https://pbs.twimg.com/profile_images/1341781511834460160/As_vzD8y_normal.jpg', 'profile_banner_url': 'https://pbs.twimg.com/profile_banners/1004216093370605569/1609663173', 'profile_link_color': '1DA1F2', 'profile_sidebar_border_color': 'C0DEED', 'profile_sidebar_fill_color': 'DDEEF6', 'profile_text_color': '333333', 'profile_use_background_image': True, 'has_extended_profile': True, 'default_profile': True, 'default_profile_image': False, 'following': False, 'follow_request_sent': False, 'notifications': False, 'translator_type': 'none', 'withheld_in_countries': []}, id=1004216093370605569, id_str='1004216093370605569', name='Tamim Ahsan', screen_name='TamimAhsan10', location='Dhaka, Bangladesh', description='fascinated by marine bioresources..studied genetic engineering and marine biotechnology..working as a scientific officer..love poetry, paintings and movies..', url='https://t.co/kRt633EDbv', entities={'url': {'urls': [{'url': 'https://t.co/kRt633EDbv', 'expanded_url': 'https://scholar.google.com/citations?hl=en&user=NfSnVxoAAAAJ', 'display_url': 'scholar.google.com/citations?hl=e…', 'indices': [0, 23]}]}, 'description': {'urls': []}}, protected=False, followers_count=326, friends_count=3256, listed_count=0, created_at=datetime.datetime(2018, 6, 6, 4, 19, 8), favourites_count=12562, utc_offset=None, time_zone=None, geo_enabled=False, verified=False, statuses_count=2297, lang=None, contributors_enabled=False, is_translator=False, is_translation_enabled=False, profile_background_color='F5F8FA', profile_background_image_url=None, profile_background_image_url_https=None, profile_background_tile=False, profile_image_url='http://pbs.twimg.com/profile_images/1341781511834460160/As_vzD8y_normal.jpg', profile_image_url_https='https://pbs.twimg.com/profile_images/1341781511834460160/As_vzD8y_normal.jpg', profile_banner_url='https://pbs.twimg.com/profile_banners/1004216093370605569/1609663173', profile_link_color='1DA1F2', profile_sidebar_border_color='C0DEED', profile_sidebar_fill_color='DDEEF6', profile_text_color='333333', profile_use_background_image=True, has_extended_profile=True, default_profile=True, default_profile_image=False, following=False, follow_request_sent=False, notifications=False, translator_type='none', withheld_in_countries=[]), user=User(_api=<tweepy.api.API object at 0x00EDA9E8>, _json={'id': 1004216093370605569, 'id_str': '1004216093370605569', 'name': 'Tamim Ahsan', 'screen_name': 'TamimAhsan10', 'location': 'Dhaka, Bangladesh', 'description': 'fascinated by marine bioresources..studied genetic engineering and marine biotechnology..working as a scientific officer..love poetry, paintings and movies..', 'url': 'https://t.co/kRt633EDbv', 'entities': {'url': {'urls': [{'url': 'https://t.co/kRt633EDbv', 'expanded_url': 'https://scholar.google.com/citations?hl=en&user=NfSnVxoAAAAJ', 'display_url': 'scholar.google.com/citations?hl=e…', 'indices': [0, 23]}]}, 'description': {'urls': []}}, 'protected': False, 'followers_count': 326, 'friends_count': 3256, 'listed_count': 0, 'created_at': 'Wed Jun 06 04:19:08 +0000 2018', 'favourites_count': 12562, 'utc_offset': None, 'time_zone': None, 'geo_enabled': False, 'verified': False, 'statuses_count': 2297, 'lang': None, 'contributors_enabled': False, 'is_translator': False, 'is_translation_enabled': False, 'profile_background_color': 'F5F8FA', 'profile_background_image_url': None, 'profile_background_image_url_https': None, 'profile_background_tile': False, 'profile_image_url': 'http://pbs.twimg.com/profile_images/1341781511834460160/As_vzD8y_normal.jpg', 'profile_image_url_https': 'https://pbs.twimg.com/profile_images/1341781511834460160/As_vzD8y_normal.jpg', 'profile_banner_url': 'https://pbs.twimg.com/profile_banners/1004216093370605569/1609663173', 'profile_link_color': '1DA1F2', 'profile_sidebar_border_color': 'C0DEED', 'profile_sidebar_fill_color': 'DDEEF6', 'profile_text_color': '333333', 'profile_use_background_image': True, 'has_extended_profile': True, 'default_profile': True, 'default_profile_image': False, 'following': False, 'follow_request_sent': False, 'notifications': False, 'translator_type': 'none', 'withheld_in_countries': []}, id=1004216093370605569, id_str='1004216093370605569', name='Tamim Ahsan', screen_name='TamimAhsan10', location='Dhaka, Bangladesh', description='fascinated by marine bioresources..studied genetic engineering and marine biotechnology..working as a scientific officer..love poetry, paintings and movies..', url='https://t.co/kRt633EDbv', entities={'url': {'urls': [{'url': 'https://t.co/kRt633EDbv', 'expanded_url': 'https://scholar.google.com/citations?hl=en&user=NfSnVxoAAAAJ', 'display_url': 'scholar.google.com/citations?hl=e…', 'indices': [0, 23]}]}, 'description': {'urls': []}}, protected=False, followers_count=326, friends_count=3256, listed_count=0, created_at=datetime.datetime(2018, 6, 6, 4, 19, 8), favourites_count=12562, utc_offset=None, time_zone=None, geo_enabled=False, verified=False, statuses_count=2297, lang=None, contributors_enabled=False, is_translator=False, is_translation_enabled=False, profile_background_color='F5F8FA', profile_background_image_url=None, profile_background_image_url_https=None, profile_background_tile=False, profile_image_url='http://pbs.twimg.com/profile_images/1341781511834460160/As_vzD8y_normal.jpg', profile_image_url_https='https://pbs.twimg.com/profile_images/1341781511834460160/As_vzD8y_normal.jpg', profile_banner_url='https://pbs.twimg.com/profile_banners/1004216093370605569/1609663173', profile_link_color='1DA1F2', profile_sidebar_border_color='C0DEED', profile_sidebar_fill_color='DDEEF6', profile_text_color='333333', profile_use_background_image=True, has_extended_profile=True, default_profile=True, default_profile_image=False, following=False, follow_request_sent=False, notifications=False, translator_type='none', withheld_in_countries=[]), geo=None, coordinates=None, place=None, contributors=None, retweeted_status=Status(_api=<tweepy.api.API object at 0x00EDA9E8>, _json={'created_at': 'Mon Oct 17 11:58:30 +0000 2022', 'id': 1581977953813991425, 'id_str': '1581977953813991425', 'text': 'Looking forward to #ASMNGS today.  I have a brand new opening for a PhD scientist in my group working on bacterial… https://t.co/oxqLKhnzLK', 'truncated': True, 'entities': {'hashtags': [{'text': 'ASMNGS', 'indices': [19, 26]}], 'symbols': [], 'user_mentions': [], 'urls': [{'url': 'https://t.co/oxqLKhnzLK', 'expanded_url': 'https://twitter.com/i/web/status/1581977953813991425', 'display_url': 'twitter.com/i/web/status/1…', 'indices': [116, 139]}]}, 'metadata': {'iso_language_code': 'en', 'result_type': 'recent'}, 'source': '<a href=\"https://mobile.twitter.com\" rel=\"nofollow\">Twitter Web App</a>', 'in_reply_to_status_id': None, 'in_reply_to_status_id_str': None, 'in_reply_to_user_id': None, 'in_reply_to_user_id_str': None, 'in_reply_to_screen_name': None, 'user': {'id': 415762872, 'id_str': '415762872', 'name': 'Timothy Read PhD', 'screen_name': 'tdread_emory', 'location': 'Atlanta', 'description': '🇬🇧 Professor, @EmoryDeptofMed, Division of Infectious Diseases, @EmoryUniversity.  https://t.co/GymBEc1xKl', 'url': None, 'entities': {'description': {'urls': [{'url': 'https://t.co/GymBEc1xKl', 'expanded_url': 'https://emergent.emory.edu', 'display_url': 'emergent.emory.edu', 'indices': [83, 106]}]}}, 'protected': False, 'followers_count': 1378, 'friends_count': 588, 'listed_count': 40, 'created_at': 'Fri Nov 18 19:43:07 +0000 2011', 'favourites_count': 5479, 'utc_offset': None, 'time_zone': None, 'geo_enabled': True, 'verified': False, 'statuses_count': 4859, 'lang': None, 'contributors_enabled': False, 'is_translator': False, 'is_translation_enabled': False, 'profile_background_color': '000000', 'profile_background_image_url': 'http://abs.twimg.com/images/themes/theme1/bg.png', 'profile_background_image_url_https': 'https://abs.twimg.com/images/themes/theme1/bg.png', 'profile_background_tile': False, 'profile_image_url': 'http://pbs.twimg.com/profile_images/768828282338967552/pPPssx8v_normal.jpg', 'profile_image_url_https': 'https://pbs.twimg.com/profile_images/768828282338967552/pPPssx8v_normal.jpg', 'profile_banner_url': 'https://pbs.twimg.com/profile_banners/415762872/1571746207', 'profile_link_color': '89C9FA', 'profile_sidebar_border_color': '000000', 'profile_sidebar_fill_color': '000000', 'profile_text_color': '000000', 'profile_use_background_image': False, 'has_extended_profile': False, 'default_profile': False, 'default_profile_image': False, 'following': False, 'follow_request_sent': False, 'notifications': False, 'translator_type': 'none', 'withheld_in_countries': []}, 'geo': None, 'coordinates': None, 'place': None, 'contributors': None, 'is_quote_status': False, 'retweet_count': 11, 'favorite_count': 16, 'favorited': False, 'retweeted': False, 'lang': 'en'}, created_at=datetime.datetime(2022, 10, 17, 11, 58, 30), id=1581977953813991425, id_str='1581977953813991425', text='Looking forward to #ASMNGS today.  I have a brand new opening for a PhD scientist in my group working on bacterial… https://t.co/oxqLKhnzLK', truncated=True, entities={'hashtags': [{'text': 'ASMNGS', 'indices': [19, 26]}], 'symbols': [], 'user_mentions': [], 'urls': [{'url': 'https://t.co/oxqLKhnzLK', 'expanded_url': 'https://twitter.com/i/web/status/1581977953813991425', 'display_url': 'twitter.com/i/web/status/1…', 'indices': [116, 139]}]}, metadata={'iso_language_code': 'en', 'result_type': 'recent'}, source='Twitter Web App', source_url='https://mobile.twitter.com', in_reply_to_status_id=None, in_reply_to_status_id_str=None, in_reply_to_user_id=None, in_reply_to_user_id_str=None, in_reply_to_screen_name=None, author=User(_api=<tweepy.api.API object at 0x00EDA9E8>, _json={'id': 415762872, 'id_str': '415762872', 'name': 'Timothy Read PhD', 'screen_name': 'tdread_emory', 'location': 'Atlanta', 'description': '🇬🇧 Professor, @EmoryDeptofMed, Division of Infectious Diseases, @EmoryUniversity.  https://t.co/GymBEc1xKl', 'url': None, 'entities': {'description': {'urls': [{'url': 'https://t.co/GymBEc1xKl', 'expanded_url': 'https://emergent.emory.edu', 'display_url': 'emergent.emory.edu', 'indices': [83, 106]}]}}, 'protected': False, 'followers_count': 1378, 'friends_count': 588, 'listed_count': 40, 'created_at': 'Fri Nov 18 19:43:07 +0000 2011', 'favourites_count': 5479, 'utc_offset': None, 'time_zone': None, 'geo_enabled': True, 'verified': False, 'statuses_count': 4859, 'lang': None, 'contributors_enabled': False, 'is_translator': False, 'is_translation_enabled': False, 'profile_background_color': '000000', 'profile_background_image_url': 'http://abs.twimg.com/images/themes/theme1/bg.png', 'profile_background_image_url_https': 'https://abs.twimg.com/images/themes/theme1/bg.png', 'profile_background_tile': False, 'profile_image_url': 'http://pbs.twimg.com/profile_images/768828282338967552/pPPssx8v_normal.jpg', 'profile_image_url_https': 'https://pbs.twimg.com/profile_images/768828282338967552/pPPssx8v_normal.jpg', 'profile_banner_url': 'https://pbs.twimg.com/profile_banners/415762872/1571746207', 'profile_link_color': '89C9FA', 'profile_sidebar_border_color': '000000', 'profile_sidebar_fill_color': '000000', 'profile_text_color': '000000', 'profile_use_background_image': False, 'has_extended_profile': False, 'default_profile': False, 'default_profile_image': False, 'following': False, 'follow_request_sent': False, 'notifications': False, 'translator_type': 'none', 'withheld_in_countries': []}, id=415762872, id_str='415762872', name='Timothy Read PhD', screen_name='tdread_emory', location='Atlanta', description='🇬🇧 Professor, @EmoryDeptofMed, Division of Infectious Diseases, @EmoryUniversity.  https://t.co/GymBEc1xKl', url=None, entities={'description': {'urls': [{'url': 'https://t.co/GymBEc1xKl', 'expanded_url': 'https://emergent.emory.edu', 'display_url': 'emergent.emory.edu', 'indices': [83, 106]}]}}, protected=False, followers_count=1378, friends_count=588, listed_count=40, created_at=datetime.datetime(2011, 11, 18, 19, 43, 7), favourites_count=5479, utc_offset=None, time_zone=None, geo_enabled=True, verified=False, statuses_count=4859, lang=None, contributors_enabled=False, is_translator=False, is_translation_enabled=False, profile_background_color='000000', profile_background_image_url='http://abs.twimg.com/images/themes/theme1/bg.png', profile_background_image_url_https='https://abs.twimg.com/images/themes/theme1/bg.png', profile_background_tile=False, profile_image_url='http://pbs.twimg.com/profile_images/768828282338967552/pPPssx8v_normal.jpg', profile_image_url_https='https://pbs.twimg.com/profile_images/768828282338967552/pPPssx8v_normal.jpg', profile_banner_url='https://pbs.twimg.com/profile_banners/415762872/1571746207', profile_link_color='89C9FA', profile_sidebar_border_color='000000', profile_sidebar_fill_color='000000', profile_text_color='000000', profile_use_background_image=False, has_extended_profile=False, default_profile=False, default_profile_image=False, following=False, follow_request_sent=False, notifications=False, translator_type='none', withheld_in_countries=[]), user=User(_api=<tweepy.api.API object at 0x00EDA9E8>, _json={'id': 415762872, 'id_str': '415762872', 'name': 'Timothy Read PhD', 'screen_name': 'tdread_emory', 'location': 'Atlanta', 'description': '🇬🇧 Professor, @EmoryDeptofMed, Division of Infectious Diseases, @EmoryUniversity.  https://t.co/GymBEc1xKl', 'url': None, 'entities': {'description': {'urls': [{'url': 'https://t.co/GymBEc1xKl', 'expanded_url': 'https://emergent.emory.edu', 'display_url': 'emergent.emory.edu', 'indices': [83, 106]}]}}, 'protected': False, 'followers_count': 1378, 'friends_count': 588, 'listed_count': 40, 'created_at': 'Fri Nov 18 19:43:07 +0000 2011', 'favourites_count': 5479, 'utc_offset': None, 'time_zone': None, 'geo_enabled': True, 'verified': False, 'statuses_count': 4859, 'lang': None, 'contributors_enabled': False, 'is_translator': False, 'is_translation_enabled': False, 'profile_background_color': '000000', 'profile_background_image_url': 'http://abs.twimg.com/images/themes/theme1/bg.png', 'profile_background_image_url_https': 'https://abs.twimg.com/images/themes/theme1/bg.png', 'profile_background_tile': False, 'profile_image_url': 'http://pbs.twimg.com/profile_images/768828282338967552/pPPssx8v_normal.jpg', 'profile_image_url_https': 'https://pbs.twimg.com/profile_images/768828282338967552/pPPssx8v_normal.jpg', 'profile_banner_url': 'https://pbs.twimg.com/profile_banners/415762872/1571746207', 'profile_link_color': '89C9FA', 'profile_sidebar_border_color': '000000', 'profile_sidebar_fill_color': '000000', 'profile_text_color': '000000', 'profile_use_background_image': False, 'has_extended_profile': False, 'default_profile': False, 'default_profile_image': False, 'following': False, 'follow_request_sent': False, 'notifications': False, 'translator_type': 'none', 'withheld_in_countries': []}, id=415762872, id_str='415762872', name='Timothy Read PhD', screen_name='tdread_emory', location='Atlanta', description='🇬🇧 Professor, @EmoryDeptofMed, Division of Infectious Diseases, @EmoryUniversity.  https://t.co/GymBEc1xKl', url=None, entities={'description': {'urls': [{'url': 'https://t.co/GymBEc1xKl', 'expanded_url': 'https://emergent.emory.edu', 'display_url': 'emergent.emory.edu', 'indices': [83, 106]}]}}, protected=False, followers_count=1378, friends_count=588, listed_count=40, created_at=datetime.datetime(2011, 11, 18, 19, 43, 7), favourites_count=5479, utc_offset=None, time_zone=None, geo_enabled=True, verified=False, statuses_count=4859, lang=None, contributors_enabled=False, is_translator=False, is_translation_enabled=False, profile_background_color='000000', profile_background_image_url='http://abs.twimg.com/images/themes/theme1/bg.png', profile_background_image_url_https='https://abs.twimg.com/images/themes/theme1/bg.png', profile_background_tile=False, profile_image_url='http://pbs.twimg.com/profile_images/768828282338967552/pPPssx8v_normal.jpg', profile_image_url_https='https://pbs.twimg.com/profile_images/768828282338967552/pPPssx8v_normal.jpg', profile_banner_url='https://pbs.twimg.com/profile_banners/415762872/1571746207', profile_link_color='89C9FA', profile_sidebar_border_color='000000', profile_sidebar_fill_color='000000', profile_text_color='000000', profile_use_background_image=False, has_extended_profile=False, default_profile=False, default_profile_image=False, following=False, follow_request_sent=False, notifications=False, translator_type='none', withheld_in_countries=[]), geo=None, coordinates=None, place=None, contributors=None, is_quote_status=False, retweet_count=11, favorite_count=16, favorited=False, retweeted=False, lang='en'), is_quote_status=False, retweet_count=11, favorite_count=0, favorited=False, retweeted=False, lang='en')\n"
     ]
    }
   ],
   "source": [
    "pprint.pprint(tweet)\n"
   ]
  },
  {
   "cell_type": "code",
   "execution_count": 22,
   "metadata": {},
   "outputs": [
    {
     "name": "stdout",
     "output_type": "stream",
     "text": [
      "0    1\n",
      "1    2\n",
      "2    3\n",
      "3    4\n",
      "4    a\n",
      "dtype: object\n",
      "3\n"
     ]
    }
   ],
   "source": [
    "import pandas as pd\n",
    "ds = pd.Series([1, 2, 3, 4, 'a'])\n",
    "print(ds)\n",
    "print(ds[2])"
   ]
  },
  {
   "cell_type": "code",
   "execution_count": 27,
   "metadata": {},
   "outputs": [
    {
     "data": {
      "text/plain": [
       "RangeIndex(start=0, stop=4, step=1)"
      ]
     },
     "execution_count": 27,
     "metadata": {},
     "output_type": "execute_result"
    }
   ],
   "source": [
    "df = pd.DataFrame({'product':['app', 'ban', 'choc', 'othr'], \n",
    "                    'price':[1.50, 0.89, 2.49, 0.50]})\n",
    "df.index"
   ]
  },
  {
   "cell_type": "code",
   "execution_count": 28,
   "metadata": {},
   "outputs": [
    {
     "name": "stdout",
     "output_type": "stream",
     "text": [
      "      price\n",
      "app    1.50\n",
      "ban    0.89\n",
      "choc   2.49\n",
      "othr   0.50\n"
     ]
    }
   ],
   "source": [
    "df = pd.DataFrame({'price':[1.50, 0.89, 2.49, 0.50]}, \n",
    "                    index=['app', 'ban', 'choc', 'othr'])\n",
    "print(df)"
   ]
  },
  {
   "cell_type": "code",
   "execution_count": 30,
   "metadata": {},
   "outputs": [
    {
     "name": "stdout",
     "output_type": "stream",
     "text": [
      "         id  year  month element    d1    d2    d3    d4    d5    d6  ...  \\\n",
      "0   MX17004  2010      1    tmax   NaN   NaN   NaN   NaN   NaN   NaN  ...   \n",
      "1   MX17004  2010      1    tmin   NaN   NaN   NaN   NaN   NaN   NaN  ...   \n",
      "2   MX17004  2010      2    tmax   NaN  27.3  24.1   NaN   NaN   NaN  ...   \n",
      "3   MX17004  2010      2    tmin   NaN  14.4  14.4   NaN   NaN   NaN  ...   \n",
      "4   MX17004  2010      3    tmax   NaN   NaN   NaN   NaN  32.1   NaN  ...   \n",
      "5   MX17004  2010      3    tmin   NaN   NaN   NaN   NaN  14.2   NaN  ...   \n",
      "6   MX17004  2010      4    tmax   NaN   NaN   NaN   NaN   NaN   NaN  ...   \n",
      "7   MX17004  2010      4    tmin   NaN   NaN   NaN   NaN   NaN   NaN  ...   \n",
      "8   MX17004  2010      5    tmax   NaN   NaN   NaN   NaN   NaN   NaN  ...   \n",
      "9   MX17004  2010      5    tmin   NaN   NaN   NaN   NaN   NaN   NaN  ...   \n",
      "10  MX17004  2010      6    tmax   NaN   NaN   NaN   NaN   NaN   NaN  ...   \n",
      "11  MX17004  2010      6    tmin   NaN   NaN   NaN   NaN   NaN   NaN  ...   \n",
      "12  MX17004  2010      7    tmax   NaN   NaN  28.6   NaN   NaN   NaN  ...   \n",
      "13  MX17004  2010      7    tmin   NaN   NaN  17.5   NaN   NaN   NaN  ...   \n",
      "14  MX17004  2010      8    tmax   NaN   NaN   NaN   NaN  29.6   NaN  ...   \n",
      "15  MX17004  2010      8    tmin   NaN   NaN   NaN   NaN  15.8   NaN  ...   \n",
      "16  MX17004  2010     10    tmax   NaN   NaN   NaN   NaN  27.0   NaN  ...   \n",
      "17  MX17004  2010     10    tmin   NaN   NaN   NaN   NaN  14.0   NaN  ...   \n",
      "18  MX17004  2010     11    tmax   NaN  31.3   NaN  27.2  26.3   NaN  ...   \n",
      "19  MX17004  2010     11    tmin   NaN  16.3   NaN  12.0   7.9   NaN  ...   \n",
      "20  MX17004  2010     12    tmax  29.9   NaN   NaN   NaN   NaN  27.8  ...   \n",
      "21  MX17004  2010     12    tmin  13.8   NaN   NaN   NaN   NaN  10.5  ...   \n",
      "\n",
      "    d22   d23  d24   d25   d26   d27   d28   d29   d30   d31  \n",
      "0   NaN   NaN  NaN   NaN   NaN   NaN   NaN   NaN  27.8   NaN  \n",
      "1   NaN   NaN  NaN   NaN   NaN   NaN   NaN   NaN  14.5   NaN  \n",
      "2   NaN  29.9  NaN   NaN   NaN   NaN   NaN   NaN   NaN   NaN  \n",
      "3   NaN  10.7  NaN   NaN   NaN   NaN   NaN   NaN   NaN   NaN  \n",
      "4   NaN   NaN  NaN   NaN   NaN   NaN   NaN   NaN   NaN   NaN  \n",
      "5   NaN   NaN  NaN   NaN   NaN   NaN   NaN   NaN   NaN   NaN  \n",
      "6   NaN   NaN  NaN   NaN   NaN  36.3   NaN   NaN   NaN   NaN  \n",
      "7   NaN   NaN  NaN   NaN   NaN  16.7   NaN   NaN   NaN   NaN  \n",
      "8   NaN   NaN  NaN   NaN   NaN  33.2   NaN   NaN   NaN   NaN  \n",
      "9   NaN   NaN  NaN   NaN   NaN  18.2   NaN   NaN   NaN   NaN  \n",
      "10  NaN   NaN  NaN   NaN   NaN   NaN   NaN  30.1   NaN   NaN  \n",
      "11  NaN   NaN  NaN   NaN   NaN   NaN   NaN  18.0   NaN   NaN  \n",
      "12  NaN   NaN  NaN   NaN   NaN   NaN   NaN   NaN   NaN   NaN  \n",
      "13  NaN   NaN  NaN   NaN   NaN   NaN   NaN   NaN   NaN   NaN  \n",
      "14  NaN  26.4  NaN  29.7   NaN   NaN   NaN  28.0   NaN  25.4  \n",
      "15  NaN  15.0  NaN  15.6   NaN   NaN   NaN  15.3   NaN  15.4  \n",
      "16  NaN   NaN  NaN   NaN   NaN   NaN  31.2   NaN   NaN   NaN  \n",
      "17  NaN   NaN  NaN   NaN   NaN   NaN  15.0   NaN   NaN   NaN  \n",
      "18  NaN   NaN  NaN   NaN  28.1  27.7   NaN   NaN   NaN   NaN  \n",
      "19  NaN   NaN  NaN   NaN  12.1  14.2   NaN   NaN   NaN   NaN  \n",
      "20  NaN   NaN  NaN   NaN   NaN   NaN   NaN   NaN   NaN   NaN  \n",
      "21  NaN   NaN  NaN   NaN   NaN   NaN   NaN   NaN   NaN   NaN  \n",
      "\n",
      "[22 rows x 35 columns]\n"
     ]
    }
   ],
   "source": [
    "df = pd.read_csv('datasets/weather.csv')\n",
    "print(df)"
   ]
  },
  {
   "cell_type": "code",
   "execution_count": 31,
   "metadata": {},
   "outputs": [
    {
     "name": "stdout",
     "output_type": "stream",
     "text": [
      "          country continent  year  lifeExp       pop   gdpPercap\n",
      "0     Afghanistan      Asia  1952   28.801   8425333  779.445314\n",
      "1     Afghanistan      Asia  1957   30.332   9240934  820.853030\n",
      "2     Afghanistan      Asia  1962   31.997  10267083  853.100710\n",
      "3     Afghanistan      Asia  1967   34.020  11537966  836.197138\n",
      "4     Afghanistan      Asia  1972   36.088  13079460  739.981106\n",
      "...           ...       ...   ...      ...       ...         ...\n",
      "1699     Zimbabwe    Africa  1987   62.351   9216418  706.157306\n",
      "1700     Zimbabwe    Africa  1992   60.377  10704340  693.420786\n",
      "1701     Zimbabwe    Africa  1997   46.809  11404948  792.449960\n",
      "1702     Zimbabwe    Africa  2002   39.989  11926563  672.038623\n",
      "1703     Zimbabwe    Africa  2007   43.487  12311143  469.709298\n",
      "\n",
      "[1704 rows x 6 columns]\n"
     ]
    }
   ],
   "source": [
    "df = pd.read_csv('datasets/gapminder.tsv', sep='\\t')\n",
    "print(df)"
   ]
  },
  {
   "cell_type": "code",
   "execution_count": 34,
   "metadata": {},
   "outputs": [
    {
     "data": {
      "text/plain": [
       "82.603"
      ]
     },
     "execution_count": 34,
     "metadata": {},
     "output_type": "execute_result"
    }
   ],
   "source": [
    "df['lifeExp'].mean()\n",
    "df['lifeExp'].min()\n",
    "df['lifeExp'].max()"
   ]
  },
  {
   "cell_type": "code",
   "execution_count": 38,
   "metadata": {},
   "outputs": [
    {
     "data": {
      "text/html": [
       "<div>\n",
       "<style scoped>\n",
       "    .dataframe tbody tr th:only-of-type {\n",
       "        vertical-align: middle;\n",
       "    }\n",
       "\n",
       "    .dataframe tbody tr th {\n",
       "        vertical-align: top;\n",
       "    }\n",
       "\n",
       "    .dataframe thead th {\n",
       "        text-align: right;\n",
       "    }\n",
       "</style>\n",
       "<table border=\"1\" class=\"dataframe\">\n",
       "  <thead>\n",
       "    <tr style=\"text-align: right;\">\n",
       "      <th></th>\n",
       "      <th>country</th>\n",
       "      <th>continent</th>\n",
       "      <th>year</th>\n",
       "      <th>lifeExp</th>\n",
       "      <th>pop</th>\n",
       "      <th>gdpPercap</th>\n",
       "    </tr>\n",
       "  </thead>\n",
       "  <tbody>\n",
       "    <tr>\n",
       "      <th>0</th>\n",
       "      <td>Afghanistan</td>\n",
       "      <td>Asia</td>\n",
       "      <td>1952</td>\n",
       "      <td>28.801</td>\n",
       "      <td>8425333</td>\n",
       "      <td>779.445314</td>\n",
       "    </tr>\n",
       "    <tr>\n",
       "      <th>1</th>\n",
       "      <td>Afghanistan</td>\n",
       "      <td>Asia</td>\n",
       "      <td>1957</td>\n",
       "      <td>30.332</td>\n",
       "      <td>9240934</td>\n",
       "      <td>820.853030</td>\n",
       "    </tr>\n",
       "    <tr>\n",
       "      <th>2</th>\n",
       "      <td>Afghanistan</td>\n",
       "      <td>Asia</td>\n",
       "      <td>1962</td>\n",
       "      <td>31.997</td>\n",
       "      <td>10267083</td>\n",
       "      <td>853.100710</td>\n",
       "    </tr>\n",
       "    <tr>\n",
       "      <th>3</th>\n",
       "      <td>Afghanistan</td>\n",
       "      <td>Asia</td>\n",
       "      <td>1967</td>\n",
       "      <td>34.020</td>\n",
       "      <td>11537966</td>\n",
       "      <td>836.197138</td>\n",
       "    </tr>\n",
       "    <tr>\n",
       "      <th>4</th>\n",
       "      <td>Afghanistan</td>\n",
       "      <td>Asia</td>\n",
       "      <td>1972</td>\n",
       "      <td>36.088</td>\n",
       "      <td>13079460</td>\n",
       "      <td>739.981106</td>\n",
       "    </tr>\n",
       "    <tr>\n",
       "      <th>5</th>\n",
       "      <td>Afghanistan</td>\n",
       "      <td>Asia</td>\n",
       "      <td>1977</td>\n",
       "      <td>38.438</td>\n",
       "      <td>14880372</td>\n",
       "      <td>786.113360</td>\n",
       "    </tr>\n",
       "    <tr>\n",
       "      <th>6</th>\n",
       "      <td>Afghanistan</td>\n",
       "      <td>Asia</td>\n",
       "      <td>1982</td>\n",
       "      <td>39.854</td>\n",
       "      <td>12881816</td>\n",
       "      <td>978.011439</td>\n",
       "    </tr>\n",
       "    <tr>\n",
       "      <th>7</th>\n",
       "      <td>Afghanistan</td>\n",
       "      <td>Asia</td>\n",
       "      <td>1987</td>\n",
       "      <td>40.822</td>\n",
       "      <td>13867957</td>\n",
       "      <td>852.395945</td>\n",
       "    </tr>\n",
       "    <tr>\n",
       "      <th>8</th>\n",
       "      <td>Afghanistan</td>\n",
       "      <td>Asia</td>\n",
       "      <td>1992</td>\n",
       "      <td>41.674</td>\n",
       "      <td>16317921</td>\n",
       "      <td>649.341395</td>\n",
       "    </tr>\n",
       "    <tr>\n",
       "      <th>9</th>\n",
       "      <td>Afghanistan</td>\n",
       "      <td>Asia</td>\n",
       "      <td>1997</td>\n",
       "      <td>41.763</td>\n",
       "      <td>22227415</td>\n",
       "      <td>635.341351</td>\n",
       "    </tr>\n",
       "  </tbody>\n",
       "</table>\n",
       "</div>"
      ],
      "text/plain": [
       "       country continent  year  lifeExp       pop   gdpPercap\n",
       "0  Afghanistan      Asia  1952   28.801   8425333  779.445314\n",
       "1  Afghanistan      Asia  1957   30.332   9240934  820.853030\n",
       "2  Afghanistan      Asia  1962   31.997  10267083  853.100710\n",
       "3  Afghanistan      Asia  1967   34.020  11537966  836.197138\n",
       "4  Afghanistan      Asia  1972   36.088  13079460  739.981106\n",
       "5  Afghanistan      Asia  1977   38.438  14880372  786.113360\n",
       "6  Afghanistan      Asia  1982   39.854  12881816  978.011439\n",
       "7  Afghanistan      Asia  1987   40.822  13867957  852.395945\n",
       "8  Afghanistan      Asia  1992   41.674  16317921  649.341395\n",
       "9  Afghanistan      Asia  1997   41.763  22227415  635.341351"
      ]
     },
     "execution_count": 38,
     "metadata": {},
     "output_type": "execute_result"
    }
   ],
   "source": [
    "df.head(10)"
   ]
  },
  {
   "cell_type": "code",
   "execution_count": 37,
   "metadata": {},
   "outputs": [
    {
     "data": {
      "text/html": [
       "<div>\n",
       "<style scoped>\n",
       "    .dataframe tbody tr th:only-of-type {\n",
       "        vertical-align: middle;\n",
       "    }\n",
       "\n",
       "    .dataframe tbody tr th {\n",
       "        vertical-align: top;\n",
       "    }\n",
       "\n",
       "    .dataframe thead th {\n",
       "        text-align: right;\n",
       "    }\n",
       "</style>\n",
       "<table border=\"1\" class=\"dataframe\">\n",
       "  <thead>\n",
       "    <tr style=\"text-align: right;\">\n",
       "      <th></th>\n",
       "      <th>country</th>\n",
       "      <th>continent</th>\n",
       "      <th>year</th>\n",
       "      <th>lifeExp</th>\n",
       "      <th>pop</th>\n",
       "      <th>gdpPercap</th>\n",
       "    </tr>\n",
       "  </thead>\n",
       "  <tbody>\n",
       "    <tr>\n",
       "      <th>1694</th>\n",
       "      <td>Zimbabwe</td>\n",
       "      <td>Africa</td>\n",
       "      <td>1962</td>\n",
       "      <td>52.358</td>\n",
       "      <td>4277736</td>\n",
       "      <td>527.272182</td>\n",
       "    </tr>\n",
       "    <tr>\n",
       "      <th>1695</th>\n",
       "      <td>Zimbabwe</td>\n",
       "      <td>Africa</td>\n",
       "      <td>1967</td>\n",
       "      <td>53.995</td>\n",
       "      <td>4995432</td>\n",
       "      <td>569.795071</td>\n",
       "    </tr>\n",
       "    <tr>\n",
       "      <th>1696</th>\n",
       "      <td>Zimbabwe</td>\n",
       "      <td>Africa</td>\n",
       "      <td>1972</td>\n",
       "      <td>55.635</td>\n",
       "      <td>5861135</td>\n",
       "      <td>799.362176</td>\n",
       "    </tr>\n",
       "    <tr>\n",
       "      <th>1697</th>\n",
       "      <td>Zimbabwe</td>\n",
       "      <td>Africa</td>\n",
       "      <td>1977</td>\n",
       "      <td>57.674</td>\n",
       "      <td>6642107</td>\n",
       "      <td>685.587682</td>\n",
       "    </tr>\n",
       "    <tr>\n",
       "      <th>1698</th>\n",
       "      <td>Zimbabwe</td>\n",
       "      <td>Africa</td>\n",
       "      <td>1982</td>\n",
       "      <td>60.363</td>\n",
       "      <td>7636524</td>\n",
       "      <td>788.855041</td>\n",
       "    </tr>\n",
       "    <tr>\n",
       "      <th>1699</th>\n",
       "      <td>Zimbabwe</td>\n",
       "      <td>Africa</td>\n",
       "      <td>1987</td>\n",
       "      <td>62.351</td>\n",
       "      <td>9216418</td>\n",
       "      <td>706.157306</td>\n",
       "    </tr>\n",
       "    <tr>\n",
       "      <th>1700</th>\n",
       "      <td>Zimbabwe</td>\n",
       "      <td>Africa</td>\n",
       "      <td>1992</td>\n",
       "      <td>60.377</td>\n",
       "      <td>10704340</td>\n",
       "      <td>693.420786</td>\n",
       "    </tr>\n",
       "    <tr>\n",
       "      <th>1701</th>\n",
       "      <td>Zimbabwe</td>\n",
       "      <td>Africa</td>\n",
       "      <td>1997</td>\n",
       "      <td>46.809</td>\n",
       "      <td>11404948</td>\n",
       "      <td>792.449960</td>\n",
       "    </tr>\n",
       "    <tr>\n",
       "      <th>1702</th>\n",
       "      <td>Zimbabwe</td>\n",
       "      <td>Africa</td>\n",
       "      <td>2002</td>\n",
       "      <td>39.989</td>\n",
       "      <td>11926563</td>\n",
       "      <td>672.038623</td>\n",
       "    </tr>\n",
       "    <tr>\n",
       "      <th>1703</th>\n",
       "      <td>Zimbabwe</td>\n",
       "      <td>Africa</td>\n",
       "      <td>2007</td>\n",
       "      <td>43.487</td>\n",
       "      <td>12311143</td>\n",
       "      <td>469.709298</td>\n",
       "    </tr>\n",
       "  </tbody>\n",
       "</table>\n",
       "</div>"
      ],
      "text/plain": [
       "       country continent  year  lifeExp       pop   gdpPercap\n",
       "1694  Zimbabwe    Africa  1962   52.358   4277736  527.272182\n",
       "1695  Zimbabwe    Africa  1967   53.995   4995432  569.795071\n",
       "1696  Zimbabwe    Africa  1972   55.635   5861135  799.362176\n",
       "1697  Zimbabwe    Africa  1977   57.674   6642107  685.587682\n",
       "1698  Zimbabwe    Africa  1982   60.363   7636524  788.855041\n",
       "1699  Zimbabwe    Africa  1987   62.351   9216418  706.157306\n",
       "1700  Zimbabwe    Africa  1992   60.377  10704340  693.420786\n",
       "1701  Zimbabwe    Africa  1997   46.809  11404948  792.449960\n",
       "1702  Zimbabwe    Africa  2002   39.989  11926563  672.038623\n",
       "1703  Zimbabwe    Africa  2007   43.487  12311143  469.709298"
      ]
     },
     "execution_count": 37,
     "metadata": {},
     "output_type": "execute_result"
    }
   ],
   "source": [
    "df.tail(10)"
   ]
  }
 ],
 "metadata": {
  "kernelspec": {
   "display_name": "Python 3.8.5 32-bit",
   "language": "python",
   "name": "python3"
  },
  "language_info": {
   "codemirror_mode": {
    "name": "ipython",
    "version": 3
   },
   "file_extension": ".py",
   "mimetype": "text/x-python",
   "name": "python",
   "nbconvert_exporter": "python",
   "pygments_lexer": "ipython3",
   "version": "3.8.5"
  },
  "orig_nbformat": 4,
  "vscode": {
   "interpreter": {
    "hash": "6d1e45cadc3597bb8b6600530fbdf8c3eefe919a24ef54d9d32b318795b772e0"
   }
  }
 },
 "nbformat": 4,
 "nbformat_minor": 2
}
