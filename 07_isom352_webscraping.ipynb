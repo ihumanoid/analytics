{
 "cells": [
  {
   "cell_type": "code",
   "execution_count": null,
   "metadata": {},
   "outputs": [],
   "source": [
    "#%pip install requests\n",
    "#%pip install bs4\n",
    "\n",
    "import requests\n",
    "url = \"https://www.rottentomatoes.com/m/hocus_pocus_2/reviews\"\n",
    "m = requests.get(url)\n",
    "print(m.text)"
   ]
  },
  {
   "cell_type": "code",
   "execution_count": null,
   "metadata": {},
   "outputs": [],
   "source": [
    "from bs4 import BeautifulSoup\n",
    "soup = BeautifulSoup(m.text,'html.parser')\n",
    "rev = soup.find(\"div\",{\"class\":\"the_review\"})\n",
    "print(rev)"
   ]
  },
  {
   "cell_type": "code",
   "execution_count": null,
   "metadata": {},
   "outputs": [],
   "source": [
    "rev2 = soup.findAll(\"div\",{\"class\":\"the_review\"})\n",
    "for i in rev2:\n",
    "    print(i.text.strip())"
   ]
  },
  {
   "cell_type": "code",
   "execution_count": null,
   "metadata": {},
   "outputs": [],
   "source": [
    "import requests\n",
    "url = \"https://forecast.weather.gov/MapClick.php?lat=33.74831000000006&lon=-84.39110999999997\"\n",
    "\n",
    "u = requests.get(url)\n",
    "h = u.text\n",
    "print(h)"
   ]
  },
  {
   "cell_type": "code",
   "execution_count": 29,
   "metadata": {},
   "outputs": [
    {
     "name": "stdout",
     "output_type": "stream",
     "text": [
      "<div class=\"pull-left\" id=\"current_conditions-summary\">\n",
      "<img alt=\"\" class=\"pull-left\" src=\"newimages/large/few.png\"/>\n",
      "<p class=\"myforecast-current\">A Few Clouds</p>\n",
      "<p class=\"myforecast-current-lrg\">52°F</p>\n",
      "<p class=\"myforecast-current-sm\">11°C</p>\n",
      "</div>\n"
     ]
    }
   ],
   "source": [
    "import requests\n",
    "url = \"https://forecast.weather.gov/MapClick.php?lat=33.74831000000006&lon=-84.39110999999997\"\n",
    "html = requests.get(url)\n",
    "#print(html.text)\n",
    "\n",
    "soup = BeautifulSoup(html.text, 'html.parser')\n",
    "weather = soup.find('div',{'id':'current_conditions-summary'})\n",
    "print(weather)\n"
   ]
  },
  {
   "cell_type": "code",
   "execution_count": null,
   "metadata": {},
   "outputs": [],
   "source": [
    "from bs4 import BeautifulSoup\n",
    "import re\n",
    "#<p class=\"myforecast-current-lrg\">51°F</p>\n",
    "soup = BeautifulSoup(h, 'html.parser')\n",
    "we = soup.find('p',{'class':'myforecast-current-lrg'})\n",
    "print(we)\n",
    "print(re.findall(\"[0-9]+.F\", we.text))"
   ]
  }
 ],
 "metadata": {
  "kernelspec": {
   "display_name": "Python 3.8.5 32-bit",
   "language": "python",
   "name": "python3"
  },
  "language_info": {
   "codemirror_mode": {
    "name": "ipython",
    "version": 3
   },
   "file_extension": ".py",
   "mimetype": "text/x-python",
   "name": "python",
   "nbconvert_exporter": "python",
   "pygments_lexer": "ipython3",
   "version": "3.8.5"
  },
  "orig_nbformat": 4,
  "vscode": {
   "interpreter": {
    "hash": "6d1e45cadc3597bb8b6600530fbdf8c3eefe919a24ef54d9d32b318795b772e0"
   }
  }
 },
 "nbformat": 4,
 "nbformat_minor": 2
}
